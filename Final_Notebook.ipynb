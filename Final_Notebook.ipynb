{
  "cells": [
    {
      "attachments": {},
      "cell_type": "markdown",
      "metadata": {
        "id": "ek3uqc2NPAq6"
      },
      "source": [
        "# $\\color{palevioletred}{\\text{Negation and Uncertainty Detection: Rule-Based and Deep Learning Approaches}}$\n",
        "\n",
        "---\n",
        "\n",
        "## Project Description\n",
        "\n",
        "---\n",
        "\n",
        "The project focuses on developing effective methods for detecting negation and uncertainty cues in natural language text. It employs both rule-based and deep learning approaches to tackle this task.\n",
        "\n",
        "In the rule-based approach, a set of predefined linguistic rules and patterns are designed to identify and extract negation and uncertainty cues.\n",
        "\n",
        "In contrast, the deep learning approach utilizes neural network models. This models are trained using labeled data, where input text samples are associated with annotations indicating the presence of negation and uncertainty cues, as well as their scopes. \n",
        "\n",
        "The project's ultimate goal is to develop a robust and accurate system for negation and uncertainty detection in natural language. "
      ]
    },
    {
      "attachments": {},
      "cell_type": "markdown",
      "metadata": {},
      "source": [
        "---\n",
        "\n",
        "## Initialization\n",
        "\n",
        "---"
      ]
    },
    {
      "attachments": {},
      "cell_type": "markdown",
      "metadata": {},
      "source": [
        "### $\\color{palevioletred}{\\text{(1) Loading Modules and Dependencies}}$"
      ]
    },
    {
      "cell_type": "code",
      "execution_count": null,
      "metadata": {
        "id": "rGnM-XgbShPl"
      },
      "outputs": [],
      "source": [
        "import sys\n",
        "!{sys.executable} -m pip install spacy\n",
        "!{sys.executable} -m pip install negspacy\n",
        "!{sys.executable} -m pip install spacy_stanza "
      ]
    },
    {
      "cell_type": "code",
      "execution_count": null,
      "metadata": {
        "id": "sRu94NZ0vDSO"
      },
      "outputs": [],
      "source": [
        "!pip install wandb"
      ]
    },
    {
      "cell_type": "code",
      "execution_count": 31,
      "metadata": {
        "id": "GuQ-_-apNwUa"
      },
      "outputs": [],
      "source": [
        "#Needed libraries\n",
        "\n",
        "from torch.utils.data import Dataset\n",
        "from torchtext.vocab import Vocab\n",
        "from collections import Counter\n",
        "import matplotlib.pyplot as plt\n",
        "\n",
        "import numpy as np\n",
        "import json\n",
        "\n",
        "import wandb\n",
        "\n",
        "import spacy # to build a nlp pipeline\n",
        "import stanza # for named entity recognition\n",
        "import spacy_stanza\n",
        "\n",
        "import torch\n",
        "import torch.nn as nn\n",
        "import torch.optim as optim\n",
        "from torch.utils.data import DataLoader\n",
        "import torchtext\n",
        "\n",
        "import pickle\n",
        "import os\n",
        "\n",
        "from sklearn.model_selection import train_test_split\n",
        "from sklearn.metrics import confusion_matrix, classification_report, ConfusionMatrixDisplay"
      ]
    },
    {
      "attachments": {},
      "cell_type": "markdown",
      "metadata": {
        "id": "pvxkBtHPRBe6"
      },
      "source": [
        "---\n",
        "\n",
        "## Rule-Based Approach\n",
        "\n",
        "---"
      ]
    },
    {
      "attachments": {},
      "cell_type": "markdown",
      "metadata": {},
      "source": [
        "### $\\color{palevioletred}{\\text{(1) First attempt}}$"
      ]
    },
    {
      "cell_type": "code",
      "execution_count": null,
      "metadata": {
        "id": "I3jMw8YMRTPm"
      },
      "outputs": [],
      "source": [
        "#code window stuff"
      ]
    },
    {
      "attachments": {},
      "cell_type": "markdown",
      "metadata": {
        "id": "hgH0G6CKRYFc"
      },
      "source": [
        "### $\\color{palevioletred}{\\text{(2) Second attempt: Improving}}$\n",
        "\n",
        "In order to improve the Rule-Based system performance, we decided to change the way of recognizing the scopes. Now, the negations are equally detected but for the scope detection we take into consideration the dependency parse trees. Then, we are able to find the nearest verb or adjective affected by the negation and, as a consequence, we can more precisely identify the scope.\n",
        "\n",
        "- Loading spacy_stanza pipeline\n",
        "\n",
        "We will be using Spacy Stanza, a combination of SpaCy and Stanza libraries. This library allow us to perform a wide range of NLP tasks with ease."
      ]
    },
    {
      "cell_type": "code",
      "execution_count": null,
      "metadata": {
        "id": "hAgKaQHVR-Ns"
      },
      "outputs": [],
      "source": [
        "nlp = spacy_stanza.load_pipeline('es')"
      ]
    },
    {
      "attachments": {},
      "cell_type": "markdown",
      "metadata": {
        "id": "fhCcgLJuMQa2"
      },
      "source": [
        "- Function definitions\n",
        "\n",
        "Function to cut the text, useful if we do not want certian characters. Not strictly necessary."
      ]
    },
    {
      "cell_type": "code",
      "execution_count": null,
      "metadata": {
        "id": "eOQ8aerqMPVS"
      },
      "outputs": [],
      "source": [
        "def cut_text(text):\n",
        " \n",
        "  # Find the index of the word to start the cut from\n",
        "  word_to_cut_from = \"informe\"\n",
        "  start_index = text.find(word_to_cut_from)\n",
        "\n",
        "  # Use string slicing to cut the string from the start index to the end\n",
        "  text = text[start_index:]\n",
        "\n",
        "  return text\n"
      ]
    },
    {
      "attachments": {},
      "cell_type": "markdown",
      "metadata": {
        "id": "ru4X45wiMPnF"
      },
      "source": [
        "Function to detect cues of both Negation (NEG) and Uncertainty (UNC)."
      ]
    },
    {
      "cell_type": "code",
      "execution_count": null,
      "metadata": {
        "id": "OIBQB69qMePL"
      },
      "outputs": [],
      "source": [
        "def detect_cues(text):\n",
        "\n",
        "    doc = nlp(text)\n",
        "    negation_indices = set() #Empty set, negation ind will be stored here\n",
        "    uncertainty_indices = set()\n",
        "\n",
        "    for token in doc:\n",
        "\n",
        "        if token.lemma_ in [\"no\", \"sin\", \"tampoco\", \"afebril\", \"ex\", \"negativo\", \"ausencia\", \"descarta\",\n",
        "                            \"niega\", \"inespecificos\", \"tampoco\", \"asintomatico\", \"imposibilidad\",\"atipicos\", \"sense\",\n",
        "                            \"neg\",\"ausente\",\"retira\",\"incapacidad\", \"falta\", \"insuficiencia\", \"inestabilidad\",\n",
        "                            \"negativas\",\"desaparicion\",\"desconocen\",\"rechaza\",\"negativa\"]:\n",
        "\n",
        "          negation_indices.add(token.i) \n",
        "        \n",
        "        if token.lemma_ in [\"sospecha\",\"duda\", \"probable\", \"compatible\", \"podria\", \"aparentemente\", \n",
        "                            \"sugiriendo\", \"dudosa\", \"sugestivo\"]:\n",
        "                            \n",
        "          uncertainty_indices.add(token.i) \n",
        "\n",
        "    labeled_tokens = []\n",
        "\n",
        "    for i, token in enumerate(doc):\n",
        "        if i in negation_indices:\n",
        "\n",
        "            labeled_tokens.append((token, \"NEG\"))\n",
        "\n",
        "        elif i in uncertainty_indices:\n",
        "            labeled_tokens.append((token, \"UNC\"))\n",
        "\n",
        "        else:\n",
        "            labeled_tokens.append((token, \"O\")) #Other if it is not\n",
        "\n",
        "    return labeled_tokens, negation_indices, uncertainty_indices"
      ]
    },
    {
      "attachments": {},
      "cell_type": "markdown",
      "metadata": {
        "id": "o48VZPZXMhFP"
      },
      "source": [
        "Function to detect scopes."
      ]
    },
    {
      "cell_type": "code",
      "execution_count": null,
      "metadata": {
        "id": "EhD859WQMglC"
      },
      "outputs": [],
      "source": [
        "def detect_scopes(text):\n",
        "\n",
        "    doc = nlp(text)\n",
        "    labels, negation_indices, uncertainty_indices = detect_cues(text)\n",
        "    scopes = [] #Store the cue-scope pairs\n",
        "      \n",
        "    for token in doc:\n",
        "        if token.i in negation_indices or token.i in uncertainty_indices: #Token is a cue?\n",
        "\n",
        "            # Find the nearest verb or adjective that the cue modifies, using dependency parse tree\n",
        "            target_token = token.head\n",
        "            while target_token.pos_ not in [\"VERB\", \"ADJ\"] and target_token != target_token.head:\n",
        "                target_token = target_token.head\n",
        "            \n",
        "            # Scope  -> Subtree of doc, wehere head = Target token\n",
        "            scope_start = target_token.left_edge.i\n",
        "            scope_end = target_token.right_edge.i + 1\n",
        "            scope = doc[scope_start:scope_end]\n",
        "        \n",
        "            if token.i in negation_indices:\n",
        "              for index in range(scope_start, scope_end):\n",
        "                if labels[index][1] != \"NEG\":\n",
        "                  labels[index] = (labels[index][0], \"NSCO\")\n",
        "\n",
        "            else:\n",
        "              for index in range(scope_start, scope_end):\n",
        "                if labels[index][1] != \"UNC\":\n",
        "                  labels[index] = (labels[index][0], \"USCO\")\n",
        "\n",
        "\n",
        "            scopes.append((token.lower_, scope.text))\n",
        "\n",
        "    \n",
        "    return scopes, labels"
      ]
    },
    {
      "attachments": {},
      "cell_type": "markdown",
      "metadata": {
        "id": "nNAZcbyoMtfF"
      },
      "source": [
        "Function to compute the labels using annotations from json file (true_labels).\n",
        "\n",
        "PARAMETERS: \n",
        "\n",
        "1. data - > All data extracted from json file.\n",
        "2. num_text - > Number of desired text."
      ]
    },
    {
      "cell_type": "code",
      "execution_count": null,
      "metadata": {
        "id": "yc-OddK0MuOM"
      },
      "outputs": [],
      "source": [
        "def test_data(data, num_text):\n",
        "\n",
        "  text = data[num_text][\"data\"][\"text\"]\n",
        "  labels = list(np.full(len(text), \"O\", dtype=str))\n",
        "\n",
        "  for value in data[num_text][\"predictions\"][0][\"result\"]:\n",
        "      \n",
        "      if value[\"value\"][\"labels\"][0]== \"NEG\":\n",
        "\n",
        "        start = value[\"value\"][\"start\"]\n",
        "        end = value[\"value\"][\"end\"]\n",
        "\n",
        "        #print(text[start:end])\n",
        "        labels[start:end] = [\"NEG\"] * (end - start)\n",
        "        #print(labels[start:end-1])\n",
        "      \n",
        "      elif value[\"value\"][\"labels\"][0]== \"UNC\":\n",
        "\n",
        "        start = value[\"value\"][\"start\"]\n",
        "        end = value[\"value\"][\"end\"]\n",
        "\n",
        "        #print(text[start:end])\n",
        "        labels[start:end] = [\"UNC\"] * (end - start)\n",
        "        #print(labels[start:end-1])\n",
        "\n",
        "  print(\"Completed (0)\")\n",
        "\n",
        "  doc = nlp(text)\n",
        "\n",
        "  print(\"Completed (1)\")\n",
        "  final_labels = []\n",
        "  \n",
        "  # Use a counter variable to keep track of the current position in the labels list\n",
        "  i = 0\n",
        "\n",
        "  for token in doc:\n",
        "    while text[i] == \" \": #IMPORTANT to handle spaces\n",
        "      i+=1\n",
        "\n",
        "    label = labels[i] # Get the label for the current token\n",
        "\n",
        "    #print(token, label, i)\n",
        "\n",
        "    final_labels.append((token.text, label))\n",
        "    i += len(token)\n",
        "\n",
        "  return final_labels"
      ]
    },
    {
      "attachments": {},
      "cell_type": "markdown",
      "metadata": {
        "id": "W12D4g8pMwMj"
      },
      "source": [
        "Same function as before, but now taking the scopes into account."
      ]
    },
    {
      "cell_type": "code",
      "execution_count": null,
      "metadata": {
        "id": "-IJkApXVMv4k"
      },
      "outputs": [],
      "source": [
        "def test_data_with_scopes(data, num_text):\n",
        "\n",
        "  text = data[num_text][\"data\"][\"text\"]\n",
        "  labels = list(np.full(len(text), \"O\", dtype=str))\n",
        "\n",
        "  for value in data[num_text][\"predictions\"][0][\"result\"]:\n",
        "      \n",
        "      if value[\"value\"][\"labels\"][0]== \"NEG\":\n",
        "\n",
        "        start = value[\"value\"][\"start\"]\n",
        "        end = value[\"value\"][\"end\"]\n",
        "\n",
        "        #print(text[start:end])\n",
        "        labels[start:end] = [\"NEG\"] * (end - start)\n",
        "        #print(labels[start:end-1])\n",
        "      \n",
        "      elif value[\"value\"][\"labels\"][0]== \"UNC\":\n",
        "\n",
        "        start = value[\"value\"][\"start\"]\n",
        "        end = value[\"value\"][\"end\"]\n",
        "\n",
        "        #print(text[start:end])\n",
        "        labels[start:end] = [\"UNC\"] * (end - start)\n",
        "        #print(labels[start:end-1])\n",
        "\n",
        "      elif value[\"value\"][\"labels\"][0]== \"USCO\":\n",
        "\n",
        "        start = value[\"value\"][\"start\"]\n",
        "        end = value[\"value\"][\"end\"]\n",
        "\n",
        "        #print(text[start:end])\n",
        "        labels[start:end] = [\"USCO\"] * (end - start)\n",
        "        #print(labels[start:end-1])\n",
        "      \n",
        "      elif value[\"value\"][\"labels\"][0]== \"NSCO\":\n",
        "\n",
        "        start = value[\"value\"][\"start\"]\n",
        "        end = value[\"value\"][\"end\"]\n",
        "\n",
        "        #print(text[start:end])\n",
        "        labels[start:end] = [\"NSCO\"] * (end - start)\n",
        "        #print(labels[start:end-1])\n",
        "\n",
        "  print(\"Completed (0)\")\n",
        "\n",
        "  doc = nlp(text)\n",
        "\n",
        "  print(\"Completed (1)\")\n",
        "  final_labels = []\n",
        "  \n",
        "  # Use a counter variable to keep track of the current position in the labels list\n",
        "  i = 0\n",
        "\n",
        "  for token in doc:\n",
        "    while text[i] == \" \": #IMPORTANT to handle spaces\n",
        "      i+=1\n",
        "\n",
        "    label = labels[i] # Get the label for the current token\n",
        "\n",
        "    #print(token, label, i)\n",
        "\n",
        "    final_labels.append((token.text, label))\n",
        "    i += len(token)\n",
        "\n",
        "  return final_labels"
      ]
    },
    {
      "attachments": {},
      "cell_type": "markdown",
      "metadata": {
        "id": "UbtqzyraM3FM"
      },
      "source": [
        "The following function is for evaluating the model in negation and uncertainty cues detection. \n",
        "\n",
        "PARAMETERS:\n",
        "\n",
        "1. prdicted_labels - > Labels predicted after processing\n",
        "2. true_labels - > Labels extracted from annotations\n",
        "3. cuetype - > \"NEG\" or \"UNC\" "
      ]
    },
    {
      "cell_type": "code",
      "execution_count": null,
      "metadata": {
        "id": "IFhDncm0M01u"
      },
      "outputs": [],
      "source": [
        "def evaluating_model (predicted_labels, true_labels, cuetype):\n",
        "\n",
        "    true_negatives_neg = 0\n",
        "    true_positives_neg = 0\n",
        "    false_positives_neg = 0\n",
        "    false_negatives_neg = 0\n",
        "    \n",
        "    for true_value, pred_value in zip(true_labels, predicted_labels):\n",
        "\n",
        "      #print(true_value[1], pred_value[1])\n",
        "\n",
        "      if true_value[1] == cuetype and pred_value[1] ==cuetype:\n",
        "        true_positives_neg +=1\n",
        "            \n",
        "      elif true_value[1] ==\"O\" and pred_value[1] ==\"O\":\n",
        "        true_negatives_neg +=1\n",
        "\n",
        "      elif true_value[1]==\"O\" and pred_value[1]==cuetype:\n",
        "        false_positives_neg+=1\n",
        "      \n",
        "      else:\n",
        "        false_negatives_neg+=1\n",
        "      \n",
        "    print(\"True Negatives:\",true_negatives_neg)\n",
        "    print(\"True Positives:\", true_positives_neg)\n",
        "    print(\"False Positives:\", false_positives_neg)\n",
        "    print(\"False Negatives:\",false_negatives_neg)\n",
        "\n",
        "    # Measures\n",
        "\n",
        "    denominator = true_positives_neg + false_positives_neg\n",
        "\n",
        "    if denominator == 0:\n",
        "        precision = 0\n",
        "    else:\n",
        "        precision = true_positives_neg / denominator\n",
        "\n",
        "    denominator = true_positives_neg + false_negatives_neg\n",
        "\n",
        "    if denominator == 0:\n",
        "        recall = 0\n",
        "    else:\n",
        "        recall = true_positives_neg / denominator\n",
        "\n",
        "    denominator = true_positives_neg + true_negatives_neg + false_positives_neg + false_negatives_neg\n",
        "\n",
        "    if denominator == 0:\n",
        "        f1_score = 0\n",
        "        accuracy = 0\n",
        "    else:\n",
        "        f1_score = 2 * (precision * recall) / (precision + recall)\n",
        "        accuracy = (true_positives_neg + true_negatives_neg) / denominator\n",
        "    \n",
        "    print(\"Evalutaion for\", cuetype, \":\")\n",
        "\n",
        "    x = PrettyTable()\n",
        "    x.field_names = [\"Measure\", \"Score\"]\n",
        "    x.add_row([\"Precision\", f\"{precision:.2f}\"])\n",
        "    x.add_row([\"Recall\", f\"{recall:.2f}\"])\n",
        "    x.add_row([\"F1-score\", f\"{f1_score:.2f}\"])\n",
        "    x.add_row([\"Accuracy\", f\"{accuracy:.2f}\"])\n",
        "\n",
        "    print(x)"
      ]
    },
    {
      "attachments": {},
      "cell_type": "markdown",
      "metadata": {
        "id": "QrpxF5tdM-iB"
      },
      "source": [
        "Same function as before, but now taking the scopes into account."
      ]
    },
    {
      "cell_type": "code",
      "execution_count": null,
      "metadata": {
        "id": "ZKiIVkCyM_NT"
      },
      "outputs": [],
      "source": [
        "def final_evaluation (predicted_labels, true_labels):\n",
        "\n",
        "    true_negatives = 0\n",
        "    true_positives= 0\n",
        "    false_positives = 0\n",
        "    false_negatives = 0\n",
        "    \n",
        "    for true_value, pred_value in zip(true_labels, predicted_labels):\n",
        "\n",
        "      #print(true_value[1], pred_value[1])\n",
        "\n",
        "      if true_value[1] == pred_value[1] and true_value[1]!= \"O\":\n",
        "        true_positives+=1\n",
        "            \n",
        "      elif true_value[1] == pred_value[1]:\n",
        "        true_negatives=1\n",
        "\n",
        "      elif true_value[1]==\"O\" and pred_value[1]!=\"O\":\n",
        "        false_positives+=1\n",
        "      \n",
        "      else:\n",
        "        false_negatives+=1\n",
        "      \n",
        "    print(\"True Negatives:\",true_negatives)\n",
        "    print(\"True Positives:\", true_positives)\n",
        "    print(\"False Positives:\", false_positives)\n",
        "    print(\"False Negatives:\",false_negatives)\n",
        "\n",
        "    # Measures\n",
        "\n",
        "    denominator = true_positives + false_positives\n",
        "\n",
        "    if denominator == 0:\n",
        "        precision = 0\n",
        "    else:\n",
        "        precision = true_positives / denominator\n",
        "\n",
        "    denominator = true_positives + false_negatives\n",
        "\n",
        "    if denominator == 0:\n",
        "        recall = 0\n",
        "    else:\n",
        "        recall = true_positives / denominator\n",
        "\n",
        "    denominator = true_positives + true_negatives + false_positives + false_negatives\n",
        "\n",
        "    if denominator == 0:\n",
        "        f1_score = 0\n",
        "        accuracy = 0\n",
        "    else:\n",
        "        f1_score = 2 * (precision * recall) / (precision + recall)\n",
        "        accuracy = (true_positives + true_negatives) / denominator\n",
        "\n",
        "    x = PrettyTable()\n",
        "    x.field_names = [\"Measure\", \"Score\"]\n",
        "    x.add_row([\"Precision\", f\"{precision:.2f}\"])\n",
        "    x.add_row([\"Recall\", f\"{recall:.2f}\"])\n",
        "    x.add_row([\"F1-score\", f\"{f1_score:.2f}\"])\n",
        "    x.add_row([\"Accuracy\", f\"{accuracy:.2f}\"])\n",
        "\n",
        "    print(x)"
      ]
    },
    {
      "attachments": {},
      "cell_type": "markdown",
      "metadata": {
        "id": "wqxF2UARNHOZ"
      },
      "source": [
        "Function to create a report:"
      ]
    },
    {
      "cell_type": "code",
      "execution_count": null,
      "metadata": {
        "id": "YKiixjV0ND_q"
      },
      "outputs": [],
      "source": [
        "def report(data):\n",
        "\n",
        "  i = 0\n",
        "  true_negatives = 0\n",
        "  true_positives = 0\n",
        "  false_positives = 0\n",
        "  false_negatives = 0\n",
        "\n",
        "  for d in data:\n",
        "\n",
        "    print(\"Playing with text\", i)\n",
        "\n",
        "    text = d[\"data\"][\"text\"]\n",
        "\n",
        "    scopes, scope_labels = detect_scopes(text)\n",
        "\n",
        "    real_labels = test_data_with_scopes(data, i)\n",
        "\n",
        "    print(\"Computed.\")\n",
        "    \n",
        "    for true_value, pred_value in zip(real_labels, scope_labels):\n",
        "\n",
        "      if true_value[1] == pred_value[1] and true_value[1]!= \"O\":\n",
        "        true_positives+=1\n",
        "            \n",
        "      elif true_value[1] == pred_value[1]:\n",
        "        true_negatives=1\n",
        "\n",
        "      elif true_value[1]==\"O\" and pred_value[1]!=\"O\":\n",
        "        false_positives+=1\n",
        "      \n",
        "      else:\n",
        "        false_negatives+=1\n",
        "        \n",
        "    i+=1\n",
        "\n",
        "  true_negatives /= i\n",
        "  true_positives /= i\n",
        "  false_positives /= i\n",
        "  false_negatives /= i\n",
        "\n",
        "  # Measures\n",
        "\n",
        "  denominator = true_positives + false_positives\n",
        "\n",
        "  if denominator == 0:\n",
        "    precision = 0\n",
        "  \n",
        "  else:\n",
        "    precision = true_positives / denominator\n",
        "\n",
        "  denominator = true_positives + false_negatives\n",
        "\n",
        "  if denominator == 0:\n",
        "    recall = 0\n",
        "\n",
        "  else:\n",
        "    recall = true_positives / denominator\n",
        "\n",
        "  denominator = true_positives + true_negatives + false_positives + false_negatives\n",
        "\n",
        "  if denominator == 0:\n",
        "    f1_score = 0\n",
        "    accuracy = 0\n",
        "\n",
        "  else:\n",
        "    f1_score = 2 * (precision * recall) / (precision + recall)\n",
        "    accuracy = (true_positives + true_negatives) / denominator\n",
        "\n",
        "  x = PrettyTable()\n",
        "  x.field_names = [\"Measure\", \"Score\"]\n",
        "  x.add_row([\"Precision\", f\"{precision:.2f}\"])\n",
        "  x.add_row([\"Recall\", f\"{recall:.2f}\"])\n",
        "  x.add_row([\"F1-score\", f\"{f1_score:.2f}\"])\n",
        "  x.add_row([\"Accuracy\", f\"{accuracy:.2f}\"])\n",
        "\n",
        "  print(x)"
      ]
    },
    {
      "attachments": {},
      "cell_type": "markdown",
      "metadata": {
        "id": "3PzP_nptNVUb"
      },
      "source": [
        "- Evaluation"
      ]
    },
    {
      "cell_type": "code",
      "execution_count": null,
      "metadata": {
        "id": "ehT0vhxGNbRJ"
      },
      "outputs": [],
      "source": [
        "#First, take one text from the sample \n",
        "text = data[0][\"data\"][\"text\"]"
      ]
    },
    {
      "cell_type": "code",
      "execution_count": null,
      "metadata": {
        "id": "IrBkM_QDOARl"
      },
      "outputs": [],
      "source": [
        "#Then, does the cues detection work?\n",
        "pred_labels, neg_cues, unc_cues = detect_cues(text)"
      ]
    },
    {
      "cell_type": "code",
      "execution_count": null,
      "metadata": {
        "id": "8zLJ72twODxM"
      },
      "outputs": [],
      "source": [
        "#Finally, are scopes correctly detected?\n",
        "scopes, scope_labels = detect_scopes(text)"
      ]
    },
    {
      "cell_type": "code",
      "execution_count": null,
      "metadata": {
        "id": "pXVqYhjfOF0J"
      },
      "outputs": [],
      "source": [
        "#Just some visualization\n",
        "scopes"
      ]
    },
    {
      "cell_type": "code",
      "execution_count": null,
      "metadata": {
        "id": "HhyCtga9OIHE"
      },
      "outputs": [],
      "source": [
        "scope_labels[:3]"
      ]
    },
    {
      "attachments": {},
      "cell_type": "markdown",
      "metadata": {
        "id": "yHHL__ctOSQ-"
      },
      "source": [
        "Here, we can see that the algorithm is able to capture all the negation and uncertainty cues in text 0:"
      ]
    },
    {
      "cell_type": "code",
      "execution_count": null,
      "metadata": {
        "id": "KB3vPBpSOS8j"
      },
      "outputs": [],
      "source": [
        "real_labels = test_data(data, 0)\n",
        "evaluating_model(real_labels, pred_labels, \"NEG\")"
      ]
    },
    {
      "attachments": {},
      "cell_type": "markdown",
      "metadata": {
        "id": "BrnEQ58ZObuZ"
      },
      "source": [
        "Here, the algorithm final performance in text 0. It will be different for all texts, due to the number of appearances of negations and uncertanty cues. At the end we can know the final measures by computing the mean for all the texts."
      ]
    },
    {
      "cell_type": "code",
      "execution_count": null,
      "metadata": {
        "id": "4Oqip7ZjOyVm"
      },
      "outputs": [],
      "source": [
        "real_labels = test_data_with_scopes(data, 0)"
      ]
    },
    {
      "cell_type": "code",
      "execution_count": null,
      "metadata": {
        "id": "kxJeX2vkO3IX"
      },
      "outputs": [],
      "source": [
        "final_evaluation(real_labels,scope_labels)"
      ]
    },
    {
      "attachments": {},
      "cell_type": "markdown",
      "metadata": {
        "id": "9Y59ANpNRUaT"
      },
      "source": [
        "---\n",
        "\n",
        "## Deep Learning Approach\n",
        "\n",
        "---\n"
      ]
    },
    {
      "attachments": {},
      "cell_type": "markdown",
      "metadata": {},
      "source": [
        "### $\\color{palevioletred}{\\text{(1) First attempt: Char-Based Approach}}$\n",
        "\n",
        "\n",
        "comment lo de la loss conjunta per evitar el NONE dolent pepe guapo"
      ]
    },
    {
      "cell_type": "code",
      "execution_count": null,
      "metadata": {
        "id": "zCDPlxh5SVEh"
      },
      "outputs": [],
      "source": [
        "# code here"
      ]
    },
    {
      "attachments": {},
      "cell_type": "markdown",
      "metadata": {
        "id": "B9_ejDI6SXCp"
      },
      "source": [
        "### $\\color{palevioletred}{\\text{(2) Second attempt: Word-Based Approach}}$\n",
        "\n",
        "To try to improve the performance of the alorithm, we decided to explore a different approach. By treating words as individual entities and understanding their relationships within the context of a sentence, we anticipate improved accuracy and a richer understanding of textual content.\n",
        "\n",
        "- Dataset Class\n",
        " \n",
        "First of all, a large dataset is created using the texts and annotations from the json file. Every text is tokenized and assigned its corresponding label (NEG, UNC, NSCO, USCO or O)."
      ]
    },
    {
      "cell_type": "code",
      "execution_count": 4,
      "metadata": {
        "id": "AKGKjNb4Nxhy"
      },
      "outputs": [],
      "source": [
        "class using_words (Dataset):\n",
        "\n",
        "    def __init__(self, data, texts_to_process = 5, start = 0):\n",
        "\n",
        "        self.word_tokenized_data = []\n",
        "        self.labels = []\n",
        "        self.vocab = []\n",
        "        self.label_vocab = []\n",
        "\n",
        "        processed_texts = 0 \n",
        "\n",
        "        nlp = spacy_stanza.load_pipeline('es') #Loading a Spacy-Stanza pipeline for the Spanish language\n",
        "\n",
        "        for i in range(start, start+texts_to_process):\n",
        "\n",
        "            text = data[i][\"data\"][\"text\"] #Iterating for all texts in json file\n",
        "            label = list(np.full(len(text), \"O\", dtype=str))\n",
        "\n",
        "            #Creating labels for each char\n",
        "\n",
        "            for value in data[i][\"predictions\"][0][\"result\"]:\n",
        "\n",
        "                if value[\"value\"][\"labels\"][0]== \"NEG\":\n",
        "\n",
        "                    start = value[\"value\"][\"start\"]\n",
        "                    end = value[\"value\"][\"end\"]\n",
        "\n",
        "                    #print(text[start:end])\n",
        "                    label[start:end] = [\"NEG\"] * (end - start)\n",
        "                    #print(labels[start:end-1])\n",
        "                \n",
        "                elif value[\"value\"][\"labels\"][0]== \"UNC\":\n",
        "\n",
        "                    start = value[\"value\"][\"start\"]\n",
        "                    end = value[\"value\"][\"end\"]\n",
        "\n",
        "                    #print(text[start:end])\n",
        "                    label[start:end] = [\"UNC\"] * (end - start)\n",
        "                    #print(labels[start:end-1])\n",
        "\n",
        "                elif value[\"value\"][\"labels\"][0]== \"USCO\":\n",
        "\n",
        "                    start = value[\"value\"][\"start\"]\n",
        "                    end = value[\"value\"][\"end\"]\n",
        "\n",
        "                    #print(text[start:end])\n",
        "                    label[start:end] = [\"USCO\"] * (end - start)\n",
        "                    #print(labels[start:end-1])\n",
        "                \n",
        "                elif value[\"value\"][\"labels\"][0]== \"NSCO\":\n",
        "\n",
        "                    start = value[\"value\"][\"start\"]\n",
        "                    end = value[\"value\"][\"end\"]\n",
        "\n",
        "                    #print(text[start:end])\n",
        "                    label[start:end] = [\"NSCO\"] * (end - start)\n",
        "                    #print(labels[start:end-1])\n",
        "\n",
        "            \n",
        "            #Text tokenization\n",
        "\n",
        "            doc = nlp(text)\n",
        "\n",
        "            #Update the labels for every token\n",
        "\n",
        "            i = 0\n",
        "\n",
        "            self.word_tokenized_data.append(\"<start>\")\n",
        "            self.labels.append(\"O\")\n",
        "\n",
        "            #print(self.word_tokenized_data)\n",
        "\n",
        "            for token in doc:\n",
        "\n",
        "                while text[i] == \" \":  #IMPORTANT to handle spaces\n",
        "                    i+=1\n",
        "\n",
        "                token_label = label[i]  # Get the label for the current token\n",
        "\n",
        "                self.word_tokenized_data.append(token.text)\n",
        "                self.labels.append(token_label)\n",
        "\n",
        "                i += len(token)\n",
        "\n",
        "            self.word_tokenized_data.append(\"<end>\")\n",
        "            self.labels.append(\"O\")\n",
        "\n",
        "            processed_texts += 1  # Increment the counter\n",
        "\n",
        "            if processed_texts == texts_to_process:  # Stop processing after 5 texts\n",
        "                break\n",
        "\n",
        "    def build_vocab(self):\n",
        "        tokens = self.word_tokenized_data\n",
        "        word_counts = Counter(tokens)\n",
        "        self.vocab = list(word_counts.keys())\n",
        "        self.vocab.append(\"<unk>\")\n",
        "\n",
        "        labels = self.labels\n",
        "        label_counts = Counter(labels)\n",
        "        self.label_vocab = list(label_counts.keys())\n",
        "    \n",
        "    def word_to_index(self, word):\n",
        "       # return self.vocab.index(word) if word in self.vocab else self.vocab.index(\"<unk>\")\n",
        "        return self.vocab.index(word) if word in self.vocab else self.vocab.index(\"<unk>\")\n",
        "    \n",
        "    def index_to_word(self, index):\n",
        "        return self.vocab[index]\n",
        "\n",
        "    def label_to_index(self, label):\n",
        "        return self.label_vocab.index(label)\n",
        "\n",
        "    def index_to_label(self, index):\n",
        "        return self.label_vocab[index]\n",
        "\n",
        "    def __len__(self):\n",
        "        return len(self.word_tokenized_data)\n",
        "\n",
        "    def __getitem__(self, index):\n",
        "        tokenized_sentence = self.word_tokenized_data[index]\n",
        "        label = self.labels[index]\n",
        "\n",
        "        return tokenized_sentence, label\n"
      ]
    },
    {
      "attachments": {},
      "cell_type": "markdown",
      "metadata": {
        "id": "Zsb1bz2PUUxF"
      },
      "source": [
        "- Loading the data"
      ]
    },
    {
      "cell_type": "code",
      "execution_count": 5,
      "metadata": {
        "id": "2VMoOK6AUFct"
      },
      "outputs": [],
      "source": [
        "with open(\"negacio_uab_revised_version.json\", \"r\", encoding=\"utf-8\") as f:\n",
        "    data = json.load(f)"
      ]
    },
    {
      "attachments": {},
      "cell_type": "markdown",
      "metadata": {
        "id": "MLnPAV9YUULA"
      },
      "source": [
        "- Generating dataset\n",
        "\n",
        "The code below creates a dataset if it has not been created. However, if it already exists it loads it."
      ]
    },
    {
      "cell_type": "code",
      "execution_count": 32,
      "metadata": {
        "id": "DBZeDU8UcCxv"
      },
      "outputs": [],
      "source": [
        "preprocessed_file = \"train_dataset.pkl\" #70% of the data\n",
        "\n",
        "if os.path.exists(preprocessed_file):\n",
        "    # Load the preprocessed dataset from the file\n",
        "    with open(preprocessed_file, \"rb\") as file:\n",
        "        dataset = pickle.load(file)\n",
        "else:\n",
        "    # Preprocess the dataset\n",
        "    dataset = using_words(data,texts_to_process = 223, start = 0)\n",
        "    dataset.build_vocab()\n",
        "\n",
        "    # Save the preprocessed dataset to a file\n",
        "    with open(preprocessed_file, \"wb\") as file:\n",
        "        pickle.dump(dataset, file)"
      ]
    },
    {
      "cell_type": "code",
      "execution_count": 33,
      "metadata": {
        "id": "DSOLCv4mmOsB"
      },
      "outputs": [],
      "source": [
        "preprocessed_file = \"val_dataset.pkl\" #30% of the data\n",
        "\n",
        "if os.path.exists(preprocessed_file):\n",
        "    # Load the preprocessed dataset from the file\n",
        "    with open(preprocessed_file, \"rb\") as file:\n",
        "        dataset_val = pickle.load(file)\n",
        "else:\n",
        "    # Preprocess the dataset\n",
        "    dataset_val = using_words(data,texts_to_process = 90, start = 223)\n",
        "    dataset_val.build_vocab()\n",
        "\n",
        "    # Save the preprocessed dataset to a file\n",
        "    with open(preprocessed_file, \"wb\") as file:\n",
        "        pickle.dump(dataset, file)"
      ]
    },
    {
      "attachments": {},
      "cell_type": "markdown",
      "metadata": {
        "id": "Wo6oM-6sWVqj"
      },
      "source": [
        "- Dataloader"
      ]
    },
    {
      "cell_type": "code",
      "execution_count": 34,
      "metadata": {
        "id": "na_P8OhpVTcc"
      },
      "outputs": [],
      "source": [
        "# Define the batch size for training and validation\n",
        "batch_size = 64\n",
        "\n",
        "# Create the data loaders for training and validation\n",
        "train_dataloader = DataLoader(dataset, batch_size=batch_size, shuffle=False) #Shuffle false, order is important\n",
        "val_dataloader = DataLoader(dataset_val, batch_size=batch_size, shuffle=False) \n"
      ]
    },
    {
      "attachments": {},
      "cell_type": "markdown",
      "metadata": {
        "id": "jpbtHr_YWrdw"
      },
      "source": [
        "Check it was correctly created:"
      ]
    },
    {
      "cell_type": "code",
      "execution_count": null,
      "metadata": {
        "colab": {
          "base_uri": "https://localhost:8080/"
        },
        "id": "AKW6tq6RqlDf",
        "outputId": "ff6c53cf-f3c1-4a7a-b6f6-7e5ac424503c"
      },
      "outputs": [
        {
          "name": "stdout",
          "output_type": "stream",
          "text": [
            "Batch Inputs:\n",
            "('<start>', 'nº', 'historia', 'clinica', ':', '**', '***', '***', 'nºepisodi', ':', '********', 'sexe', ':', 'dona', 'data', 'de', 'naixement', ':', '06.06.1938', 'edat', ':', '79', 'anys', 'procedencia', 'domicil/res', '.soc', 'servei', 'psiquiatria', 'data', \"d'ingres\", '10.05.2018', 'data', \"d'alta\", '10.05.2018', '16:46:41', 'ates', 'per', '****************', ',', '************', ';', '*************', ',', 'assumpta', 'informe', \"d'alta\", \"d'hospitalitzacio\", 'motiu', \"d'ingres\", 'paciente', 'de', '79', 'años', 'que', 'acude', 'derivada', 'a', 'urgencias', 'de', 'psiquiatria', 'tras', 'sim', '.', 'antecedents')\n",
            "Batch Labels:\n",
            "('O', 'O', 'O', 'O', 'O', 'O', 'O', 'O', 'O', 'O', 'O', 'O', 'O', 'O', 'O', 'O', 'O', 'O', 'O', 'O', 'O', 'O', 'O', 'O', 'O', 'O', 'O', 'O', 'O', 'O', 'O', 'O', 'O', 'O', 'O', 'O', 'O', 'O', 'O', 'O', 'O', 'O', 'O', 'O', 'O', 'O', 'O', 'O', 'O', 'O', 'O', 'O', 'O', 'O', 'O', 'O', 'O', 'O', 'O', 'O', 'O', 'O', 'O', 'O')\n"
          ]
        }
      ],
      "source": [
        "# Iterate over one batch\n",
        "for batch_inputs, batch_labels in train_dataloader:\n",
        "    # Print the batch inputs and labels\n",
        "    print(\"Batch Inputs:\")\n",
        "    print(batch_inputs)\n",
        "    print(\"Batch Labels:\")\n",
        "    print(batch_labels)\n",
        "    break # Break after printing the first batch"
      ]
    },
    {
      "attachments": {},
      "cell_type": "markdown",
      "metadata": {
        "id": "bP9WkPjWW_s2"
      },
      "source": [
        "Words and labels should have the same size:"
      ]
    },
    {
      "cell_type": "code",
      "execution_count": null,
      "metadata": {
        "colab": {
          "base_uri": "https://localhost:8080/"
        },
        "id": "YcEyUWPNUJ6n",
        "outputId": "e9db32f6-c78c-496e-dd4f-49ec1df626aa"
      },
      "outputs": [
        {
          "data": {
            "text/plain": [
              "9664"
            ]
          },
          "execution_count": 11,
          "metadata": {},
          "output_type": "execute_result"
        }
      ],
      "source": [
        "len(dataset.word_tokenized_data)"
      ]
    },
    {
      "cell_type": "code",
      "execution_count": null,
      "metadata": {
        "colab": {
          "base_uri": "https://localhost:8080/"
        },
        "id": "WycpIcKQUP98",
        "outputId": "61a8cbb9-acd7-435c-be08-607385bf9ac0"
      },
      "outputs": [
        {
          "data": {
            "text/plain": [
              "9664"
            ]
          },
          "execution_count": 12,
          "metadata": {},
          "output_type": "execute_result"
        }
      ],
      "source": [
        "len(dataset.labels)"
      ]
    },
    {
      "attachments": {},
      "cell_type": "markdown",
      "metadata": {
        "id": "Q8ck6hjgXCmZ"
      },
      "source": [
        "- Negation Detection Model\n",
        "\n",
        "The `NegationDetectionModel` is implemented as a subclass of the `nn.Module` class in PyTorch. The model takes as input various parameters: `vocab_size`, `embedding_dim`, `hidden_dim`, and `num_classes`.\n",
        "\n",
        "The model architecture consists of the following components:\n",
        "\n",
        "1. Embedding Layer: The model begins with an `Embedding` layer, which is responsible for converting the input tokens into dense vector representations called word embeddings. The `vocab_size` parameter determines the number of unique tokens in the vocabulary, while the `embedding_dim` specifies the dimensionality of the word embeddings.\n",
        "\n",
        "2. Recurrent Neural Network (RNN): The embedded tokens are then fed into a recurrent layer, specifically a `GRU` (Gated Recurrent Unit). The RNN captures sequential dependencies in the input by processing the tokens one by one in the order they appear. The `hidden_dim` parameter specifies the dimensionality of the hidden state of the GRU.\n",
        "\n",
        "3. Fully Connected Layer: The outputs from the RNN are passed through a linear transformation using a `Linear` layer (`fc`). This layer maps the hidden state representations to the `num_classes` parameter, which represents the number of classes or labels the model aims to predict.\n",
        "\n",
        "4. Softmax Activation: To obtain probability distributions over the classes, a `Softmax` activation function is applied to the logits (the output of the linear layer). The `softmax` operation ensures that the predicted probabilities sum up to 1 and provides a normalized representation of the model's confidence for each class."
      ]
    },
    {
      "cell_type": "code",
      "execution_count": 9,
      "metadata": {
        "id": "wy44X8jwrQ6n"
      },
      "outputs": [],
      "source": [
        "class NegationDetectionModel(nn.Module):\n",
        "    def __init__(self, vocab_size, embedding_dim, hidden_dim, num_classes):\n",
        "\n",
        "        super(NegationDetectionModel, self).__init__()\n",
        "        #Change whatever you want here\n",
        "        self.embedding = nn.Embedding(vocab_size, embedding_dim)\n",
        "        self.rnn = nn.GRU(embedding_dim, hidden_dim, batch_first=True)\n",
        "        self.fc = nn.Linear(hidden_dim, num_classes)\n",
        "        self.softmax = nn.Softmax(dim=-1)\n",
        "\n",
        "    def forward(self, inputs):\n",
        "\n",
        "        embedded = self.embedding(inputs)\n",
        "        outputs, _ = self.rnn(embedded)\n",
        "        logits = self.fc(outputs)\n",
        "        probabilities = self.softmax(logits)\n",
        "        return probabilities"
      ]
    },
    {
      "attachments": {},
      "cell_type": "markdown",
      "metadata": {
        "id": "HvEFTE3MW0xD"
      },
      "source": [
        "- Parameters"
      ]
    },
    {
      "cell_type": "code",
      "execution_count": 43,
      "metadata": {
        "id": "cvhVKnbrtF7C"
      },
      "outputs": [],
      "source": [
        "#Change whatever you want here\n",
        "\n",
        "vocab_size = len(dataset.vocab)\n",
        "embedding_dim = 50 \n",
        "hidden_dim = 150\n",
        "num_classes = 5  # NEG, UNC, NSCO, USCO, and O.\n",
        "\n",
        "model = NegationDetectionModel(vocab_size, embedding_dim, hidden_dim, num_classes)\n",
        "\n",
        "criterion = nn.CrossEntropyLoss()\n",
        "optimizer = torch.optim.Adam(model.parameters(), lr=0.001)  # Adjust the learning rate if needed"
      ]
    },
    {
      "attachments": {},
      "cell_type": "markdown",
      "metadata": {
        "id": "pFIN6WhYXdAh"
      },
      "source": [
        "- Labels and words to indices: Preparing them to be passed to the model."
      ]
    },
    {
      "cell_type": "code",
      "execution_count": 36,
      "metadata": {
        "id": "U2xyvJeBvGGJ"
      },
      "outputs": [],
      "source": [
        "batch_inputs_indices = []\n",
        "batch_labels_indices =  []\n",
        "\n",
        "for batch_inputs, batch_labels in train_dataloader:\n",
        "\n",
        "  for token in batch_inputs:\n",
        "    batch_inputs_indices.append(dataset.word_to_index(token))\n",
        "\n",
        "  for label in batch_labels:\n",
        "    batch_labels_indices.append(dataset.label_to_index(label))"
      ]
    },
    {
      "cell_type": "code",
      "execution_count": null,
      "metadata": {
        "colab": {
          "base_uri": "https://localhost:8080/"
        },
        "id": "c3Ll_vte5oCF",
        "outputId": "5a487dd0-efc3-4182-a8fd-ddd49723ea7a"
      },
      "outputs": [
        {
          "name": "stdout",
          "output_type": "stream",
          "text": [
            "[0, 1, 2, 3, 4, 5, 6, 6, 7, 4, 8, 9, 4, 10, 11, 12, 13, 4, 14, 15, 4, 16, 17, 18, 19, 20, 21, 22, 11, 23, 24, 11, 25, 24, 26, 27, 28, 29, 30, 31, 32, 33, 30, 34, 35, 25, 36, 37, 23, 38, 12, 16, 39, 40, 41, 42, 43, 44, 12, 22, 45, 46, 47, 48, 49, 50, 51, 52, 53, 49, 54, 55, 56, 57, 58, 59, 60, 61, 47, 49, 62, 56, 57, 63, 47, 49, 64, 65, 66, 12, 67, 68, 69, 56, 57, 59, 70, 71, 72, 47, 73, 74, 75, 59, 76, 12, 77, 78, 56, 79, 80, 43, 81, 12, 82, 83, 84, 85, 30, 59, 86, 12, 87, 30, 88, 30, 89, 90, 43, 91, 85, 71, 91, 83, 92, 93, 94, 47, 95, 96, 43, 97, 98, 99, 100, 101, 57, 63, 59, 102, 103, 104, 47, 105, 35, 12, 79, 106, 12, 97, 12, 107, 12, 108, 109, 110, 95, 12, 106, 111, 43, 112, 113, 12, 79, 114, 66, 115, 59, 57, 43, 79, 106, 12, 72, 116, 117, 118, 30, 71, 95, 119, 43, 120, 121, 122, 47, 123, 56, 124, 12, 125, 121, 126, 127, 128, 70, 30, 129, 30, 130, 131, 43, 132, 47, 133, 4, 134, 30, 50, 135, 47, 136, 137, 138, 59, 79, 40, 136, 139, 56, 140, 47, 141, 56, 142, 143, 144, 145, 47, 146, 147, 148, 47, 149, 150, 70, 151, 117, 152, 153, 154, 30, 155, 156, 117, 152, 153, 154, 30, 157, 158, 117, 152, 153, 154, 30, 159, 116, 117, 152, 153, 154, 30, 160, 161, 117, 152, 153, 154, 30, 162, 163, 117, 152, 153, 154, 30, 72, 116, 117, 152, 153, 154, 30, 164, 117, 152, 153, 154, 47, 165, 166, 38, 40, 41, 43, 44, 12, 22, 167, 168, 169, 170, 56, 44, 171, 30, 45, 46, 59, 172, 71, 162, 47, 82, 38, 73, 173, 46, 56, 174, 12, 175, 30, 176, 177, 178, 179, 180, 181, 47, 45, 182, 183, 56, 184, 185, 186, 187, 43, 188, 189, 190, 47, 191, 192, 193, 43, 91, 194, 43, 44, 12, 22, 4, 195, 71, 196, 47, 197, 56, 60, 198, 47, 199, 200, 47, 201, 202, 47, 203, 204, 205, 206, 197, 56, 60, 198, 47, 207, 208, 71, 209, 30, 210, 30, 50, 211, 56, 79, 212, 12, 79, 213, 47, 214, 215, 71, 216, 47, 217, 218, 219, 30, 176, 220, 211, 221, 56, 79, 222, 12, 223, 47, 176, 179, 180, 224, 56, 79, 225, 166, 47, 226, 227, 228, 47, 229, 230, 47, 176, 211, 56, 82, 231, 232, 233, 211, 234, 12, 82, 235, 236, 47, 176, 237, 232, 238, 47, 239, 47, 240, 47, 241, 12, 82, 242, 243, 47, 244, 245, 47, 246, 5, 6, 6, 247, 8, 248, 249, 250, 251, 252, 3, 82, 38, 95, 253, 226, 71, 254, 56, 255, 225, 30, 256, 137, 214, 215, 71, 216, 43, 91, 257, 166, 47, 258, 146, 147, 259, 30, 260, 40, 261, 56, 79, 214, 47, 139, 59, 184, 185, 262, 263, 12, 264, 56, 184, 185, 56, 265, 12, 266, 142, 100, 267, 268, 79, 225, 30, 269, 40, 82, 38, 270, 115, 271, 47, 272, 273, 274, 79, 275, 43, 82, 276, 40, 277, 82, 38, 30, 278, 279, 280, 121, 79, 281, 12, 82, 282, 47, 139, 59, 283, 40, 95, 284, 12, 285, 59, 79, 286, 287, 47, 288, 187, 43, 184, 185, 144, 289, 47, 290, 43, 291, 4, 43, 292, 246, 5, 6, 6, 247, 8, 248, 249, 293, 251, 294, 0, 1, 2, 3, 4, 5, 6, 6, 7, 4, 8, 9, 4, 10, 11, 12, 13, 4, 295, 15, 4, 296, 17, 18, 19, 20, 21, 297, 11, 23, 298, 11, 25, 299, 300, 27, 28, 33, 30, 301, 35, 25, 36, 37, 23, 302, 303, 304, 305, 47, 48, 176, 306, 307, 4, 308, 309, 4, 305, 310, 124, 47, 311, 312, 313, 121, 302, 314, 47, 165, 166, 38, 42, 12, 315, 316, 12, 317, 121, 318, 319, 12, 154, 12, 68, 12, 302, 320, 12, 79, 310, 12, 124, 30, 40, 321, 322, 311, 121, 323, 324, 325, 30, 326, 327, 82, 38, 328, 329, 330, 178, 331, 12, 332, 56, 333, 314, 334, 47, 335, 336, 337, 338, 339, 340, 4, 341, 342, 343, 191, 192, 344, 345, 71, 346, 347, 4, 95, 348, 302, 349, 350, 351, 352, 56, 333, 314, 353, 30, 95, 354, 30, 59, 112, 12, 79, 302, 47, 355, 4, 356, 357, 30, 358, 50, 359, 30, 360, 361, 362, 363, 364, 365, 176, 366, 43, 79, 367, 4, 368, 369, 370, 30, 336, 191, 371, 372, 4, 373, 374, 375, 376, 377, 378, 379, 252, 3, 45, 363, 380, 319, 30, 381, 30, 382, 369, 383, 71, 50, 384, 12, 302, 95, 385, 43, 79, 106, 386, 47, 387, 388, 389, 390, 12, 303, 391, 57, 392, 47, 246, 5, 6, 6, 247, 8, 248, 393, 250, 251, 394, 395, 396, 43, 291, 397, 369, 398, 71, 399, 47, 400, 401, 402, 117, 403, 154, 404, 405, 406, 47, 407, 172, 163, 408, 403, 154, 409, 410, 47, 411, 412, 413, 154, 47, 288, 288, 414, 47, 288, 415, 150, 47, 384, 71, 416, 12, 417, 47, 290, 43, 291, 4, 43, 292, 246, 5, 6, 6, 247, 8, 248, 393, 293, 251, 294, 0, 1, 2, 3, 4, 5, 6, 6, 7, 4, 8, 9, 4, 418, 11, 12, 13, 4, 419, 15, 4, 420, 17, 18, 421, 422, 423, 21, 424, 425, 11, 23, 426, 11, 25, 427, 428, 27, 28, 31, 30, 429, 32, 31, 30, 429, 32, 430, 30, 8, 32, 31, 30, 431, 35, 25, 36, 37, 23, 38, 12, 420, 39, 71, 432, 433, 40, 434, 79, 312, 435, 56, 82, 436, 12, 437, 12, 438, 439, 121, 440, 441, 47, 442, 443, 12, 444, 445, 446, 447, 154, 448, 43, 79, 367, 449, 12, 450, 451, 71, 452, 47, 48, 51, 4, 453, 454, 455, 30, 453, 456, 47, 457, 458, 4, 49, 459, 460, 247, 461, 462, 248, 463, 56, 464, 465, 47, 466, 467, 47, 468, 59, 469, 470, 30, 471, 59, 472, 71, 473, 474, 59, 475, 32, 176, 476, 477, 478, 247, 479, 12, 98, 480, 248, 47, 367, 56, 481, 315, 43, 446, 405, 482, 121, 483, 30, 476, 484, 475, 71, 485, 57, 59, 486, 71, 487, 247, 383, 71, 56, 488, 248, 47, 49, 489, 490, 12, 491, 492, 247, 493, 248, 4, 494, 495, 496, 497, 30, 498, 4, 499, 500, 247, 501, 502, 503, 248, 47, 504, 492, 505, 506, 507, 247, 286, 4, 508, 59, 57, 59, 509, 510, 248, 47, 49, 511, 512, 513, 514, 515, 12, 516, 517, 518, 56, 519, 12, 79, 109, 520, 521, 30, 56, 178, 336, 12, 288, 522, 56, 523, 524, 12, 459, 460, 47, 525, 526, 527, 326, 528, 529, 80, 30, 50, 530, 531, 12, 79, 57, 47, 532, 533, 79, 312, 534, 247, 535, 56, 536, 537, 248, 30, 79, 312, 538, 247, 539, 540, 541, 4, 95, 542, 137, 543, 12, 544, 545, 248, 71, 79, 312, 546, 247, 539, 540, 541, 547, 248, 47, 525, 526, 548, 326, 528, 549, 80, 12, 550, 551, 47, 539, 540, 541, 552, 4, 547, 47, 553, 530, 554, 137, 367, 56, 124, 12, 79, 109, 121, 555, 556, 30, 59, 557, 558, 47, 525, 559, 268, 79, 560, 47, 561, 12, 562, 56, 563, 71, 564, 30, 121, 565, 40, 566, 57, 567, 59, 568, 404, 569, 406, 30, 570, 95, 564, 507, 71, 226, 68, 3, 104, 47, 404, 82, 571, 4, 453, 279, 79, 572, 47, 554, 573, 4, 574, 575, 12, 325, 176, 576, 121, 82, 40, 577, 367, 12, 79, 578, 43, 79, 579, 47, 95, 580, 581, 582, 30, 583, 30, 584, 30, 585, 47, 586, 587, 12, 588, 56, 589, 12, 109, 47, 69, 590, 12, 591, 592, 12, 79, 57, 47, 593, 594, 4, 595, 596, 247, 597, 248, 4, 598, 599, 121, 600, 47, 79, 601, 602, 442, 137, 201, 343, 47, 176, 603, 211, 12, 604, 605, 606, 71, 79, 607, 608, 609, 610, 47, 446, 611, 612, 176, 613, 614, 47, 615, 4, 616, 343, 49, 336, 617, 618, 4, 343, 47, 619, 92, 620, 30, 621, 622, 47, 619, 623, 624, 49, 625, 626, 618, 4, 627, 30, 628, 629, 49, 630, 631, 247, 632, 248, 4, 633, 12, 634, 202, 30, 635, 636, 30, 50, 637, 638, 639, 12, 640, 641, 47, 642, 643, 30, 82, 115, 12, 405, 644, 47, 645, 646, 12, 647, 648, 47, 649, 646, 176, 650, 47, 651, 652, 12, 634, 343, 47, 653, 12, 634, 30, 654, 71, 655, 234, 12, 82, 656, 50, 657, 446, 658, 659, 47, 660, 661, 71, 635, 662, 71, 663, 12, 634, 47, 664, 665, 666, 667, 56, 668, 669, 71, 670, 47, 176, 671, 672, 56, 673, 674, 47, 246, 5, 6, 6, 247, 8, 248, 675, 676, 251, 557, 4, 677, 678, 4, 163, 679, 495, 680, 497, 30, 500, 43, 255, 47, 57, 681, 682, 683, 684, 12, 685, 247, 686, 687, 248, 47, 95, 586, 688, 47, 689, 617, 678, 4, 690, 679, 495, 680, 497, 30, 500, 43, 255, 47, 176, 95, 691, 59, 692, 383, 247, 693, 176, 95, 694, 40, 695, 248, 696, 4, 697, 698, 500, 30, 699, 700, 47, 701, 4, 702, 703, 704, 4, 494, 495, 496, 497, 30, 498, 4, 499, 500, 247, 501, 502, 503, 248, 705, 30, 706, 30, 707, 30, 708, 30, 709, 30, 710, 4, 711, 712, 713, 4, 496, 497, 714, 156, 492, 558, 47, 504, 492, 4, 715, 4, 711, 712, 716, 4, 717, 718, 4, 719, 720, 247, 629, 30, 721, 720, 247, 722, 248, 30, 723, 79, 724, 725, 726, 247, 727, 248, 717, 728, 4, 719, 729, 247, 730, 30, 721, 731, 247, 732, 248, 30, 723, 79, 733, 725, 734, 247, 735, 248, 149, 150, 736, 690, 737, 152, 738, 154, 739, 405, 740, 741, 742, 163, 740, 743, 744, 745, 740, 746, 747, 92, 748, 163, 43, 79, 312, 749, 569, 750, 43, 79, 312, 751, 752, 247, 753, 248, 47, 754, 755, 740, 152, 756, 154, 757, 758, 740, 152, 738, 154, 247, 759, 248, 30, 49, 760, 761, 383, 247, 161, 762, 740, 248, 4, 726, 763, 154, 247, 296, 117, 248, 47, 49, 764, 765, 755, 117, 4, 745, 766, 247, 767, 30, 266, 768, 248, 47, 191, 192, 769, 4, 770, 771, 47, 772, 4, 773, 774, 47, 775, 4, 776, 777, 47, 778, 779, 363, 780, 781, 47, 349, 71, 216, 47, 782, 71, 783, 47, 176, 637, 784, 47, 785, 786, 4, 532, 787, 12, 788, 789, 30, 50, 384, 12, 790, 232, 791, 792, 47, 785, 793, 4, 794, 795, 30, 50, 796, 30, 797, 798, 71, 799, 47, 800, 801, 802, 47, 631, 803, 71, 804, 30, 176, 805, 232, 806, 30, 176, 807, 43, 82, 808, 47, 809, 202, 47, 191, 371, 810, 4, 811, 781, 247, 812, 248, 4, 373, 813, 814, 30, 375, 815, 377, 30, 378, 816, 817, 30, 818, 819, 820, 247, 821, 248, 822, 823, 30, 375, 819, 824, 247, 825, 248, 826, 827, 30, 828, 829, 819, 824, 830, 377, 30, 831, 832, 833, 247, 834, 248, 835, 817, 30, 836, 837, 838, 30, 839, 840, 817, 30, 841, 842, 817, 30, 843, 844, 817, 30, 845, 846, 817, 30, 847, 848, 817, 30, 839, 849, 838, 30, 841, 850, 838, 30, 843, 246, 5, 6, 6, 247, 8, 248, 675, 851, 251, 852, 838, 30, 845, 846, 838, 30, 847, 846, 838, 30, 853, 854, 838, 30, 818, 855, 820, 856, 823, 30, 857, 858, 859, 30, 860, 861, 859, 30, 862, 863, 864, 30, 865, 866, 864, 30, 867, 868, 864, 30, 869, 870, 871, 30, 872, 873, 871, 30, 874, 345, 875, 876, 859, 47, 811, 781, 247, 877, 248, 4, 373, 878, 814, 30, 375, 879, 377, 30, 378, 840, 817, 30, 818, 819, 820, 247, 821, 248, 880, 823, 30, 375, 819, 824, 247, 825, 248, 881, 827, 30, 828, 829, 819, 824, 882, 377, 30, 831, 832, 833, 247, 834, 248, 883, 817, 30, 836, 884, 838, 30, 839, 817, 885, 817, 30, 841, 817, 886, 817, 30, 843, 817, 887, 817, 30, 845, 817, 755, 817, 30, 847, 817, 888, 817, 30, 839, 889, 838, 30, 841, 890, 838, 30, 843, 889, 838, 30, 845, 846, 838, 30, 847, 846, 838, 30, 853, 891, 838, 30, 818, 855, 820, 892, 823, 30, 893, 894, 859, 30, 893, 895, 896, 859, 30, 869, 897, 871, 30, 872, 898, 871, 30, 899, 900, 901, 871, 30, 902, 903, 871, 47, 811, 781, 247, 904, 248, 4, 373, 905, 814, 30, 375, 906, 377, 30, 378, 907, 817, 30, 818, 819, 820, 247, 821, 248, 908, 823, 30, 375, 819, 824, 247, 825, 248, 909, 827, 30, 828, 829, 819, 824, 910, 377, 30, 831, 832, 833, 247, 834, 248, 911, 817, 30, 836, 912, 838, 30, 839, 817, 913, 817, 30, 841, 817, 914, 817, 30, 915, 916, 917, 248, 879, 817, 30, 843, 817, 918, 817, 30, 845, 817, 850, 817, 30, 847, 817, 850, 817, 30, 839, 850, 838, 30, 841, 919, 838, 30, 843, 920, 838, 30, 845, 846, 838, 30, 847, 846, 838, 30, 853, 921, 838, 30, 922, 923, 859, 30, 857, 924, 859, 30, 860, 925, 859, 30, 893, 926, 859, 30, 893, 895, 927, 859, 30, 862, 928, 864, 30, 865, 929, 864, 30, 867, 930, 864, 30, 931, 932, 859, 30, 933, 934, 859, 30, 869, 341, 871, 30, 872, 935, 871, 30, 899, 900, 936, 871, 30, 902, 937, 871, 30, 874, 938, 377, 30, 939, 940, 377, 30, 874, 345, 875, 941, 859, 47, 942, 4, 943, 12, 944, 945, 247, 812, 248, 4, 711, 712, 946, 12, 947, 948, 121, 949, 43, 950, 951, 56, 952, 953, 247, 812, 248, 4, 467, 43, 947, 954, 405, 47, 955, 12, 956, 71, 957, 247, 812, 248, 4, 507, 47, 943, 12, 944, 945, 247, 904, 248, 4, 590, 958, 4, 959, 960, 12, 596, 247, 812, 248, 4, 961, 275, 962, 244, 30, 59, 963, 964, 121, 82, 965, 966, 30, 71, 967, 801, 56, 968, 106, 56, 82, 969, 970, 47, 971, 972, 47, 973, 974, 50, 975, 976, 47, 971, 977, 978, 979, 47, 233, 593, 4, 959, 952, 12, 980, 981, 247, 982, 248, 4, 56, 380, 47, 246, 5, 6, 6, 247, 8, 248, 675, 983, 251, 252, 3, 434, 56, 82, 984, 12, 437, 12, 438, 439, 985, 288, 319, 71, 12, 986, 987, 47, 95, 586, 57, 567, 988, 59, 989, 71, 990, 991, 71, 992, 510, 47, 95, 993, 91, 57, 12, 994, 150, 43, 995, 12, 79, 764, 71, 82, 760, 30, 40, 95, 996, 269, 79, 997, 556, 166, 71, 40, 79, 38, 998, 999, 590, 12, 1000, 12, 79, 57, 1001, 47, 43, 446, 153, 154, 12, 367, 95, 1002, 1003, 467, 43, 954, 405, 56, 79, 952, 953, 47, 79, 1004, 12, 1005, 1006, 609, 558, 47, 43, 1007, 1008, 1009, 555, 247, 12, 268, 889, 1010, 248, 71, 971, 1011, 40, 95, 1012, 553, 1013, 1014, 43, 1015, 166, 47, 176, 442, 1016, 12, 1017, 12, 587, 513, 47, 95, 1018, 1019, 59, 79, 1020, 12, 1021, 439, 71, 95, 1022, 1023, 952, 12, 980, 981, 247, 590, 189, 190, 12, 82, 1000, 12, 79, 57, 1001, 248, 47, 79, 312, 982, 95, 1024, 79, 1025, 985, 1026, 50, 1027, 30, 1003, 590, 47, 56, 288, 1008, 1028, 442, 1029, 12, 82, 1030, 12, 1031, 247, 850, 1010, 248, 71, 1032, 12, 446, 1033, 47, 404, 79, 367, 95, 993, 1034, 30, 59, 363, 780, 781, 71, 226, 1035, 383, 47, 442, 443, 404, 446, 1036, 153, 154, 30, 1037, 95, 381, 1038, 47, 95, 1022, 106, 43, 1039, 79, 312, 1040, 30, 1041, 1042, 745, 406, 12, 57, 392, 47, 616, 192, 43, 79, 106, 59, 532, 787, 12, 788, 789, 30, 50, 791, 792, 232, 384, 12, 1043, 441, 30, 1044, 1045, 450, 71, 452, 1046, 47, 387, 388, 1047, 1048, 460, 176, 1049, 1050, 1051, 176, 1049, 1052, 555, 176, 1049, 1053, 1054, 1055, 176, 1049, 1056, 511, 1057, 513, 30, 56, 1058, 391, 1059, 1060, 1059, 1061, 336, 1062, 47, 1063, 1064, 47, 1065, 1066, 1067, 47, 1068, 1069, 1070, 47, 960, 12, 596, 47, 1063, 12, 1071, 1072, 47, 394, 395, 396, 43, 291, 736, 690, 737, 152, 738, 154, 47, 49, 1073, 405, 740, 741, 47, 742, 163, 740, 743, 47, 744, 745, 740, 746, 47, 747, 92, 748, 163, 43, 79, 312, 47, 246, 5, 6, 6, 247, 8, 248, 675, 1074, 251, 749, 569, 750, 43, 79, 312, 47, 751, 752, 247, 753, 248, 47, 49, 1075, 755, 740, 152, 756, 154, 47, 49, 1076, 758, 740, 152, 738, 154, 247, 759, 248, 30, 1077, 247, 1078, 1079, 248, 4, 1080, 152, 756, 154, 268, 79, 312, 12, 82, 1081, 47, 49, 992, 247, 163, 1082, 248, 4, 163, 1083, 682, 152, 738, 154, 47, 288, 288, 56, 523, 524, 79, 1084, 326, 1085, 47, 290, 43, 291, 4, 43, 292, 246, 5, 6, 6, 247, 8, 248, 675, 1086, 251, 294, 0, 1, 2, 3, 4, 5, 6, 6, 7, 4, 8, 9, 4, 10, 11, 12, 13, 4, 1087, 15, 4, 1088, 17, 18, 19, 20, 21, 1089, 11, 23, 1090, 11, 25, 1091, 1092, 27, 28, 1093, 30, 1093, 32, 1094, 30, 301, 32, 429, 32, 1094, 30, 301, 35, 25, 36, 37, 23, 1095, 12, 1096, 48, 176, 51, 1097, 53, 47, 309, 4, 1098, 1099, 47, 176, 457, 458, 47, 1100, 12, 1101, 1102, 47, 149, 150, 56, 1103, 59, 1104, 165, 166, 1105, 4, 1088, 1106, 4, 1107, 247, 163, 47, 1108, 1109, 32, 1110, 1111, 56, 1112, 1113, 1114, 59, 1115, 1116, 47, 176, 1117, 1118, 482, 30, 1119, 310, 47, 1120, 1121, 1122, 104, 47, 176, 1117, 769, 32, 1123, 1124, 1125, 1126, 56, 1127, 1128, 1129, 248, 1130, 4, 1131, 1132, 4, 43, 92, 1133, 4, 1134, 1135, 121, 1136, 1137, 1138, 1139, 1137, 1140, 1141, 176, 1142, 41, 121, 1143, 12, 1144, 1145, 47, 1146, 1147, 1148, 1149, 4, 49, 163, 679, 1150, 4, 338, 4, 1151, 32, 1152, 4, 379, 47, 49, 690, 679, 1150, 4, 338, 4, 1153, 32, 1152, 4, 1154, 47, 49, 405, 679, 1150, 4, 338, 4, 1155, 32, 1152, 4, 1156, 32, 1157, 4, 1158, 32, 342, 4, 1159, 1160, 32, 1161, 1162, 1163, 4, 1164, 1165, 30, 1166, 176, 1167, 30, 1168, 1169, 30, 1170, 71, 1171, 558, 47, 49, 1172, 4, 1173, 49, 957, 1174, 4, 1175, 32, 1176, 4, 176, 105, 49, 557, 1177, 1178, 1179, 4, 590, 49, 1180, 1181, 4, 985, 516, 47, 1182, 4, 49, 1183, 1150, 4, 1184, 4, 1185, 47, 1186, 47, 246, 5, 6, 6, 247, 8, 248, 1187, 1188, 251, 49, 1189, 1150, 4, 654, 343, 47, 1190, 1191, 1192, 47, 1193, 1194, 47, 49, 697, 1150, 4, 1195, 1196, 47, 1197, 30, 1198, 4, 1199, 1200, 248, 30, 1190, 1201, 30, 1202, 30, 1203, 12, 405, 1204, 30, 1205, 343, 47, 191, 192, 344, 30, 345, 71, 346, 30, 1206, 71, 1207, 1208, 4, 1209, 56, 1210, 113, 1211, 4, 1095, 12, 1096, 286, 4, 1212, 43, 1213, 12, 1214, 1215, 1216, 252, 3, 1096, 1217, 79, 312, 1218, 43, 446, 1219, 47, 1220, 12, 1221, 1193, 1222, 12, 1223, 12, 769, 30, 1224, 1225, 1164, 4, 1165, 1226, 1227, 4, 43, 467, 1228, 1229, 47, 95, 1024, 1230, 1231, 189, 82, 1228, 47, 79, 1232, 1233, 234, 12, 82, 656, 30, 1234, 1235, 30, 1236, 30, 176, 1237, 71, 59, 363, 780, 781, 47, 1238, 686, 1239, 30, 59, 1240, 1241, 1242, 47, 1243, 4, 1244, 789, 47, 1245, 1246, 1247, 47, 1248, 12, 1249, 1250, 56, 1251, 104, 1192, 1252, 1232, 1253, 1215, 1216, 1254, 12, 79, 1096, 1255, 12, 79, 1256, 803, 12, 79, 1096, 1257, 1258, 1259, 12, 1248, 1260, 1261, 1262, 1149, 246, 5, 6, 6, 247, 8, 248, 1187, 1263, 251, 1264, 288, 121, 91, 1265, 12, 107, 56, 1266, 406, 47, 1267, 43, 44, 1268, 1269, 1270, 12, 1271, 47, 1272, 163, 1273, 43, 79, 312, 56, 1274, 404, 690, 433, 247, 59, 1275, 12, 1276, 346, 1277, 59, 1278, 345, 189, 1279, 82, 1280, 248, 47, 1281, 1282, 163, 43, 79, 312, 404, 82, 1228, 47, 172, 1283, 152, 756, 154, 409, 1284, 189, 79, 410, 47, 1285, 1286, 12, 1287, 71, 1288, 1289, 71, 1290, 47, 1291, 1292, 12, 79, 1293, 59, 1294, 71, 1295, 1296, 47, 1297, 565, 686, 1298, 59, 1299, 12, 178, 1300, 346, 1301, 47, 176, 1023, 1302, 56, 1303, 30, 1304, 346, 1305, 268, 1306, 79, 1232, 47, 1307, 343, 59, 1308, 192, 1309, 47, 1310, 1311, 769, 71, 1312, 12, 1313, 1314, 47, 409, 442, 1315, 12, 446, 1243, 30, 1316, 1317, 1318, 71, 1319, 137, 1320, 1321, 12, 446, 1322, 47, 1323, 1324, 43, 79, 1325, 47, 409, 1326, 410, 1327, 12, 82, 1328, 30, 1316, 1329, 1258, 47, 387, 388, 1330, 1331, 12, 1332, 30, 1333, 1148, 1334, 1335, 28, 43, 1336, 43, 1337, 1338, 176, 1339, 394, 395, 396, 43, 291, 1264, 288, 121, 91, 1265, 12, 107, 56, 1266, 406, 47, 95, 1340, 384, 71, 416, 12, 1271, 189, 1341, 43, 44, 71, 565, 1342, 47, 288, 79, 1232, 1233, 234, 12, 82, 656, 30, 1234, 1235, 30, 1236, 30, 176, 1237, 71, 59, 363, 780, 781, 47, 1238, 686, 1239, 30, 59, 1240, 1241, 1242, 47, 1243, 4, 1244, 789, 47, 1343, 1344, 47, 290, 43, 291, 4, 43, 292, 246, 5, 6, 6, 247, 8, 248, 1187, 1345, 251, 294, 0, 1, 2, 3, 4, 5, 6, 6, 7, 4, 8, 9, 4, 418, 11, 12, 13, 4, 1346, 15, 4, 1347, 17, 18, 1348, 21, 1349, 1350, 163, 11, 23, 1351, 11, 25, 1352, 1353, 27, 28, 1093, 30, 429, 32, 33, 30, 8, 32, 1093, 30, 301, 35, 12, 1354, 43, 1355, 37, 23, 1356, 12, 1347, 39, 50, 1357, 1358, 232, 51, 1097, 53, 40, 1359, 1360, 12, 479, 1361, 1362, 121, 1363, 48, 49, 54, 55, 56, 57, 59, 1364, 71, 1365, 47, 49, 1366, 1367, 56, 57, 59, 1368, 71, 1369, 47, 49, 1370, 56, 57, 1371, 47, 49, 1372, 1373, 1374, 56, 519, 109, 56, 315, 1361, 1362, 247, 1375, 1376, 248, 47, 1377, 137, 1378, 260, 1379, 121, 565, 40, 95, 1024, 178, 1380, 56, 617, 618, 12, 1372, 1373, 71, 1381, 1382, 47, 501, 1380, 79, 1383, 56, 1384, 47, 133, 4, 141, 59, 91, 1222, 47, 1385, 189, 446, 1386, 47, 50, 146, 147, 47, 149, 150, 1387, 1388, 30, 155, 1389, 30, 1390, 1391, 30, 1369, 1392, 30, 1393, 1394, 30, 1395, 1396, 30, 172, 1397, 703, 30, 1398, 1389, 30, 1368, 1399, 1400, 30, 1401, 1402, 47, 165, 166, 1403, 79, 1404, 121, 1405, 781, 30, 1406, 71, 1407, 30, 1408, 95, 56, 82, 1409, 1410, 30, 1411, 1412, 30, 1413, 56, 1414, 92, 1415, 32, 1416, 1417, 176, 1418, 30, 71, 56, 82, 960, 384, 12, 1419, 1420, 32, 95, 1421, 553, 1422, 1423, 56, 174, 12, 1417, 12, 1424, 1425, 247, 338, 12, 1426, 32, 683, 12, 937, 377, 248, 32, 95, 1427, 690, 1428, 30, 95, 1429, 57, 1430, 30, 92, 367, 56, 1384, 189, 57, 71, 598, 47, 79, 1431, 121, 82, 1432, 442, 137, 1433, 1434, 43, 1007, 786, 59, 1435, 71, 1436, 30, 59, 1437, 533, 43, 1438, 163, 47, 95, 1024, 960, 12, 596, 59, 1439, 12, 178, 1440, 1441, 966, 92, 1442, 1443, 1444, 47, 95, 586, 1445, 1446, 59, 1447, 71, 1448, 30, 95, 1449, 57, 1430, 71, 95, 101, 1450, 56, 800, 30, 1451, 71, 1452, 47, 82, 1453, 253, 1454, 92, 1455, 71, 1456, 442, 1457, 43, 1007, 786, 30, 121, 565, 40, 95, 586, 1458, 513, 59, 533, 1459, 30, 1037, 1460, 1461, 59, 1438, 163, 30, 71, 1359, 1360, 189, 190, 47, 191, 192, 616, 192, 56, 44, 1462, 1463, 1464, 30, 1465, 1466, 1467, 30, 1468, 153, 1111, 30, 778, 1469, 30, 1460, 1470, 247, 1438, 163, 248, 47, 783, 30, 1410, 1471, 30, 686, 1472, 47, 1473, 4, 794, 1474, 1475, 30, 1411, 1412, 1476, 30, 50, 359, 56, 1414, 30, 50, 1477, 30, 797, 1478, 1479, 1480, 799, 47, 1481, 4, 1482, 56, 1483, 47, 1484, 1441, 966, 47, 631, 4, 809, 1485, 30, 804, 30, 176, 258, 12, 410, 43, 82, 808, 30, 50, 384, 12, 1486, 47, 1487, 4, 195, 30, 1488, 30, 50, 1489, 47, 246, 5, 6, 6, 247, 8, 248, 1490, 1491, 251, 616, 192, 56, 436, 12, 1349, 1350, 1492, 1034, 30, 1493, 780, 781, 30, 1410, 71, 1494, 47, 785, 1495, 4, 794, 1474, 1496, 59, 1411, 1412, 1497, 1498, 1499, 1476, 47, 50, 1413, 56, 1414, 30, 50, 1500, 965, 232, 1501, 1502, 47, 50, 384, 12, 1503, 797, 1478, 798, 71, 799, 47, 785, 786, 4, 1435, 1045, 59, 1504, 47, 1505, 1506, 202, 59, 1507, 71, 1508, 1344, 47, 450, 59, 1509, 12, 1510, 47, 631, 4, 1511, 4, 196, 71, 1512, 30, 1488, 56, 950, 30, 640, 71, 1513, 30, 1514, 47, 50, 1515, 1516, 513, 1517, 47, 191, 371, 593, 594, 44, 1518, 781, 1404, 4, 338, 1426, 30, 821, 1519, 30, 1520, 1521, 30, 1157, 1522, 30, 1523, 1524, 30, 922, 1525, 30, 857, 1526, 30, 345, 1527, 1528, 30, 1529, 1530, 30, 1531, 1532, 30, 1533, 1534, 30, 1535, 1536, 30, 939, 405, 47, 1537, 247, 1538, 1539, 30, 1468, 1540, 30, 1541, 890, 30, 1438, 163, 248, 4, 1542, 1543, 30, 1544, 1545, 30, 1546, 1547, 30, 1548, 890, 30, 1549, 1550, 30, 1551, 420, 30, 1552, 1553, 247, 1554, 1547, 248, 47, 49, 1555, 288, 247, 1538, 1539, 30, 1468, 1540, 30, 1541, 890, 30, 1438, 849, 248, 4, 1542, 1556, 30, 1544, 1545, 30, 1546, 1557, 30, 1548, 1558, 30, 1549, 1559, 30, 1560, 1561, 30, 1552, 1562, 247, 1554, 1563, 248, 47, 1564, 4, 1565, 1566, 43, 1567, 1467, 30, 1568, 1569, 30, 1570, 1571, 30, 1572, 12, 1141, 966, 59, 1573, 12, 1574, 30, 50, 211, 1575, 12, 82, 1576, 47, 1518, 781, 4, 338, 1577, 377, 30, 821, 1578, 823, 30, 825, 1579, 827, 30, 1520, 1580, 30, 1157, 1581, 32, 1523, 1582, 32, 922, 1583, 859, 30, 857, 1545, 859, 30, 1584, 1585, 859, 32, 1531, 1586, 864, 30, 1533, 1587, 864, 32, 1588, 1589, 871, 47, 1590, 4, 1591, 189, 1592, 71, 1593, 47, 49, 1594, 247, 1404, 248, 4, 558, 1595, 47, 1596, 12, 596, 247, 1384, 248, 4, 1440, 1441, 966, 59, 1597, 334, 71, 384, 12, 1598, 1420, 47, 49, 960, 12, 596, 4, 1440, 1441, 966, 59, 1599, 12, 1600, 47, 593, 594, 436, 12, 1349, 1350, 1518, 367, 1601, 4, 373, 1602, 32, 338, 1603, 377, 30, 340, 1604, 32, 821, 1605, 32, 834, 1606, 32, 1607, 1608, 32, 1520, 1609, 838, 247, 1610, 1611, 30, 1612, 1613, 248, 32, 1157, 1614, 30, 1615, 1616, 30, 1159, 1617, 1618, 32, 1619, 1620, 859, 30, 857, 1621, 32, 1622, 1557, 1623, 777, 30, 1624, 1625, 859, 30, 1626, 1627, 864, 30, 1628, 1629, 864, 30, 1630, 1631, 32, 1632, 1633, 1634, 30, 1635, 894, 32, 1535, 1636, 30, 1637, 153, 32, 1638, 1639, 30, 1640, 1526, 30, 1641, 1642, 32, 1643, 1644, 30, 1645, 1646, 32, 1647, 1648, 32, 939, 1649, 377, 30, 949, 1650, 859, 47, 1651, 12, 1652, 4, 1653, 1654, 1655, 30, 1656, 1657, 859, 30, 1658, 1659, 1660, 30, 1661, 1662, 817, 30, 619, 1663, 1664, 1665, 30, 43, 1473, 1666, 1667, 1655, 47, 1651, 1668, 4, 1669, 1670, 30, 1671, 1672, 47, 1673, 4, 1674, 1675, 1676, 288, 1084, 4, 338, 1266, 30, 1677, 1678, 247, 1610, 1679, 30, 1612, 402, 248, 30, 1680, 1681, 30, 1615, 1682, 30, 1159, 1617, 720, 30, 1683, 1684, 30, 857, 1685, 30, 1584, 1686, 30, 1624, 1687, 30, 1626, 1688, 30, 1628, 1689, 30, 1690, 1691, 1692, 247, 1693, 248, 4, 338, 1694, 32, 340, 1695, 32, 821, 1605, 32, 1520, 1696, 1697, 247, 1698, 248, 1699, 334, 176, 1700, 30, 1701, 1702, 30, 59, 1703, 1704, 43, 79, 1705, 217, 247, 1706, 1707, 248, 30, 1422, 1708, 217, 30, 1709, 1710, 1711, 4, 1712, 92, 1422, 217, 12, 1713, 1714, 30, 1715, 1192, 1701, 650, 30, 1716, 1717, 1718, 650, 30, 1719, 246, 5, 6, 6, 247, 8, 248, 1490, 1720, 251, 1721, 1722, 247, 1723, 1724, 71, 1725, 1726, 248, 71, 1727, 1728, 30, 1422, 1729, 1730, 40, 1731, 1732, 1733, 12, 1734, 1464, 30, 54, 602, 1730, 252, 3, 43, 91, 194, 43, 44, 1735, 71, 381, 47, 1460, 1736, 59, 1458, 513, 59, 1438, 12, 1737, 43, 82, 616, 192, 1484, 1441, 966, 47, 1738, 56, 1565, 1566, 71, 1453, 55, 59, 1422, 441, 1739, 247, 1554, 1547, 1464, 248, 47, 82, 960, 12, 596, 1740, 178, 1440, 1441, 966, 59, 1599, 12, 79, 1600, 47, 95, 1741, 553, 1422, 441, 513, 56, 174, 12, 1742, 1441, 966, 30, 59, 1743, 1744, 12, 1422, 1423, 1745, 47, 95, 993, 1746, 1747, 30, 1445, 1446, 30, 57, 1748, 30, 1749, 71, 1750, 47, 404, 91, 1751, 56, 44, 79, 38, 442, 1752, 68, 3, 30, 59, 112, 12, 82, 1454, 71, 12, 79, 1095, 786, 30, 1753, 1754, 1438, 268, 1755, 12, 1458, 30, 1480, 59, 1756, 104, 12, 1504, 47, 79, 288, 1757, 176, 253, 112, 12, 82, 1440, 602, 30, 1758, 95, 1442, 1344, 47, 95, 993, 57, 1759, 92, 434, 56, 436, 12, 437, 47, 43, 91, 194, 43, 436, 12, 1760, 1350, 79, 38, 73, 971, 112, 3, 30, 409, 686, 91, 68, 1761, 1762, 1763, 47, 404, 91, 1751, 56, 436, 79, 38, 321, 1764, 1765, 1034, 30, 205, 59, 1752, 1766, 623, 1767, 1768, 47, 79, 38, 1769, 1770, 567, 59, 1771, 30, 1753, 1772, 1773, 1770, 59, 1774, 47, 1775, 79, 961, 12, 1776, 786, 30, 79, 38, 321, 1777, 178, 1752, 30, 1480, 532, 1766, 47, 1778, 82, 1779, 12, 79, 38, 30, 71, 1778, 82, 1780, 12, 79, 1692, 30, 121, 79, 225, 176, 95, 1781, 1782, 1783, 1784, 47, 43, 79, 106, 1359, 1785, 43, 1786, 12, 1349, 1787, 189, 288, 1788, 47, 1778, 565, 1789, 12, 79, 367, 71, 1790, 30, 95, 1022, 1791, 43, 79, 315, 1792, 1793, 189, 1766, 47, 387, 388, 163, 47, 1742, 1794, 56, 82, 1795, 1796, 1797, 92, 1422, 441, 513, 47, 47, 1422, 1423, 12, 1429, 1798, 12, 1799, 1800, 247, 1801, 30, 1802, 30, 1417, 248, 1137, 1413, 1803, 12, 1804, 47, 1123, 1805, 247, 1417, 1806, 1807, 1808, 248, 47, 420, 47, 1366, 1367, 1752, 43, 1809, 1810, 56, 57, 1811, 59, 1812, 1813, 47, 1814, 391, 1815, 1816, 47, 1738, 1817, 30, 1738, 247, 1818, 738, 346, 1114, 1819, 248, 604, 59, 1820, 1774, 1821, 1774, 1822, 47, 394, 395, 396, 43, 291, 160, 1823, 1824, 152, 153, 154, 1321, 12, 79, 1825, 32, 1826, 1137, 1827, 1828, 1829, 1830, 30, 409, 1284, 32, 1831, 1832, 1833, 1834, 1835, 1836, 326, 1837, 32, 1812, 1838, 1839, 1840, 1841, 152, 1842, 32, 1393, 1843, 1844, 152, 153, 154, 247, 1845, 248, 32, 1846, 1847, 30, 163, 1273, 152, 153, 154, 32, 1848, 1849, 690, 1850, 152, 153, 154, 32, 1851, 1847, 163, 1273, 152, 153, 154, 32, 246, 5, 6, 6, 247, 8, 248, 1490, 1852, 251, 1853, 1854, 117, 30, 690, 1850, 152, 756, 154, 409, 1284, 32, 172, 1855, 152, 756, 154, 409, 1284, 32, 1856, 1857, 121, 82, 1858, 32, 1859, 12, 1860, 1861, 1862, 1863, 152, 745, 154, 1137, 1864, 569, 740, 1865, 12, 1866, 32, 369, 1867, 1868, 1869, 59, 1870, 1871, 1872, 740, 1873, 152, 756, 154, 47, 288, 1874, 43, 1786, 12, 1875, 1350, 247, 1876, 1093, 248, 79, 312, 1877, 47, 1878, 178, 336, 781, 522, 266, 406, 1879, 43, 82, 1880, 47, 290, 43, 291, 4, 1881, 1882, 246, 5, 6, 6, 247, 8, 248, 1490, 1883, 251, 294, 0, 1, 2, 3, 4, 5, 6, 6, 7, 4, 8, 9, 4, 10, 11, 12, 13, 4, 1884, 15, 4, 310, 17, 18, 19, 20, 21, 1089, 11, 23, 1351, 11, 25, 1885, 1886, 27, 28, 1094, 30, 301, 32, 1093, 30, 31, 35, 25, 36, 37, 23, 1095, 12, 1096, 1137, 1887, 1888, 12, 1889, 47, 48, 176, 51, 1097, 53, 47, 457, 458, 4, 1890, 56, 1103, 59, 1891, 409, 1284, 47, 1892, 47, 1893, 1894, 47, 1895, 1896, 4, 1897, 47, 176, 1357, 1358, 47, 165, 166, 1105, 310, 39, 1106, 1898, 1130, 1899, 1133, 4, 1900, 1901, 1132, 4, 346, 467, 247, 1902, 1903, 507, 248, 47, 1904, 1905, 56, 1135, 121, 1890, 1137, 1893, 1894, 47, 41, 121, 1143, 12, 1144, 1145, 152, 156, 1906, 12, 745, 154, 12, 68, 47, 176, 1907, 232, 1908, 47, 1909, 1910, 1911, 47, 176, 1912, 1913, 12, 1914, 47, 404, 91, 1751, 56, 44, 82, 38, 586, 1143, 12, 1908, 12, 1915, 1916, 247, 1917, 248, 47, 1147, 1148, 1149, 4, 1174, 4, 338, 1918, 30, 1919, 1920, 30, 1921, 1610, 30, 957, 1922, 1923, 247, 1924, 248, 1925, 247, 49, 248, 1168, 247, 49, 248, 1171, 247, 49, 248, 1170, 247, 49, 248, 1169, 247, 49, 248, 47, 1926, 247, 49, 248, 1927, 1174, 4, 985, 516, 1928, 4, 338, 1929, 30, 1930, 1931, 30, 1925, 247, 49, 248, 1932, 1150, 1933, 30, 1934, 1935, 30, 1936, 1937, 30, 1938, 1610, 30, 1939, 1940, 30, 1941, 1922, 30, 1942, 1922, 30, 1925, 1922, 492, 1943, 4, 1922, 1182, 4, 1944, 1945, 1946, 1186, 47, 1947, 1948, 47, 1184, 1949, 47, 1950, 1945, 1951, 30, 1952, 4, 1186, 30, 654, 343, 30, 1953, 1954, 30, 1955, 1956, 1932, 1945, 4, 1957, 30, 1958, 4, 1959, 30, 1960, 1961, 30, 1202, 30, 1198, 1962, 1963, 191, 192, 246, 5, 6, 6, 247, 8, 248, 1187, 1188, 251, 1964, 47, 1965, 4, 631, 1966, 12, 285, 59, 446, 482, 12, 1904, 47, 176, 1967, 232, 1968, 47, 1969, 1970, 4, 50, 637, 47, 1971, 4, 1972, 71, 1973, 610, 47, 176, 1907, 47, 1908, 12, 1915, 1916, 47, 1974, 12, 1975, 4, 1542, 1976, 47, 1977, 1252, 4, 1972, 104, 30, 1978, 12, 1256, 30, 1978, 12, 657, 47, 1197, 672, 47, 1979, 1980, 4, 1115, 1981, 56, 1197, 30, 1982, 1137, 30, 1190, 1983, 1984, 30, 1202, 247, 1985, 248, 47, 1986, 4, 1987, 71, 216, 43, 1988, 30, 163, 1989, 152, 1990, 1906, 47, 252, 3, 434, 1991, 1905, 56, 1135, 121, 1890, 71, 1893, 1894, 12, 1992, 1196, 56, 1095, 12, 1096, 47, 95, 1993, 1257, 1994, 47, 1995, 1996, 268, 657, 113, 47, 79, 312, 1997, 43, 446, 1998, 95, 1999, 43, 1096, 1217, 30, 95, 1002, 2000, 2001, 2002, 1193, 1194, 30, 1224, 1225, 30, 1542, 2003, 30, 769, 2004, 2005, 2006, 2007, 4, 1190, 2008, 47, 1238, 2009, 47, 95, 2010, 1256, 803, 12, 79, 1096, 4, 2011, 2012, 2013, 2014, 966, 40, 95, 1259, 326, 2015, 150, 50, 1027, 47, 56, 79, 2016, 2017, 95, 2018, 390, 2016, 40, 2019, 45, 684, 2020, 2021, 1137, 420, 2022, 649, 2023, 47, 79, 1232, 319, 1233, 59, 656, 47, 82, 38, 2024, 59, 363, 780, 781, 30, 363, 288, 12, 79, 410, 30, 1236, 71, 1235, 47, 1238, 2009, 686, 1239, 59, 1240, 1241, 1242, 47, 2025, 478, 59, 2026, 226, 47, 323, 2027, 1228, 1229, 47, 111, 43, 82, 532, 68, 3, 30, 95, 1022, 106, 386, 47, 387, 388, 1890, 1095, 12, 1096, 1096, 1217, 390, 2016, 1228, 1229, 1232, 319, 343, 391, 1215, 71, 1262, 1216, 1121, 1257, 2028, 2029, 43, 1096, 1217, 1259, 2030, 246, 5, 6, 6, 247, 8, 248, 1187, 1263, 251, 684, 12, 2022, 71, 2020, 1260, 1261, 2031, 12, 2032, 394, 395, 396, 43, 291, 1272, 163, 1273, 43, 79, 312, 56, 1274, 404, 690, 433, 247, 59, 1275, 12, 1276, 95, 2033, 2034, 248, 47, 1281, 1282, 163, 43, 79, 312, 404, 82, 1228, 47, 172, 1283, 152, 756, 154, 409, 1284, 189, 79, 410, 47, 288, 288, 56, 2035, 12, 107, 56, 2036, 406, 47, 95, 2037, 12, 384, 1178, 416, 12, 1271, 47, 1267, 43, 44, 409, 1284, 47, 290, 43, 291, 4, 43, 292, 246, 5, 6, 6, 247, 8, 248, 1187, 1345, 251, 294, 0, 1, 2, 3, 4, 5, 6, 6, 7, 4, 8, 9, 4, 418, 11, 12, 13, 4, 2038, 15, 4, 2039, 17, 18, 421, 422, 423, 21, 2040, 11, 23, 2041, 11, 25, 2042, 2043, 27, 28, 29, 30, 429, 32, 2044, 30, 33, 32, 2045, 30, 301, 35, 12, 1354, 43, 1355, 37, 23, 2046, 309, 48, 457, 2047, 49, 176, 306, 49, 2048, 2049, 247, 2050, 2051, 690, 2052, 248, 49, 2053, 1713, 690, 49, 2054, 49, 2055, 49, 2056, 49, 43, 1473, 2057, 1638, 49, 2058, 2059, 2060, 1818, 2061, 2062, 30, 2063, 1707, 28, 2064, 1423, 2065, 678, 30, 2066, 2067, 47, 1638, 12, 468, 247, 2068, 2069, 248, 47, 276, 150, 4, 157, 30, 2070, 569, 117, 30, 1848, 156, 117, 247, 2071, 2072, 248, 30, 2073, 158, 117, 247, 2071, 2072, 248, 30, 2074, 247, 2075, 2076, 117, 248, 30, 2077, 30, 2078, 30, 2079, 47, 2080, 4, 1221, 2081, 2082, 2083, 2084, 163, 12, 2085, 40, 2086, 178, 2087, 2088, 12, 79, 1256, 2089, 2090, 30, 395, 2091, 2092, 12, 2093, 12, 550, 789, 47, 2087, 2094, 2083, 2095, 1730, 2096, 395, 2088, 2097, 47, 2098, 2099, 59, 410, 71, 1457, 152, 495, 260, 2100, 47, 165, 166, 38, 40, 434, 12, 550, 2101, 189, 2102, 95, 12, 2103, 2104, 121, 2105, 12, 82, 984, 12, 2040, 12, 481, 184, 47, 191, 371, 1974, 594, 40, 176, 2106, 82, 2107, 47, 252, 3, 79, 312, 2108, 1359, 1374, 12, 2103, 2104, 2109, 30, 2110, 30, 2111, 1137, 2112, 2090, 247, 2113, 2114, 2115, 248, 1137, 2116, 2090, 247, 2117, 2118, 248, 50, 1027, 2119, 404, 82, 1751, 2120, 79, 38, 95, 993, 1492, 1034, 71, 381, 47, 442, 2025, 478, 59, 532, 68, 47, 442, 2121, 2122, 71, 2123, 2124, 47, 176, 442, 2125, 1516, 43, 1007, 801, 47, 1024, 1774, 326, 528, 59, 532, 1035, 47, 2126, 71, 2127, 2128, 30, 369, 686, 2129, 47, 111, 43, 532, 68, 95, 1022, 106, 59, 446, 2130, 2131, 246, 5, 6, 6, 247, 8, 248, 2132, 250, 251, 387, 388, 2133, 2087, 2134, 2094, 30, 2135, 2136, 2137, 2138, 2087, 2139, 30, 2140, 2094, 391, 2141, 2142, 2143, 2094, 395, 2144, 12, 82, 2145, 1984, 28, 2015, 104, 394, 395, 396, 43, 291, 1483, 2146, 326, 1035, 43, 79, 410, 47, 2031, 59, 2147, 2148, 2149, 56, 2150, 56, 2151, 406, 2152, 2153, 1400, 12, 276, 150, 47, 2154, 82, 2155, 4, 172, 1283, 163, 741, 1137, 2156, 2157, 163, 741, 247, 2158, 2159, 248, 160, 1823, 163, 2160, 288, 288, 2161, 2162, 326, 2163, 2164, 1341, 43, 44, 409, 2165, 2125, 290, 43, 291, 4, 1881, 1882, 246, 5, 6, 6, 247, 8, 248, 2132, 293, 251, 294, 0, 1, 2, 3, 4, 5, 6, 6, 7, 4, 8, 9, 4, 418, 11, 12, 13, 4, 2166, 15, 4, 620, 17, 18, 19, 20, 21, 2167, 425, 47, 11, 23, 2168, 11, 25, 2169, 2170, 27, 28, 430, 30, 2045, 32, 33, 30, 429, 35, 25, 36, 37, 23, 38, 40, 434, 189, 2171, 71, 57, 12, 64, 556, 30, 56, 38, 59, 2172, 12, 1743, 1799, 1165, 30, 2173, 43, 555, 56, 79, 504, 1692, 47, 48, 50, 51, 53, 47, 2174, 2175, 43, 79, 312, 47, 457, 4, 120, 56, 2176, 121, 2177, 2178, 2179, 463, 56, 519, 12, 79, 125, 43, 81, 12, 2180, 47, 321, 322, 684, 12, 2181, 56, 2182, 2183, 30, 176, 2184, 59, 2185, 47, 952, 12, 980, 981, 50, 211, 247, 2186, 2187, 56, 2188, 248, 47, 165, 166, 38, 119, 43, 2189, 44, 121, 2190, 12, 2150, 1268, 318, 12, 2191, 71, 2192, 59, 2193, 12, 443, 2194, 2195, 420, 406, 47, 2195, 420, 406, 2196, 2197, 2180, 50, 2198, 384, 12, 390, 30, 1268, 446, 40, 95, 380, 336, 56, 2176, 1758, 95, 2199, 2200, 71, 949, 2201, 59, 2202, 2203, 47, 95, 2204, 2205, 12, 2181, 30, 2206, 2207, 12, 2208, 404, 82, 684, 71, 2209, 1035, 3, 47, 176, 95, 321, 1782, 336, 2210, 12, 288, 47, 2211, 121, 2212, 12, 2192, 247, 2213, 248, 71, 2191, 47, 176, 2214, 302, 43, 2215, 1007, 47, 2197, 2214, 2216, 2217, 56, 2218, 1098, 12, 79, 2219, 334, 40, 321, 2220, 2221, 43, 2222, 2223, 47, 191, 192, 1465, 2224, 2225, 2226, 2227, 1468, 1111, 2228, 2227, 1462, 1814, 1464, 2229, 2230, 817, 1462, 623, 1464, 2231, 2232, 771, 2233, 12, 2171, 439, 1034, 47, 363, 780, 781, 30, 782, 71, 783, 47, 50, 637, 784, 1575, 47, 1511, 4, 349, 71, 216, 47, 363, 2234, 2235, 47, 50, 2236, 47, 2237, 4, 347, 343, 30, 50, 2238, 47, 50, 2239, 47, 2240, 789, 343, 785, 786, 4, 2241, 47, 50, 2242, 47, 532, 787, 12, 788, 789, 50, 791, 792, 47, 785, 1495, 4, 794, 1474, 1496, 30, 50, 796, 47, 2243, 2244, 2245, 674, 12, 690, 2246, 47, 631, 4, 803, 71, 804, 30, 176, 95, 2247, 805, 232, 806, 30, 176, 807, 43, 82, 808, 30, 809, 202, 47, 2248, 2249, 1183, 1098, 2219, 2250, 59, 1045, 2251, 30, 176, 1029, 12, 2252, 30, 2253, 232, 2254, 47, 191, 371, 536, 1518, 781, 43, 79, 367, 2255, 4, 373, 49, 2256, 814, 375, 47, 2257, 377, 378, 47, 2258, 817, 818, 819, 820, 247, 821, 248, 47, 2259, 823, 375, 819, 824, 247, 825, 248, 47, 2260, 827, 828, 829, 819, 824, 47, 2261, 377, 831, 832, 833, 247, 834, 248, 47, 2262, 817, 836, 2263, 838, 841, 246, 5, 6, 6, 247, 8, 248, 2264, 1188, 251, 2265, 47, 2266, 817, 2267, 47, 850, 817, 839, 849, 838, 841, 47, 2268, 838, 843, 47, 849, 838, 845, 47, 889, 838, 847, 47, 852, 838, 853, 2269, 838, 818, 855, 820, 47, 2270, 823, 47, 922, 2271, 859, 857, 47, 310, 859, 860, 47, 2272, 859, 893, 47, 2273, 859, 2274, 862, 2275, 864, 2274, 865, 47, 2276, 864, 867, 116, 864, 933, 47, 2277, 859, 869, 2278, 871, 872, 2279, 871, 874, 2280, 377, 939, 47, 1534, 377, 874, 345, 875, 2281, 859, 47, 1518, 781, 43, 79, 106, 4, 338, 2282, 2283, 47, 1520, 2284, 47, 2285, 2286, 47, 1157, 2287, 47, 1619, 850, 859, 47, 857, 1540, 859, 47, 1588, 2288, 871, 47, 1641, 2289, 47, 949, 2290, 859, 47, 1004, 12, 2291, 802, 47, 598, 555, 2292, 2293, 4, 590, 47, 2294, 2295, 2296, 4, 2297, 2298, 2299, 2300, 726, 817, 47, 2301, 2302, 1665, 47, 2303, 2304, 2305, 2306, 590, 47, 2307, 4, 1663, 2308, 1665, 47, 2309, 4, 2310, 43, 2311, 859, 2310, 2312, 2313, 859, 2310, 2314, 1685, 859, 2315, 2316, 2317, 47, 49, 598, 2318, 2319, 4, 590, 47, 942, 49, 564, 2320, 4, 507, 47, 49, 2321, 2293, 4, 2322, 947, 47, 43, 1473, 2323, 2324, 247, 2325, 248, 2326, 2322, 947, 47, 43, 1473, 2323, 2327, 247, 2325, 248, 2328, 2329, 47, 43, 1473, 2324, 247, 2325, 248, 2326, 2329, 47, 43, 1473, 2327, 247, 2325, 248, 2328, 1164, 947, 47, 43, 1473, 2324, 247, 2325, 248, 2326, 1164, 947, 47, 43, 1473, 2327, 247, 2325, 248, 2328, 2330, 47, 2331, 2332, 395, 1551, 2333, 247, 2325, 248, 2328, 1166, 2334, 47, 43, 1473, 2324, 247, 2325, 248, 2335, 247, 2336, 79, 2337, 4, 2335, 248, 1166, 2334, 47, 43, 1473, 2327, 247, 2325, 248, 2328, 47, 49, 2321, 2296, 4, 2331, 2324, 2338, 2339, 2340, 871, 2331, 2327, 2338, 2328, 2341, 2342, 1170, 2328, 2331, 2343, 2342, 1170, 2344, 871, 2331, 2345, 2328, 47, 49, 2321, 2319, 4, 2346, 30, 2347, 30, 2348, 30, 2349, 2350, 47, 49, 949, 2351, 2319, 4, 2352, 30, 2353, 2354, 71, 1166, 2350, 47, 49, 2355, 2356, 2319, 4, 590, 47, 958, 49, 2357, 2320, 4, 2358, 59, 2359, 2360, 47, 49, 630, 2361, 2337, 4, 2362, 2363, 2364, 30, 12, 2365, 2366, 30, 2367, 47, 49, 630, 1965, 2337, 4, 2368, 2369, 2370, 2371, 12, 82, 2372, 47, 252, 3, 434, 56, 436, 12, 2373, 985, 288, 319, 71, 12, 986, 47, 1268, 318, 12, 443, 30, 555, 92, 1011, 95, 2374, 598, 12, 2318, 71, 64, 2375, 56, 38, 59, 2172, 1165, 30, 59, 446, 593, 2376, 47, 95, 586, 2377, 1446, 59, 2378, 71, 2379, 30, 2380, 95, 323, 45, 557, 558, 47, 1268, 2381, 12, 82, 443, 1775, 79, 2382, 71, 532, 68, 12, 79, 318, 30, 95, 1022, 106, 189, 508, 598, 12, 550, 551, 47, 387, 388, 2383, 2384, 2385, 12, 853, 1052, 555, 176, 1049, 391, 698, 47, 2386, 2387, 246, 5, 6, 6, 247, 8, 248, 2264, 1263, 251, 698, 47, 630, 2361, 698, 47, 630, 1965, 47, 698, 47, 598, 12, 2318, 47, 698, 47, 598, 12, 2295, 47, 698, 47, 2388, 2389, 47, 394, 395, 396, 43, 291, 50, 57, 30, 59, 1483, 2146, 268, 82, 2390, 56, 82, 1786, 47, 288, 1874, 43, 1081, 2391, 12, 1021, 439, 79, 312, 2392, 47, 409, 443, 30, 1405, 781, 346, 2393, 12, 302, 2394, 30, 1341, 43, 2395, 290, 43, 291, 4, 43, 292, 246, 5, 6, 6, 247, 8, 248, 2264, 1345, 251, 294, 0, 1, 2, 3, 4, 5, 6, 6, 7, 4, 8, 9, 4, 10, 11, 12, 13, 4, 2396, 15, 4, 432, 17, 18, 421, 422, 423, 21, 2397, 2398, 425, 11, 23, 2399, 11, 25, 2400, 2401, 27, 28, 2402, 30, 2045, 32, 2403, 30, 429, 35, 25, 36, 37, 23, 2404, 71, 410, 1965, 1327, 12, 1023, 2405, 71, 2406, 47, 48, 2407, 2135, 2408, 2409, 48, 2410, 2411, 2412, 2413, 165, 166, 2414, 12, 432, 39, 30, 59, 318, 12, 410, 2415, 12, 405, 482, 12, 68, 47, 95, 328, 1024, 12, 2416, 2101, 247, 2417, 1814, 2107, 2418, 248, 2419, 71, 2406, 79, 312, 156, 12, 617, 47, 1038, 442, 2404, 247, 553, 2420, 2421, 1775, 2195, 405, 482, 248, 71, 410, 2422, 247, 2099, 43, 79, 40, 136, 2195, 405, 482, 248, 47, 95, 434, 56, 1213, 12, 368, 12, 44, 12, 2373, 47, 2423, 12, 79, 937, 43, 79, 161, 2424, 56, 1814, 12, 2107, 439, 30, 121, 318, 12, 2404, 71, 2425, 2422, 56, 2426, 2427, 966, 2027, 95, 690, 2428, 71, 137, 2429, 1965, 50, 2430, 384, 12, 2431, 2432, 47, 1775, 79, 106, 321, 2433, 59, 410, 2422, 247, 2434, 2435, 71, 2436, 2437, 248, 71, 2404, 12, 2416, 2438, 121, 565, 40, 1814, 12, 2107, 425, 71, 683, 190, 2439, 1814, 2440, 425, 30, 95, 2441, 2442, 71, 2406, 189, 79, 312, 156, 47, 2443, 2444, 690, 771, 623, 2445, 56, 2446, 950, 2447, 553, 2448, 2447, 2449, 40, 79, 410, 2450, 59, 82, 1286, 47, 442, 2451, 2452, 2453, 30, 2454, 321, 1782, 2455, 2456, 56, 690, 2183, 247, 176, 2457, 458, 248, 47, 73, 2458, 2459, 2438, 1775, 2195, 405, 482, 47, 71, 73, 1143, 12, 2460, 12, 266, 2461, 405, 71, 420, 12, 446, 2462, 12, 2416, 2438, 47, 2458, 2463, 12, 2464, 12, 788, 56, 2465, 2466, 30, 71, 2467, 2468, 56, 2469, 71, 2470, 47, 191, 192, 363, 780, 781, 47, 195, 71, 197, 47, 2471, 71, 2472, 47, 176, 637, 784, 47, 415, 4, 347, 176, 2473, 50, 2474, 314, 232, 2238, 47, 2240, 343, 47, 785, 786, 4, 532, 787, 12, 788, 789, 30, 50, 384, 12, 790, 232, 791, 792, 47, 2475, 2476, 47, 785, 793, 4, 794, 795, 30, 50, 796, 30, 797, 798, 71, 799, 47, 800, 801, 802, 47, 631, 803, 71, 804, 30, 176, 805, 232, 806, 30, 807, 43, 82, 808, 56, 2477, 71, 56, 2478, 47, 246, 5, 6, 6, 247, 8, 248, 2479, 1188, 251, 809, 202, 47, 1487, 4, 2480, 30, 73, 2459, 2481, 30, 2482, 2483, 1610, 30, 2484, 258, 2464, 12, 2484, 56, 2462, 56, 2485, 2466, 247, 56, 2198, 82, 2484, 1359, 343, 248, 30, 2458, 56, 2486, 247, 56, 2487, 1359, 343, 248, 47, 2488, 2489, 50, 2490, 2215, 2491, 2492, 59, 2466, 56, 40, 95, 2493, 59, 2494, 47, 176, 2236, 232, 1515, 1516, 47, 2495, 1098, 2496, 247, 2497, 59, 1099, 966, 12, 2416, 2498, 47, 2499, 2497, 82, 2500, 12, 446, 2501, 2502, 47, 2503, 2504, 2128, 47, 1004, 12, 82, 616, 343, 47, 191, 371, 176, 95, 2505, 252, 3, 434, 56, 1213, 12, 368, 12, 44, 12, 2373, 985, 2506, 319, 71, 12, 986, 2507, 47, 95, 2508, 57, 2509, 59, 2510, 71, 2511, 59, 160, 47, 1359, 2512, 121, 1814, 12, 2513, 439, 30, 177, 40, 82, 616, 522, 2442, 71, 2406, 2514, 610, 247, 2515, 266, 2516, 12, 810, 248, 47, 95, 1024, 2517, 12, 2518, 121, 2519, 40, 1359, 343, 47, 2520, 2521, 2425, 1965, 30, 1480, 2522, 178, 1286, 383, 230, 47, 82, 616, 1516, 1359, 2523, 2498, 30, 2524, 56, 2465, 2525, 30, 71, 73, 410, 43, 82, 808, 12, 2526, 1269, 2527, 12, 79, 2528, 47, 79, 780, 781, 1359, 2529, 47, 258, 12, 318, 12, 325, 2530, 247, 2531, 2532, 248, 47, 2214, 40, 1359, 178, 2414, 40, 1775, 2533, 321, 2534, 2535, 2536, 189, 79, 2537, 247, 2538, 30, 12, 2416, 2539, 56, 2540, 12, 2541, 2542, 2543, 248, 47, 2458, 2214, 40, 2420, 177, 410, 1965, 2544, 2545, 998, 39, 47, 82, 1227, 2546, 40, 82, 2414, 364, 137, 464, 12, 87, 121, 539, 12, 82, 1227, 71, 566, 2547, 2548, 121, 2105, 12, 2190, 12, 2549, 47, 2214, 137, 2550, 12, 2551, 56, 82, 2552, 59, 2553, 43, 2554, 12, 2446, 2555, 47, 30, 59, 565, 40, 176, 2556, 2557, 12, 82, 2552, 47, 95, 2558, 190, 121, 22, 12, 2559, 47, 186, 2560, 12, 2414, 12, 432, 39, 30, 2423, 189, 598, 12, 410, 1965, 47, 95, 329, 2561, 2562, 2563, 12, 550, 2564, 30, 278, 446, 1974, 594, 2565, 610, 247, 2566, 30, 2429, 248, 47, 141, 59, 266, 2567, 47, 674, 12, 405, 2568, 47, 2567, 2569, 137, 2570, 30, 69, 565, 329, 2571, 30, 2572, 56, 2573, 47, 1227, 1762, 463, 2195, 2182, 39, 12, 2574, 12, 2575, 30, 69, 1034, 47, 532, 2576, 47, 457, 283, 2577, 47, 2578, 12, 2218, 1250, 2579, 2580, 12, 2581, 47, 457, 2047, 2577, 47, 176, 2214, 47, 38, 59, 2582, 12, 2583, 2584, 30, 2585, 2499, 2586, 71, 106, 2587, 12, 82, 2588, 47, 73, 2589, 43, 2590, 2591, 12, 2533, 30, 2592, 410, 1965, 59, 2466, 12, 2593, 47, 2431, 166, 47, 2594, 257, 12, 2595, 2596, 43, 79, 1705, 404, 2182, 2597, 247, 56, 79, 504, 1378, 248, 30, 2567, 2214, 40, 2598, 69, 121, 79, 2599, 47, 2197, 2594, 2583, 1314, 2600, 45, 2601, 12, 2602, 12, 82, 1227, 2195, 2182, 39, 30, 2603, 12, 137, 2604, 2195, 137, 1378, 71, 2605, 2604, 2606, 121, 2607, 2608, 47, 2609, 323, 257, 2610, 328, 321, 2611, 2612, 2613, 30, 59, 2589, 43, 82, 87, 30, 2585, 2614, 30, 2615, 2616, 59, 406, 12, 2617, 30, 71, 2589, 43, 410, 1965, 47, 43, 82, 616, 345, 71, 2618, 2619, 2620, 47, 1410, 2621, 47, 2622, 47, 2623, 47, 2614, 1350, 30, 176, 2624, 47, 2625, 2626, 71, 12, 79, 207, 30, 2436, 2627, 47, 176, 2628, 2629, 2630, 232, 12, 83, 47, 176, 2628, 3, 236, 47, 246, 5, 6, 6, 247, 8, 248, 2479, 1263, 251, 2631, 388, 4, 3, 2632, 47, 2633, 2578, 47, 286, 4, 2634, 2635, 187, 43, 77, 78, 2636, 12, 107, 12, 550, 2637, 47, 2638, 59, 2639, 30, 121, 79, 225, 95, 1022, 176, 1429, 12, 61, 47, 387, 388, 2640, 410, 1965, 176, 2641, 2642, 2643, 12, 2644, 391, 2645, 2646, 2647, 2648, 2649, 2650, 2651, 2652, 2406, 47, 2406, 12, 1870, 2653, 2654, 2655, 1081, 30, 176, 1049, 12, 2150, 2656, 2416, 394, 395, 396, 43, 291, 160, 161, 117, 4, 163, 765, 1178, 153, 2443, 247, 405, 482, 248, 2657, 4, 163, 2658, 43, 79, 312, 47, 620, 406, 288, 95, 2659, 43, 2660, 12, 107, 47, 56, 1786, 12, 2440, 2661, 56, 2662, 2663, 626, 125, 290, 43, 291, 4, 43, 292, 246, 5, 6, 6, 247, 8, 248, 2479, 1345, 251, 294, 0, 1, 2, 3, 4, 5, 6, 6, 7, 4, 8, 9, 4, 10, 11, 12, 13, 4, 2664, 15, 4, 2665, 17, 18, 19, 20, 21, 1089, 11, 23, 2400, 11, 25, 2666, 2667, 27, 28, 1093, 30, 1093, 32, 1094, 30, 301, 35, 25, 36, 37, 23, 1095, 12, 1096, 191, 371, 416, 12, 1429, 12, 1095, 12, 1096, 457, 176, 51, 1097, 53, 43, 2668, 4, 2669, 2670, 71, 2671, 43, 266, 2115, 39, 1895, 1896, 4, 1897, 2672, 1357, 1358, 176, 276, 150, 2673, 4, 2674, 2675, 2676, 4, 176, 2677, 2678, 4, 2679, 769, 2680, 4, 2681, 772, 4, 2682, 2683, 2684, 4, 2685, 49, 2686, 2687, 4, 2688, 2689, 49, 2690, 2691, 4, 346, 507, 1902, 1903, 4, 2692, 2693, 623, 2694, 2695, 1147, 1148, 288, 56, 2150, 50, 1027, 47, 2696, 4, 2697, 2597, 4, 375, 2698, 30, 2699, 2700, 30, 1157, 1583, 30, 342, 4, 1150, 2701, 30, 2702, 2703, 1181, 4, 985, 516, 47, 2704, 4, 1591, 189, 1169, 30, 1170, 30, 1171, 30, 1168, 30, 1926, 71, 47, 1164, 1165, 47, 2705, 4, 2706, 2707, 4, 507, 2708, 1943, 4, 507, 2694, 12, 2709, 4, 2710, 2711, 2697, 2597, 4, 2712, 4, 1197, 30, 769, 1121, 2713, 4, 2714, 30, 2715, 30, 671, 2716, 343, 30, 1205, 343, 30, 2717, 2718, 4, 104, 30, 1203, 60, 1204, 47, 616, 192, 2719, 780, 781, 30, 195, 71, 197, 30, 2472, 71, 2471, 47, 49, 986, 43, 79, 367, 4, 2720, 55, 4, 30, 2721, 1423, 4, 30, 2252, 4, 2722, 4, 1966, 30, 2723, 59, 482, 12, 1904, 30, 176, 2724, 30, 176, 1968, 47, 49, 1986, 4, 1987, 71, 2725, 30, 2726, 2727, 2728, 30, 2729, 1493, 2730, 1121, 59, 2731, 4, 467, 49, 176, 1907, 30, 176, 1908, 47, 1111, 247, 312, 71, 2732, 248, 2733, 4, 2734, 2735, 30, 1209, 2736, 657, 30, 2737, 2738, 30, 2739, 246, 5, 6, 6, 247, 8, 248, 1187, 1188, 251, 2740, 388, 4, 2741, 12, 1096, 286, 4, 2742, 56, 1214, 121, 1095, 12, 1096, 4, 2743, 286, 12, 1096, 2744, 2745, 1994, 2744, 1228, 1229, 252, 3, 312, 12, 79, 1096, 1096, 1217, 79, 312, 2746, 43, 446, 2747, 47, 1220, 12, 1221, 1193, 1222, 30, 769, 2748, 71, 1224, 1225, 47, 1164, 4, 1165, 1226, 1227, 4, 346, 2749, 4, 507, 2749, 1221, 4, 467, 590, 2750, 2751, 2693, 623, 47, 1228, 1229, 47, 95, 1024, 1230, 1231, 189, 82, 1228, 47, 1240, 1241, 610, 71, 230, 2752, 1145, 47, 986, 234, 12, 82, 656, 47, 2522, 1286, 383, 47, 590, 12, 2753, 71, 2754, 47, 1243, 4, 1244, 789, 47, 1980, 4, 176, 807, 30, 1238, 2009, 30, 2755, 4, 2756, 47, 1293, 4, 1248, 12, 395, 1250, 56, 2757, 1252, 47, 2758, 50, 384, 12, 2759, 30, 2431, 12, 2026, 244, 47, 1208, 4, 672, 12, 2760, 30, 2761, 176, 2762, 47, 176, 384, 12, 2763, 30, 176, 359, 2764, 47, 286, 4, 106, 2765, 47, 79, 1232, 1233, 234, 12, 82, 656, 30, 1234, 1235, 30, 1236, 30, 176, 1237, 71, 59, 363, 780, 781, 47, 1238, 686, 1239, 30, 59, 1240, 1241, 1242, 47, 1243, 4, 1244, 789, 47, 1245, 1227, 2749, 507, 1095, 12, 1096, 1248, 12, 395, 1250, 56, 2757, 1252, 1232, 1253, 1215, 1216, 2766, 59, 2767, 1257, 1994, 1254, 12, 79, 1096, 246, 5, 6, 6, 247, 8, 248, 1187, 1263, 251, 1255, 12, 79, 1256, 803, 12, 79, 1096, 1259, 12, 1248, 2768, 1260, 1261, 1262, 1149, 2751, 2693, 623, 2769, 2769, 2769, 2769, 2769, 2769, 2769, 1264, 288, 121, 91, 1265, 12, 107, 56, 1266, 406, 47, 1267, 43, 44, 1268, 1269, 1270, 12, 1271, 47, 2770, 2771, 2772, 43, 79, 2773, 79, 1232, 47, 1272, 163, 1273, 43, 79, 312, 56, 1274, 404, 690, 433, 247, 59, 1275, 12, 1276, 346, 1277, 59, 1278, 345, 189, 1279, 82, 1280, 248, 47, 1281, 1282, 163, 43, 79, 312, 404, 82, 1228, 47, 172, 1283, 152, 756, 154, 409, 1284, 189, 79, 410, 47, 1285, 1286, 12, 1287, 71, 1288, 1289, 71, 1290, 47, 1291, 1292, 12, 79, 1293, 59, 1294, 71, 1295, 1296, 47, 1297, 565, 686, 1298, 59, 1299, 12, 178, 1300, 346, 1301, 47, 176, 1023, 1302, 56, 1303, 30, 1304, 346, 1305, 268, 1306, 79, 1232, 47, 1307, 343, 59, 1308, 192, 1309, 47, 1310, 1311, 769, 71, 1312, 12, 1313, 1314, 47, 409, 442, 1315, 12, 446, 1243, 1319, 137, 1320, 1321, 12, 446, 1322, 47, 1323, 1324, 43, 79, 1325, 47, 409, 1326, 410, 1327, 12, 82, 1328, 30, 1316, 1329, 1258, 47, 387, 388, 2774, 2688, 2775, 12, 1332, 1334, 1335, 28, 43, 1336, 43, 1337, 1338, 176, 1339, 288, 1264, 288, 121, 91, 1265, 12, 107, 56, 1266, 406, 47, 95, 1340, 384, 71, 416, 12, 1271, 189, 1341, 43, 44, 71, 565, 1342, 47, 290, 43, 291, 4, 43, 292, 246, 5, 6, 6, 247, 8, 248, 1187, 1345, 251, 294]\n",
            "[0, 0, 0, 0, 0, 0, 0, 0, 0, 0, 0, 0, 0, 0, 0, 0, 0, 0, 0, 0, 0, 0, 0, 0, 0, 0, 0, 0, 0, 0, 0, 0, 0, 0, 0, 0, 0, 0, 0, 0, 0, 0, 0, 0, 0, 0, 0, 0, 0, 0, 0, 0, 0, 0, 0, 0, 0, 0, 0, 0, 0, 0, 0, 0, 0, 1, 2, 2, 2, 0, 0, 0, 0, 0, 0, 0, 0, 0, 0, 0, 0, 0, 0, 0, 0, 0, 0, 0, 0, 0, 0, 0, 0, 0, 0, 0, 0, 0, 0, 0, 0, 0, 0, 0, 0, 0, 0, 0, 0, 0, 0, 0, 0, 0, 0, 0, 0, 0, 0, 0, 0, 0, 0, 0, 0, 0, 0, 0, 0, 0, 0, 0, 0, 0, 0, 0, 0, 0, 0, 0, 0, 0, 0, 0, 0, 0, 0, 0, 0, 0, 0, 0, 0, 0, 0, 0, 0, 0, 0, 0, 0, 0, 0, 0, 0, 0, 0, 0, 0, 0, 0, 0, 0, 0, 0, 0, 0, 0, 0, 0, 0, 0, 0, 0, 0, 0, 0, 0, 0, 0, 0, 0, 0, 0, 0, 0, 0, 0, 0, 0, 0, 0, 0, 0, 0, 0, 0, 0, 0, 0, 0, 0, 0, 0, 0, 0, 0, 0, 0, 1, 2, 0, 0, 0, 0, 0, 0, 0, 0, 0, 0, 0, 0, 0, 0, 0, 0, 0, 0, 0, 0, 0, 0, 0, 0, 0, 0, 0, 0, 0, 0, 0, 0, 0, 0, 0, 0, 0, 0, 0, 0, 0, 0, 0, 0, 0, 0, 0, 0, 0, 0, 0, 0, 0, 0, 0, 0, 0, 0, 0, 0, 0, 0, 0, 0, 0, 0, 0, 0, 0, 0, 0, 0, 0, 0, 0, 0, 0, 0, 0, 0, 0, 0, 0, 0, 0, 0, 0, 0, 0, 0, 0, 0, 0, 0, 0, 0, 0, 0, 0, 0, 0, 0, 0, 0, 0, 0, 0, 0, 0, 0, 0, 0, 0, 0, 1, 2, 2, 2, 2, 2, 0, 0, 0, 0, 0, 0, 0, 0, 0, 0, 0, 0, 0, 0, 0, 0, 0, 0, 0, 0, 0, 0, 0, 0, 0, 0, 0, 0, 0, 0, 0, 0, 0, 0, 0, 0, 0, 0, 0, 0, 0, 0, 0, 0, 0, 0, 0, 0, 0, 0, 0, 0, 0, 0, 0, 0, 1, 2, 2, 2, 2, 2, 2, 2, 0, 0, 0, 0, 0, 0, 0, 0, 0, 0, 1, 2, 2, 2, 2, 2, 2, 2, 2, 0, 1, 2, 2, 2, 2, 2, 2, 2, 0, 0, 0, 0, 0, 0, 0, 0, 1, 2, 2, 2, 2, 2, 2, 2, 2, 2, 2, 2, 2, 0, 1, 2, 2, 2, 0, 0, 0, 0, 0, 0, 0, 0, 0, 0, 0, 0, 0, 0, 0, 0, 0, 0, 0, 0, 0, 0, 0, 0, 0, 0, 0, 0, 0, 0, 0, 0, 0, 0, 0, 0, 0, 0, 0, 0, 0, 0, 0, 0, 0, 0, 0, 0, 3, 4, 4, 4, 4, 0, 0, 0, 0, 0, 0, 0, 0, 0, 0, 0, 0, 0, 0, 0, 0, 0, 0, 0, 0, 0, 0, 0, 0, 0, 0, 0, 0, 0, 0, 0, 0, 0, 0, 0, 0, 0, 0, 0, 0, 0, 0, 0, 0, 0, 0, 0, 0, 0, 0, 0, 0, 0, 0, 0, 0, 0, 0, 0, 0, 0, 0, 0, 0, 0, 0, 0, 0, 0, 0, 0, 0, 0, 0, 0, 0, 0, 0, 0, 0, 0, 0, 0, 0, 0, 0, 0, 0, 0, 0, 0, 0, 0, 0, 0, 0, 0, 0, 0, 0, 0, 0, 0, 0, 0, 0, 0, 0, 0, 0, 0, 0, 0, 0, 0, 0, 0, 0, 0, 0, 0, 0, 0, 0, 0, 0, 0, 0, 0, 0, 0, 0, 0, 0, 0, 0, 0, 0, 0, 0, 0, 0, 0, 0, 0, 0, 0, 0, 2, 1, 0, 0, 0, 0, 0, 0, 0, 0, 0, 0, 0, 0, 0, 0, 0, 0, 0, 0, 0, 0, 0, 0, 0, 0, 0, 0, 0, 0, 0, 0, 0, 0, 0, 0, 0, 0, 0, 0, 0, 0, 0, 0, 0, 0, 0, 0, 0, 0, 0, 0, 0, 0, 0, 0, 0, 0, 0, 0, 0, 0, 0, 0, 0, 0, 0, 0, 0, 0, 0, 0, 0, 0, 0, 0, 0, 0, 0, 0, 0, 0, 0, 0, 0, 0, 0, 0, 0, 0, 0, 0, 0, 0, 0, 0, 0, 0, 0, 0, 0, 0, 0, 0, 0, 0, 0, 0, 0, 0, 0, 0, 0, 0, 1, 2, 2, 0, 0, 0, 0, 0, 0, 1, 2, 0, 0, 0, 0, 0, 0, 0, 0, 0, 0, 0, 0, 0, 0, 0, 0, 0, 0, 0, 0, 0, 0, 0, 0, 0, 0, 0, 1, 1, 0, 0, 0, 0, 1, 2, 2, 2, 0, 0, 0, 0, 0, 0, 0, 0, 0, 0, 0, 0, 0, 0, 0, 0, 0, 0, 0, 0, 0, 0, 0, 0, 0, 0, 0, 0, 0, 0, 0, 0, 0, 0, 0, 0, 0, 0, 0, 0, 0, 0, 0, 0, 0, 0, 0, 0, 0, 0, 0, 0, 0, 0, 0, 0, 0, 0, 0, 0, 0, 0, 0, 0, 0, 0, 0, 0, 0, 0, 0, 0, 0, 0, 0, 0, 0, 0, 0, 0, 0, 0, 0, 0, 0, 0, 0, 0, 0, 0, 0, 0, 0, 0, 0, 0, 0, 0, 0, 0, 0, 0, 0, 0, 0, 0, 0, 0, 0, 0, 0, 0, 0, 0, 0, 0, 0, 0, 0, 0, 0, 0, 0, 0, 0, 0, 0, 0, 0, 0, 0, 0, 0, 0, 0, 0, 0, 0, 0, 0, 0, 0, 0, 0, 0, 0, 0, 0, 0, 0, 0, 0, 0, 0, 0, 0, 0, 0, 0, 0, 0, 0, 0, 0, 0, 0, 0, 0, 0, 0, 0, 0, 0, 0, 0, 0, 0, 0, 0, 0, 0, 0, 0, 0, 0, 0, 0, 0, 0, 0, 0, 0, 0, 0, 0, 0, 0, 0, 0, 0, 0, 0, 0, 0, 0, 0, 0, 0, 0, 0, 0, 0, 0, 0, 0, 0, 0, 0, 0, 0, 0, 0, 0, 0, 0, 0, 0, 0, 0, 0, 0, 0, 0, 0, 0, 0, 0, 1, 2, 2, 2, 0, 0, 0, 0, 0, 0, 0, 0, 0, 0, 0, 0, 0, 0, 0, 0, 0, 0, 0, 0, 0, 0, 0, 0, 0, 0, 0, 0, 0, 0, 0, 0, 0, 0, 0, 0, 0, 0, 0, 0, 0, 0, 0, 0, 0, 0, 0, 0, 0, 0, 0, 0, 0, 0, 0, 0, 0, 0, 0, 0, 0, 2, 2, 2, 1, 0, 0, 0, 0, 0, 0, 0, 0, 0, 0, 0, 0, 0, 0, 0, 0, 0, 0, 0, 0, 0, 0, 0, 0, 0, 0, 0, 1, 1, 0, 0, 0, 0, 0, 0, 0, 0, 0, 0, 0, 0, 0, 0, 0, 0, 0, 0, 0, 0, 0, 1, 2, 2, 2, 2, 2, 2, 0, 0, 0, 0, 0, 0, 0, 0, 0, 0, 0, 0, 0, 0, 0, 0, 0, 0, 0, 0, 0, 0, 0, 0, 0, 0, 0, 0, 0, 0, 0, 0, 0, 0, 0, 0, 0, 0, 0, 0, 0, 0, 0, 0, 0, 0, 0, 0, 0, 0, 0, 0, 0, 0, 0, 1, 1, 0, 0, 0, 0, 0, 0, 0, 0, 0, 0, 0, 0, 0, 0, 0, 2, 1, 1, 0, 0, 0, 0, 0, 0, 0, 0, 0, 0, 0, 0, 0, 0, 0, 0, 0, 0, 0, 0, 0, 0, 0, 0, 0, 0, 0, 0, 2, 1, 0, 0, 0, 0, 0, 0, 0, 0, 0, 0, 0, 0, 0, 0, 0, 0, 0, 0, 0, 0, 0, 0, 1, 2, 0, 0, 0, 0, 0, 0, 0, 0, 0, 0, 0, 0, 0, 0, 0, 0, 0, 0, 0, 0, 0, 0, 0, 0, 0, 0, 0, 0, 0, 0, 0, 0, 0, 0, 0, 0, 0, 0, 0, 0, 0, 0, 0, 0, 0, 0, 0, 0, 0, 0, 0, 0, 0, 0, 0, 0, 0, 0, 0, 0, 0, 0, 0, 1, 2, 2, 2, 2, 2, 2, 0, 0, 0, 0, 0, 0, 0, 0, 0, 0, 1, 2, 2, 2, 0, 0, 0, 0, 0, 0, 0, 0, 0, 0, 0, 0, 0, 0, 0, 0, 0, 0, 0, 0, 0, 0, 0, 0, 0, 0, 0, 0, 0, 0, 0, 0, 0, 0, 0, 0, 0, 0, 0, 0, 0, 0, 0, 0, 0, 1, 2, 2, 2, 2, 2, 2, 2, 0, 0, 0, 0, 0, 0, 0, 0, 0, 0, 0, 0, 0, 0, 0, 0, 0, 1, 2, 2, 0, 0, 0, 0, 0, 0, 0, 0, 0, 0, 0, 0, 0, 0, 0, 0, 0, 1, 2, 2, 2, 2, 2, 0, 0, 0, 0, 0, 0, 0, 0, 0, 0, 0, 0, 0, 0, 0, 0, 0, 0, 0, 0, 1, 2, 2, 2, 2, 2, 2, 0, 0, 0, 0, 0, 0, 0, 0, 0, 0, 0, 0, 0, 0, 0, 0, 0, 0, 0, 0, 0, 0, 0, 0, 0, 0, 0, 0, 0, 0, 0, 0, 0, 0, 0, 0, 0, 0, 0, 0, 0, 0, 0, 0, 0, 0, 0, 0, 0, 0, 0, 0, 0, 0, 0, 1, 2, 2, 2, 2, 2, 0, 0, 1, 2, 2, 2, 2, 2, 0, 0, 0, 0, 0, 0, 0, 0, 0, 0, 0, 0, 0, 0, 0, 0, 0, 0, 0, 0, 0, 0, 0, 0, 0, 0, 0, 0, 0, 0, 0, 0, 0, 0, 0, 0, 0, 0, 0, 0, 0, 0, 0, 0, 0, 0, 0, 0, 0, 2, 1, 1, 0, 0, 0, 0, 0, 0, 0, 0, 0, 0, 0, 0, 0, 0, 0, 0, 0, 0, 0, 0, 0, 0, 0, 0, 0, 0, 0, 0, 0, 0, 0, 0, 0, 0, 0, 0, 0, 0, 0, 0, 0, 0, 0, 0, 0, 0, 0, 0, 0, 0, 0, 0, 0, 0, 0, 0, 0, 0, 0, 0, 0, 0, 0, 0, 0, 0, 0, 0, 0, 0, 0, 0, 0, 0, 0, 0, 0, 0, 0, 0, 0, 0, 0, 0, 0, 0, 0, 0, 0, 0, 0, 0, 0, 0, 0, 0, 0, 0, 0, 0, 0, 0, 0, 0, 0, 0, 0, 0, 0, 0, 0, 0, 0, 0, 0, 0, 0, 0, 0, 0, 0, 0, 0, 0, 0, 0, 0, 0, 0, 0, 0, 0, 0, 0, 0, 0, 0, 0, 0, 0, 0, 0, 0, 0, 0, 0, 0, 0, 0, 0, 0, 0, 0, 0, 0, 0, 0, 0, 0, 0, 0, 0, 0, 0, 0, 0, 0, 0, 0, 0, 0, 0, 1, 2, 2, 2, 0, 0, 0, 0, 0, 0, 0, 0, 0, 1, 2, 2, 2, 2, 2, 2, 2, 0, 0, 0, 0, 0, 0, 1, 2, 2, 0, 0, 0, 0, 0, 0, 0, 0, 0, 0, 0, 0, 0, 0, 1, 2, 2, 2, 2, 1, 2, 2, 2, 2, 2, 0, 0, 0, 0, 0, 0, 0, 0, 0, 0, 0, 0, 0, 0, 0, 0, 0, 0, 0, 0, 0, 0, 0, 0, 0, 0, 0, 0, 0, 0, 0, 0, 0, 0, 0, 0, 0, 0, 0, 0, 0, 0, 0, 0, 0, 0, 0, 0, 0, 0, 0, 0, 0, 0, 0, 0, 0, 0, 0, 0, 0, 0, 0, 0, 0, 0, 0, 0, 0, 0, 0, 0, 0, 0, 0, 0, 0, 0, 0, 0, 0, 0, 0, 0, 0, 0, 0, 0, 0, 0, 0, 0, 0, 0, 0, 0, 0, 0, 0, 0, 0, 0, 0, 0, 0, 0, 0, 0, 0, 0, 0, 0, 0, 0, 0, 0, 0, 0, 0, 0, 0, 0, 0, 0, 0, 0, 0, 0, 0, 0, 0, 0, 0, 0, 0, 0, 0, 0, 0, 0, 0, 0, 0, 0, 0, 0, 0, 0, 0, 0, 0, 0, 0, 0, 0, 0, 0, 0, 0, 0, 0, 0, 0, 0, 0, 0, 0, 0, 0, 0, 0, 0, 0, 0, 0, 0, 0, 0, 0, 0, 0, 0, 0, 0, 0, 0, 0, 0, 0, 0, 0, 0, 0, 0, 0, 0, 0, 0, 0, 0, 0, 0, 0, 0, 0, 0, 0, 0, 0, 0, 0, 0, 0, 0, 0, 0, 0, 0, 0, 0, 0, 0, 0, 0, 0, 0, 0, 0, 0, 0, 0, 0, 0, 0, 0, 0, 0, 0, 0, 0, 0, 0, 0, 0, 0, 0, 0, 0, 0, 0, 0, 0, 0, 0, 0, 0, 0, 0, 0, 0, 0, 0, 0, 0, 0, 0, 0, 0, 0, 0, 0, 0, 0, 0, 0, 0, 0, 0, 0, 0, 0, 0, 0, 0, 0, 0, 0, 0, 0, 0, 0, 0, 0, 0, 0, 0, 0, 0, 0, 0, 0, 0, 0, 0, 0, 0, 0, 0, 0, 0, 0, 0, 0, 0, 0, 0, 0, 0, 0, 0, 0, 0, 0, 0, 0, 0, 0, 0, 0, 0, 0, 0, 0, 0, 0, 0, 0, 0, 0, 0, 0, 0, 0, 0, 0, 0, 0, 0, 0, 0, 0, 0, 0, 0, 0, 0, 0, 0, 0, 0, 0, 0, 0, 0, 0, 0, 0, 0, 0, 0, 0, 0, 0, 0, 0, 0, 0, 0, 0, 0, 0, 0, 0, 0, 0, 0, 0, 0, 0, 0, 0, 0, 0, 0, 0, 0, 0, 0, 0, 0, 0, 0, 0, 0, 0, 0, 0, 0, 0, 0, 0, 0, 0, 0, 0, 0, 0, 0, 0, 0, 0, 0, 0, 0, 0, 0, 0, 0, 0, 0, 0, 0, 0, 0, 0, 0, 0, 0, 0, 0, 0, 0, 0, 0, 0, 0, 0, 0, 0, 0, 0, 0, 0, 0, 0, 0, 0, 0, 0, 0, 0, 0, 0, 0, 0, 0, 0, 0, 0, 0, 0, 0, 0, 0, 0, 0, 0, 0, 0, 0, 0, 0, 0, 0, 0, 0, 0, 0, 0, 0, 0, 0, 0, 0, 0, 0, 0, 0, 0, 0, 0, 0, 0, 0, 0, 0, 0, 0, 0, 0, 0, 0, 0, 0, 0, 0, 2, 2, 2, 2, 2, 1, 1, 0, 0, 0, 0, 0, 0, 0, 0, 0, 0, 0, 0, 0, 0, 0, 0, 0, 0, 0, 0, 0, 0, 0, 0, 0, 0, 0, 0, 0, 0, 0, 0, 0, 0, 0, 0, 0, 0, 0, 0, 0, 0, 0, 0, 0, 0, 0, 0, 1, 2, 2, 2, 0, 0, 0, 0, 0, 0, 0, 0, 0, 0, 0, 0, 0, 0, 0, 0, 0, 0, 0, 0, 0, 0, 0, 0, 0, 0, 0, 0, 0, 0, 0, 0, 0, 0, 0, 0, 0, 0, 0, 0, 0, 0, 0, 0, 0, 0, 0, 0, 0, 0, 0, 0, 0, 0, 0, 0, 0, 0, 0, 0, 0, 0, 0, 0, 0, 0, 0, 0, 0, 0, 0, 0, 0, 0, 0, 0, 0, 0, 0, 0, 0, 0, 0, 0, 0, 0, 0, 0, 0, 0, 0, 0, 0, 0, 0, 0, 0, 0, 0, 0, 0, 0, 0, 0, 0, 0, 0, 0, 0, 0, 0, 0, 0, 0, 0, 0, 0, 0, 0, 2, 2, 2, 2, 2, 0, 1, 1, 0, 0, 0, 0, 0, 0, 0, 0, 0, 0, 0, 0, 0, 0, 0, 3, 3, 4, 4, 4, 4, 4, 4, 4, 1, 2, 2, 2, 2, 2, 2, 2, 2, 0, 0, 0, 0, 0, 0, 0, 0, 0, 0, 0, 0, 0, 0, 0, 0, 0, 0, 0, 0, 0, 0, 0, 0, 0, 0, 0, 0, 0, 0, 0, 0, 0, 0, 0, 0, 0, 0, 0, 1, 2, 2, 0, 0, 0, 0, 0, 0, 0, 0, 0, 0, 0, 0, 0, 0, 0, 0, 0, 0, 0, 0, 0, 0, 0, 0, 0, 0, 0, 0, 0, 0, 0, 0, 0, 0, 0, 0, 0, 0, 0, 0, 0, 0, 0, 0, 0, 0, 0, 0, 0, 0, 1, 0, 0, 0, 0, 0, 0, 0, 0, 0, 0, 0, 0, 0, 0, 0, 0, 0, 0, 0, 0, 0, 0, 0, 0, 0, 0, 0, 0, 0, 0, 0, 1, 2, 2, 2, 2, 2, 2, 2, 2, 0, 0, 0, 0, 0, 0, 0, 0, 0, 0, 0, 0, 1, 2, 0, 0, 1, 2, 0, 0, 1, 2, 0, 0, 0, 1, 2, 0, 0, 0, 0, 0, 0, 0, 0, 0, 0, 0, 0, 0, 0, 0, 0, 0, 0, 0, 0, 0, 0, 0, 0, 0, 0, 0, 0, 0, 0, 0, 0, 0, 0, 0, 0, 0, 0, 0, 0, 0, 0, 0, 0, 0, 0, 0, 0, 0, 0, 0, 0, 0, 0, 0, 0, 0, 0, 0, 0, 0, 0, 0, 0, 0, 0, 0, 0, 0, 0, 0, 0, 0, 0, 0, 0, 0, 0, 0, 0, 0, 0, 0, 0, 0, 0, 0, 0, 0, 0, 0, 0, 0, 0, 0, 0, 0, 0, 0, 0, 0, 0, 0, 0, 0, 0, 0, 0, 0, 0, 0, 0, 0, 0, 0, 0, 0, 0, 0, 0, 0, 0, 0, 0, 0, 0, 0, 0, 0, 0, 0, 0, 0, 0, 0, 0, 0, 0, 0, 0, 0, 0, 0, 0, 0, 0, 0, 0, 0, 0, 0, 0, 0, 0, 0, 0, 0, 0, 0, 0, 0, 0, 0, 0, 0, 0, 0, 0, 0, 0, 0, 0, 0, 0, 0, 0, 0, 0, 0, 0, 0, 0, 0, 0, 0, 0, 0, 0, 0, 0, 0, 0, 0, 0, 0, 0, 0, 0, 0, 0, 0, 0, 0, 0, 0, 0, 0, 0, 0, 0, 0, 0, 0, 0, 0, 0, 0, 0, 0, 0, 0, 0, 0, 0, 0, 0, 0, 0, 0, 0, 1, 2, 2, 2, 2, 0, 0, 0, 0, 0, 1, 2, 2, 2, 0, 0, 0, 0, 0, 0, 0, 0, 0, 0, 0, 0, 0, 0, 0, 0, 0, 0, 0, 0, 0, 0, 0, 0, 0, 0, 0, 0, 0, 0, 0, 0, 0, 0, 0, 3, 3, 4, 4, 4, 0, 0, 0, 0, 0, 0, 0, 0, 1, 2, 2, 2, 0, 0, 0, 0, 0, 0, 0, 0, 0, 0, 0, 0, 0, 0, 0, 0, 0, 0, 0, 0, 0, 0, 0, 0, 0, 0, 0, 0, 1, 2, 0, 0, 0, 0, 0, 0, 0, 0, 0, 0, 0, 0, 0, 0, 0, 0, 0, 0, 0, 0, 0, 0, 0, 0, 0, 0, 0, 0, 0, 0, 0, 0, 0, 0, 0, 0, 0, 0, 0, 0, 0, 0, 0, 0, 0, 0, 0, 0, 0, 0, 0, 0, 0, 0, 0, 0, 0, 0, 0, 0, 0, 0, 0, 0, 0, 0, 0, 0, 1, 2, 2, 2, 2, 2, 2, 2, 2, 1, 1, 0, 0, 0, 0, 0, 0, 0, 0, 0, 0, 0, 0, 1, 2, 2, 2, 2, 2, 2, 2, 0, 0, 0, 0, 0, 0, 0, 0, 0, 0, 0, 0, 0, 0, 0, 0, 0, 0, 0, 0, 0, 0, 0, 0, 0, 0, 0, 0, 0, 0, 0, 0, 0, 0, 0, 0, 0, 0, 0, 0, 0, 0, 0, 0, 0, 0, 0, 0, 0, 0, 0, 0, 0, 0, 0, 0, 0, 0, 0, 0, 0, 0, 0, 0, 0, 0, 0, 0, 0, 0, 0, 0, 0, 0, 0, 0, 0, 0, 0, 0, 0, 0, 0, 0, 0, 0, 0, 0, 0, 0, 0, 0, 0, 0, 0, 0, 0, 0, 0, 0, 0, 0, 0, 0, 0, 0, 0, 0, 0, 0, 0, 0, 0, 0, 0, 0, 0, 0, 0, 0, 0, 0, 0, 0, 0, 0, 0, 0, 0, 0, 0, 0, 0, 0, 0, 0, 0, 0, 0, 0, 0, 0, 0, 0, 0, 0, 0, 0, 0, 0, 0, 0, 0, 0, 0, 0, 0, 0, 1, 2, 0, 0, 0, 0, 0, 0, 0, 0, 0, 0, 0, 0, 0, 0, 0, 0, 0, 0, 0, 0, 0, 0, 0, 0, 0, 0, 0, 0, 0, 0, 0, 0, 0, 0, 0, 0, 0, 0, 0, 0, 0, 0, 0, 0, 0, 0, 0, 0, 0, 0, 0, 0, 0, 0, 0, 0, 0, 0, 0, 0, 0, 0, 0, 0, 0, 0, 0, 0, 0, 0, 0, 0, 0, 0, 0, 0, 0, 0, 0, 0, 0, 0, 0, 0, 0, 0, 0, 0, 0, 0, 0, 0, 0, 0, 0, 0, 0, 0, 0, 0, 0, 0, 0, 0, 0, 0, 0, 0, 0, 0, 0, 0, 0, 0, 0, 0, 0, 0, 0, 0, 0, 0, 0, 0, 0, 0, 0, 0, 0, 0, 0, 0, 0, 0, 0, 0, 0, 0, 0, 0, 0, 0, 0, 0, 0, 0, 0, 0, 0, 0, 0, 0, 0, 0, 0, 0, 0, 0, 0, 0, 0, 0, 0, 0, 0, 0, 0, 0, 0, 1, 2, 2, 2, 2, 2, 2, 2, 2, 2, 2, 2, 2, 2, 0, 0, 0, 0, 0, 0, 0, 0, 0, 0, 0, 0, 0, 0, 0, 0, 0, 0, 0, 0, 0, 0, 0, 0, 0, 0, 0, 0, 0, 0, 0, 0, 0, 0, 0, 0, 0, 0, 0, 0, 0, 0, 0, 0, 0, 0, 0, 0, 0, 0, 0, 0, 0, 0, 0, 0, 0, 0, 0, 0, 0, 0, 0, 0, 0, 0, 0, 0, 0, 0, 1, 2, 0, 0, 0, 0, 0, 0, 0, 0, 0, 0, 0, 0, 0, 0, 0, 0, 0, 0, 0, 0, 0, 0, 0, 0, 0, 0, 0, 0, 0, 0, 0, 0, 0, 0, 0, 0, 0, 0, 0, 0, 0, 0, 0, 0, 0, 1, 2, 0, 0, 0, 0, 0, 0, 0, 0, 0, 0, 0, 0, 0, 0, 0, 0, 0, 0, 0, 0, 0, 0, 0, 0, 0, 0, 0, 0, 0, 0, 0, 0, 0, 0, 0, 0, 0, 0, 0, 0, 0, 0, 0, 0, 0, 0, 0, 0, 0, 0, 0, 0, 0, 0, 0, 0, 0, 0, 0, 0, 0, 0, 0, 0, 0, 0, 0, 0, 0, 0, 0, 0, 0, 0, 0, 0, 0, 0, 0, 0, 0, 0, 0, 0, 0, 0, 0, 0, 0, 0, 0, 0, 0, 0, 0, 0, 0, 0, 0, 0, 1, 2, 2, 2, 2, 2, 2, 0, 0, 0, 0, 0, 0, 0, 0, 0, 0, 0, 0, 0, 0, 0, 0, 0, 0, 0, 0, 0, 0, 0, 0, 0, 0, 0, 0, 0, 0, 0, 0, 0, 0, 0, 0, 0, 0, 0, 0, 0, 0, 0, 0, 0, 0, 0, 0, 0, 0, 0, 0, 0, 0, 0, 0, 0, 0, 0, 0, 0, 0, 0, 0, 0, 0, 0, 0, 0, 0, 0, 0, 0, 0, 0, 0, 0, 0, 0, 0, 0, 0, 0, 0, 0, 0, 0, 0, 0, 0, 0, 0, 0, 1, 2, 2, 2, 0, 0, 0, 0, 0, 0, 0, 0, 0, 0, 0, 0, 0, 0, 0, 0, 0, 0, 0, 0, 0, 0, 0, 0, 0, 0, 0, 0, 0, 0, 0, 0, 0, 0, 0, 0, 0, 0, 0, 0, 0, 0, 0, 0, 0, 0, 0, 0, 0, 0, 0, 0, 0, 0, 0, 0, 0, 0, 0, 0, 0, 0, 0, 0, 0, 1, 2, 2, 0, 0, 0, 0, 0, 0, 0, 0, 0, 0, 0, 0, 0, 0, 0, 0, 0, 0, 0, 0, 0, 0, 0, 0, 0, 0, 0, 0, 0, 0, 0, 0, 0, 0, 0, 0, 0, 0, 0, 0, 0, 0, 0, 0, 0, 0, 0, 0, 0, 0, 0, 0, 0, 0, 0, 0, 0, 0, 0, 0, 0, 0, 0, 0, 0, 0, 0, 0, 0, 0, 0, 0, 0, 0, 0, 0, 0, 0, 0, 0, 0, 0, 0, 0, 0, 0, 0, 0, 0, 0, 0, 0, 0, 0, 0, 0, 0, 0, 0, 0, 0, 0, 0, 0, 0, 0, 0, 0, 0, 0, 0, 0, 0, 0, 0, 0, 0, 0, 0, 0, 0, 0, 0, 0, 0, 0, 0, 0, 0, 0, 0, 0, 0, 0, 0, 0, 0, 0, 0, 0, 0, 0, 0, 0, 0, 0, 0, 0, 0, 0, 0, 0, 0, 0, 0, 0, 0, 0, 0, 0, 0, 0, 0, 0, 0, 0, 0, 0, 0, 0, 0, 0, 0, 0, 0, 0, 0, 0, 0, 0, 0, 0, 0, 0, 0, 0, 0, 0, 0, 0, 0, 0, 0, 0, 0, 0, 0, 0, 0, 0, 1, 2, 2, 2, 2, 0, 0, 0, 0, 0, 0, 0, 0, 0, 0, 0, 0, 0, 0, 0, 0, 0, 0, 0, 0, 0, 0, 0, 0, 0, 0, 1, 2, 2, 2, 2, 2, 2, 2, 1, 2, 2, 2, 2, 0, 0, 0, 0, 0, 0, 1, 2, 2, 0, 0, 0, 0, 0, 0, 0, 0, 0, 0, 0, 0, 0, 0, 0, 0, 0, 0, 0, 0, 0, 0, 0, 0, 0, 0, 0, 0, 0, 0, 0, 0, 0, 0, 0, 0, 0, 0, 0, 0, 0, 0, 1, 2, 2, 2, 2, 1, 2, 2, 2, 2, 2, 2, 1, 2, 2, 2, 0, 0, 0, 0, 0, 0, 0, 0, 0, 0, 0, 0, 0, 0, 0, 0, 0, 0, 0, 0, 0, 0, 0, 0, 0, 0, 0, 0, 0, 0, 0, 0, 0, 0, 0, 0, 0, 0, 0, 0, 0, 0, 0, 0, 0, 0, 0, 1, 2, 2, 2, 2, 0, 0, 0, 0, 0, 0, 0, 0, 0, 0, 0, 0, 0, 0, 0, 0, 0, 0, 0, 0, 0, 0, 0, 0, 0, 0, 0, 0, 0, 0, 0, 0, 0, 0, 0, 0, 0, 0, 0, 0, 0, 0, 0, 0, 0, 0, 0, 0, 0, 0, 0, 0, 0, 0, 0, 0, 0, 0, 0, 0, 0, 0, 0, 0, 0, 0, 0, 0, 0, 0, 0, 0, 0, 0, 0, 0, 0, 0, 0, 0, 0, 0, 0, 0, 0, 0, 0, 0, 0, 0, 0, 0, 0, 0, 0, 0, 0, 0, 0, 0, 0, 0, 0, 0, 0, 0, 0, 0, 0, 0, 0, 0, 0, 0, 0, 0, 0, 0, 0, 0, 0, 0, 0, 0, 0, 0, 0, 0, 0, 0, 0, 0, 0, 0, 0, 0, 0, 0, 0, 0, 0, 0, 0, 0, 0, 0, 0, 0, 0, 0, 0, 0, 0, 0, 0, 1, 2, 2, 2, 2, 2, 2, 0, 0, 0, 0, 0, 0, 0, 0, 0, 0, 0, 0, 0, 0, 0, 0, 0, 0, 0, 0, 0, 0, 0, 0, 0, 0, 0, 0, 0, 0, 0, 0, 0, 0, 0, 0, 0, 0, 0, 0, 0, 0, 0, 0, 0, 0, 0, 0, 2, 0, 1, 0, 0, 0, 0, 0, 2, 2, 0, 0, 0, 0, 1, 0, 0, 0, 0, 0, 0, 0, 0, 0, 0, 0, 0, 0, 0, 0, 0, 0, 0, 0, 0, 0, 0, 0, 0, 0, 0, 0, 0, 0, 0, 0, 0, 0, 0, 0, 0, 0, 0, 0, 0, 0, 0, 0, 0, 0, 0, 0, 0, 0, 0, 0, 0, 0, 0, 0, 0, 0, 0, 0, 0, 0, 0, 0, 0, 0, 0, 0, 0, 0, 0, 0, 0, 0, 0, 0, 0, 0, 0, 0, 0, 0, 0, 0, 0, 0, 0, 0, 0, 0, 0, 0, 0, 0, 0, 0, 0, 0, 0, 0, 0, 0, 0, 0, 0, 0, 0, 0, 0, 0, 0, 0, 0, 0, 0, 0, 0, 0, 0, 0, 0, 0, 0, 0, 0, 0, 0, 0, 0, 0, 0, 0, 0, 0, 0, 0, 0, 0, 0, 0, 0, 0, 0, 0, 0, 0, 0, 0, 0, 0, 0, 0, 0, 0, 0, 0, 0, 0, 0, 0, 0, 0, 0, 0, 0, 0, 0, 0, 0, 0, 0, 0, 0, 0, 0, 0, 0, 0, 0, 0, 0, 0, 0, 0, 0, 0, 0, 0, 0, 0, 0, 0, 0, 0, 0, 0, 0, 0, 0, 0, 0, 0, 0, 0, 0, 0, 0, 0, 0, 0, 0, 0, 0, 0, 0, 0, 0, 0, 0, 0, 0, 0, 0, 0, 0, 0, 0, 0, 0, 0, 0, 0, 0, 0, 0, 0, 0, 0, 0, 0, 0, 0, 0, 0, 0, 0, 0, 0, 0, 0, 0, 0, 0, 0, 0, 0, 0, 0, 0, 0, 0, 0, 0, 0, 1, 2, 2, 0, 0, 0, 0, 0, 0, 0, 0, 0, 0, 0, 0, 0, 0, 0, 0, 0, 0, 0, 0, 0, 0, 0, 0, 0, 0, 0, 0, 0, 0, 0, 0, 0, 0, 0, 0, 0, 0, 0, 0, 0, 0, 0, 0, 0, 0, 0, 0, 0, 0, 0, 0, 0, 0, 0, 0, 0, 0, 0, 0, 0, 0, 0, 0, 0, 0, 0, 0, 0, 0, 0, 0, 0, 0, 0, 0, 0, 0, 0, 0, 0, 0, 0, 0, 0, 0, 0, 0, 1, 1, 0, 0, 0, 0, 0, 0, 0, 0, 0, 0, 0, 0, 0, 0, 0, 0, 0, 0, 0, 0, 0, 0, 0, 0, 0, 0, 0, 0, 0, 0, 0, 0, 0, 0, 0, 0, 0, 0, 0, 0, 0, 0, 0, 0, 0, 0, 0, 0, 0, 3, 3, 4, 4, 4, 4, 4, 4, 4, 4, 4, 4, 4, 0, 3, 4, 4, 4, 4, 4, 4, 0, 0, 0, 0, 0, 0, 0, 0, 0, 0, 0, 0, 0, 0, 0, 0, 0, 0, 0, 0, 0, 0, 0, 0, 0, 0, 0, 0, 0, 0, 0, 0, 0, 0, 0, 0, 0, 0, 3, 4, 4, 4, 0, 0, 0, 0, 0, 0, 0, 0, 0, 0, 0, 0, 0, 0, 1, 2, 2, 2, 2, 2, 2, 2, 0, 0, 0, 0, 0, 0, 0, 0, 0, 0, 0, 0, 0, 0, 0, 0, 0, 0, 0, 0, 0, 0, 0, 0, 0, 0, 0, 0, 0, 0, 0, 0, 0, 0, 0, 0, 0, 0, 0, 0, 0, 0, 0, 0, 0, 0, 0, 0, 0, 0, 0, 0, 0, 0, 0, 0, 0, 0, 0, 0, 0, 0, 0, 0, 0, 0, 0, 0, 0, 0, 0, 0, 0, 0, 0, 0, 0, 0, 0, 0, 0, 0, 0, 0, 0, 0, 0, 0, 0, 0, 0, 0, 0, 0, 0, 0, 0, 0, 0, 0, 0, 0, 0, 0, 0, 0, 0, 0, 0, 0, 1, 2, 2, 2, 2, 2, 2, 0, 0, 0, 0, 0, 0, 0, 0, 0, 0, 0, 0, 0, 0, 0, 0, 0, 0, 0, 0, 0, 0, 0, 0, 0, 0, 0, 0, 0, 0, 0, 0, 0, 0, 0, 0, 0, 0, 0, 0, 0, 0, 0, 0, 0, 0, 0, 0, 0, 0, 0, 0, 0, 0, 0, 0, 0, 0, 0, 0, 0, 0, 0, 0, 0, 0, 0, 0, 0, 0, 0, 0, 0, 0, 0, 0, 0, 0, 0, 0, 0, 0, 0, 0, 0, 0, 0, 0, 0, 0, 0, 0, 0, 0, 0, 0, 0, 0, 0, 0, 0, 0, 0, 0, 0, 0, 0, 0, 0, 0, 0, 0, 0, 0, 0, 0, 0, 0, 0, 0, 0, 0, 0, 0, 0, 0, 0, 0, 0, 0, 0, 0, 0, 0, 0, 0, 0, 0, 0, 0, 0, 0, 0, 0, 0, 0, 0, 0, 0, 0, 0, 0, 0, 0, 0, 0, 0, 0, 0, 0, 0, 0, 0, 0, 0, 0, 0, 0, 0, 0, 0, 0, 0, 0, 0, 0, 0, 0, 0, 0, 0, 0, 0, 0, 0, 0, 0, 0, 0, 0, 0, 0, 0, 0, 0, 0, 0, 0, 0, 0, 0, 0, 0, 0, 0, 0, 0, 0, 0, 0, 0, 0, 0, 0, 0, 0, 0, 0, 0, 0, 0, 0, 0, 0, 0, 0, 0, 0, 0, 0, 0, 0, 0, 0, 0, 0, 0, 0, 0, 0, 0, 0, 0, 0, 0, 0, 0, 0, 0, 0, 0, 0, 0, 0, 0, 0, 0, 0, 0, 0, 0, 0, 0, 0, 0, 0, 0, 0, 0, 0, 0, 0, 0, 0, 0, 0, 0, 0, 0, 0, 0, 0, 0, 0, 0, 0, 0, 0, 0, 0, 0, 0, 0, 0, 0, 0, 0, 0, 0, 0, 0, 0, 0, 0, 0, 0, 0, 0, 0, 0, 0, 0, 0, 0, 0, 0, 0, 0, 0, 0, 0, 0, 0, 0, 0, 0, 0, 0, 0, 0, 0, 0, 0, 0, 0, 0, 0, 0, 0, 0, 0, 0, 0, 0, 0, 0, 0, 0, 0, 0, 0, 0, 0, 0, 0, 0, 0, 0, 0, 0, 0, 0, 0, 0, 0, 0, 0, 0, 1, 2, 2, 2, 2, 0, 0, 0, 0, 0, 0, 0, 0, 0, 0, 0, 0, 0, 0, 0, 0, 0, 0, 0, 0, 0, 1, 2, 2, 2, 0, 0, 0, 0, 0, 0, 0, 0, 0, 0, 0, 0, 0, 0, 0, 0, 0, 0, 2, 2, 1, 1, 0, 0, 0, 0, 0, 0, 0, 0, 0, 0, 0, 0, 0, 0, 0, 0, 0, 0, 0, 0, 0, 0, 0, 0, 0, 0, 1, 2, 2, 2, 2, 0, 0, 0, 0, 1, 2, 2, 2, 2, 2, 0, 0, 0, 0, 0, 0, 0, 0, 0, 0, 0, 0, 0, 0, 0, 0, 0, 0, 0, 0, 0, 0, 0, 0, 0, 0, 0, 0, 0, 0, 0, 0, 0, 2, 1, 0, 0, 0, 0, 0, 0, 0, 0, 0, 0, 0, 0, 0, 0, 0, 0, 0, 0, 0, 0, 0, 0, 0, 0, 0, 0, 0, 0, 0, 0, 0, 0, 0, 0, 0, 0, 0, 0, 0, 0, 0, 0, 0, 0, 0, 0, 0, 0, 0, 0, 0, 0, 0, 0, 0, 0, 0, 0, 0, 0, 0, 0, 2, 1, 1, 2, 1, 1, 2, 1, 2, 2, 2, 1, 0, 0, 0, 0, 0, 0, 0, 0, 0, 0, 0, 0, 0, 0, 0, 0, 0, 0, 0, 0, 0, 0, 0, 0, 0, 0, 0, 0, 0, 0, 0, 0, 0, 0, 0, 0, 0, 0, 0, 0, 0, 0, 0, 0, 0, 0, 0, 0, 0, 0, 0, 0, 0, 0, 0, 0, 0, 0, 0, 0, 0, 0, 0, 0, 0, 0, 0, 0, 0, 0, 0, 0, 1, 2, 2, 2, 2, 0, 0, 0, 1, 2, 2, 0, 0, 0, 0, 0, 0, 0, 1, 2, 2, 0, 0, 0, 0, 0, 0, 0, 0, 0, 0, 0, 0, 0, 0, 0, 0, 0, 0, 0, 0, 0, 0, 0, 0, 0, 0, 0, 0, 0, 0, 0, 0, 0, 0, 0, 0, 0, 0, 0, 0, 0, 0, 0, 0, 0, 0, 0, 0, 0, 0, 0, 0, 0, 0, 0, 0, 0, 0, 0, 0, 0, 0, 0, 0, 0, 0, 0, 0, 0, 0, 0, 0, 0, 0, 0, 0, 0, 0, 0, 0, 0, 0, 0, 0, 0, 0, 0, 0, 0, 0, 0, 0, 0, 0, 0, 0, 0, 0, 0, 0, 0, 0, 0, 0, 0, 0, 0, 0, 0, 0, 0, 0, 0, 0, 0, 0, 0, 0, 0, 0, 0, 0, 0, 0, 0, 0, 0, 0, 0, 0, 0, 0, 0, 0, 0, 0, 0, 0, 0, 0, 0, 0, 0, 0, 0, 0, 0, 0, 0, 0, 0, 1, 2, 2, 0, 0, 0, 0, 0, 0, 0, 0, 0, 0, 0, 0, 0, 0, 0, 0, 0, 0, 0, 0, 0, 0, 0, 0, 0, 0, 0, 0, 0, 0, 0, 0, 0, 0, 0, 0, 0, 0, 0, 0, 0, 0, 0, 0, 0, 0, 0, 0, 0, 0, 0, 0, 0, 0, 0, 0, 0, 0, 0, 0, 0, 0, 0, 0, 0, 0, 0, 0, 0, 0, 0, 0, 0, 0, 0, 0, 0, 0, 0, 0, 0, 0, 0, 0, 0, 0, 0, 0, 0, 0, 0, 0, 0, 0, 0, 0, 0, 0, 0, 0, 0, 0, 0, 0, 0, 0, 0, 0, 0, 0, 0, 0, 0, 0, 0, 0, 0, 0, 0, 0, 0, 0, 0, 0, 0, 0, 0, 0, 0, 0, 0, 0, 0, 0, 0, 0, 0, 0, 0, 0, 0, 0, 0, 0, 0, 0, 0, 0, 0, 0, 0, 0, 0, 0, 0, 0, 0, 0, 0, 0, 0, 0, 0, 0, 0, 0, 0, 0, 0, 0, 0, 0, 0, 0, 0, 0, 0, 0, 0, 0, 0, 0, 0, 0, 0, 0, 0, 0, 0, 0, 0, 0, 0, 0, 0, 0, 0, 0, 0, 0, 0, 0, 0, 0, 0, 0, 0, 0, 0, 0, 0, 0, 0, 0, 0, 0, 0, 0, 0, 0, 0, 0, 0, 0, 0, 0, 0, 0, 0, 0, 0, 0, 0, 0, 0, 0, 0, 0, 0, 0, 0, 0, 0, 0, 0, 0, 0, 0, 0, 0, 0, 0, 0, 0, 0, 0, 0, 0, 0, 0, 0, 0, 0, 0, 0, 0, 0, 0, 0, 0, 0, 0, 0, 0, 0, 0, 0, 1, 2, 0, 1, 2, 0, 0, 0, 0, 0, 0, 0, 0, 0, 0, 0, 0, 0, 0, 0, 0, 0, 0, 0, 0, 0, 0, 0, 0, 0, 0, 0, 0, 0, 0, 0, 0, 0, 0, 0, 0, 0, 0, 0, 0, 0, 0, 0, 0, 0, 0, 0, 0, 0, 0, 0, 0, 0, 0, 0, 0, 0, 0, 0, 0, 0, 0, 0, 0, 0, 0, 0, 0, 0, 0, 0, 0, 0, 0, 0, 0, 0, 0, 0, 0, 0, 0, 0, 0, 0, 0, 0, 0, 0, 0, 0, 0, 0, 0, 0, 0, 0, 0, 0, 0, 0, 0, 0, 0, 0, 0, 0, 0, 0, 0, 0, 0, 0, 0, 0, 0, 0, 0, 0, 0, 0, 0, 0, 0, 0, 0, 0, 0, 0, 0, 0, 0, 0, 0, 0, 0, 0, 0, 0, 0, 0, 0, 0, 0, 0, 0, 0, 0, 0, 0, 0, 0, 0, 0, 0, 0, 0, 0, 0, 0, 0, 0, 0, 0, 0, 0, 0, 1, 2, 2, 2, 2, 0, 0, 0, 0, 0, 0, 0, 0, 0, 0, 0, 0, 0, 0, 0, 0, 0, 0, 0, 0, 0, 0, 0, 0, 0, 0, 0, 0, 0, 0, 1, 2, 2, 0, 0, 0, 0, 0, 0, 0, 0, 0, 0, 0, 1, 1, 0, 0, 0, 0, 0, 0, 0, 0, 0, 0, 0, 0, 0, 0, 1, 2, 2, 2, 2, 2, 2, 2, 0, 0, 0, 0, 0, 0, 0, 0, 0, 0, 0, 0, 0, 0, 0, 0, 0, 0, 0, 0, 0, 0, 0, 0, 0, 0, 0, 0, 0, 0, 0, 0, 0, 0, 0, 0, 0, 0, 0, 0, 0, 0, 0, 0, 0, 0, 0, 0, 0, 0, 0, 0, 0, 0, 0, 0, 0, 0, 0, 0, 0, 0, 0, 0, 0, 0, 0, 0, 0, 0, 0, 0, 0, 0, 0, 0, 0, 0, 0, 0, 0, 0, 0, 0, 0, 0, 0, 0, 0, 0, 0, 0, 0, 0, 0, 0, 0, 0, 0, 0, 0, 0, 0, 0, 0, 0, 0, 0, 0, 0, 0, 0, 0, 0, 0, 0, 0, 0, 0, 0, 0, 0, 0, 0, 0, 0, 0, 0, 0, 0, 0, 0, 0, 0, 0, 0, 0, 0, 0, 0, 0, 0, 0, 0, 0, 0, 0, 0, 0, 0, 0, 0, 0, 0, 0, 0, 0, 0, 0, 0, 0, 0, 0, 0, 0, 0, 0, 0, 0, 0, 0, 0, 0, 0, 0, 0, 0, 0, 0, 0, 0, 0, 0, 0, 0, 0, 0, 0, 0, 0, 0, 0, 0, 0, 0, 0, 0, 0, 0, 0, 0, 0, 0, 0, 0, 0, 0, 0, 0, 0, 0, 0, 0, 0, 0, 0, 3, 4, 4, 4, 0, 0, 0, 0, 0, 0, 0, 0, 0, 1, 2, 2, 2, 0, 0, 0, 0, 0, 0, 0, 0, 0, 0, 0, 0, 0, 0, 0, 0, 0, 0, 0, 0, 0, 0, 0, 0, 0, 0, 0, 0, 0, 0, 0, 0, 0, 0, 0, 1, 2, 2, 2, 2, 0, 0, 0, 0, 1, 2, 0, 0, 0, 0, 0, 0, 0, 0, 0, 0, 0, 0, 0, 0, 0, 0, 0, 0, 0, 0, 0, 0, 0, 0, 0, 0, 0, 0, 0, 0, 0, 0, 0, 0, 0, 0, 0, 0, 0, 1, 2, 2, 2, 2, 2, 0, 0, 0, 0, 0, 0, 0, 0, 0, 0, 0, 0, 0, 2, 2, 2, 2, 1, 1, 0, 0, 0, 0, 0, 0, 0, 0, 0, 0, 0, 0, 0, 0, 0, 0, 0, 0, 1, 2, 2, 2, 2, 2, 2, 2, 2, 0, 0, 0, 0, 0, 0, 0, 0, 0, 0, 0, 1, 2, 2, 2, 2, 2, 2, 0, 0, 0, 0, 0, 0, 0, 0, 0, 0, 0, 0, 0, 0, 0, 0, 0, 0, 0, 0, 0, 0, 0, 0, 0, 0, 0, 0, 0, 0, 0, 0, 0, 0, 0, 0, 0, 0, 0, 0, 0, 0, 0, 0, 0, 0, 0, 0, 0, 0, 0, 0, 0, 0, 0, 0, 1, 2, 2, 2, 2, 0, 0, 0, 0, 0, 0, 0, 0, 0, 0, 1, 2, 2, 0, 0, 0, 0, 0, 1, 2, 2, 1, 2, 2, 0, 0, 0, 0, 0, 0, 0, 0, 1, 2, 2, 0, 0, 0, 0, 0, 1, 2, 2, 2, 0, 0, 0, 0, 0, 0, 0, 1, 2, 2, 0, 0, 0, 0, 0, 0, 0, 0, 0, 0, 0, 0, 0, 0, 1, 2, 2, 2, 2, 2, 2, 1, 2, 2, 2, 2, 2, 0, 0, 0, 0, 0, 0, 0, 0, 0, 0, 0, 0, 0, 1, 2, 2, 2, 2, 2, 2, 2, 2, 0, 0, 0, 0, 0, 0, 0, 0, 0, 0, 0, 0, 0, 0, 0, 0, 0, 0, 0, 0, 0, 0, 0, 0, 0, 0, 0, 0, 0, 0, 0, 0, 0, 0, 0, 0, 0, 0, 0, 0, 0, 0, 0, 0, 0, 0, 0, 0, 0, 0, 0, 0, 0, 0, 0, 0, 0, 0, 0, 0, 0, 0, 0, 0, 0, 0, 0, 0, 0, 0, 0, 0, 0, 0, 0, 0, 0, 0, 0, 0, 0, 0, 0, 0, 0, 0, 0, 0, 0, 0, 0, 0, 0, 0, 0, 0, 0, 0, 0, 0, 0, 0, 0, 0, 0, 0, 0, 0, 0, 0, 0, 0, 0, 0, 0, 0, 0, 0, 0, 0, 0, 0, 0, 0, 0, 0, 0, 0, 0, 0, 0, 0, 0, 0, 0, 0, 0, 0, 0, 0, 0, 0, 0, 0, 0, 0, 0, 0, 0, 0, 0, 0, 0, 0, 0, 0, 0, 0, 0, 0, 0, 0, 0, 0, 0, 0, 0, 0, 0, 0, 0, 0, 0, 0, 0, 0, 0, 0, 0, 0, 0, 0, 0, 0, 0, 0, 0, 0, 0, 0, 0, 0, 0, 0, 0, 0, 0, 0, 0, 0, 0, 0, 0, 0, 0, 0, 0, 0, 0, 0, 0, 0, 0, 0, 0, 0, 0, 0, 0, 0, 0, 0, 0, 0, 0, 0, 0, 0, 0, 0, 0, 0, 0, 0, 0, 0, 0, 0, 0, 0, 0, 0, 0, 0, 0, 0, 0, 0, 0, 0, 0, 0, 0, 0, 0, 0, 0, 0, 0, 0, 0, 2, 2, 2, 1, 1, 0, 0, 0, 0, 0, 0, 0, 0, 0, 0, 0, 0, 0, 0, 0, 0, 0, 0, 0, 0, 0, 0, 0, 0, 0, 0, 0, 0, 0, 0, 0, 0, 0, 0, 0, 0, 0, 0, 0, 0, 0, 0, 0, 0, 0, 0, 0, 0, 0, 0, 0, 0, 0, 0, 0, 0, 0, 2, 2, 2, 2, 2, 2, 1, 2, 2, 2, 2, 2, 2, 2, 2, 2, 2, 1, 4, 4, 4, 4, 4, 4, 4, 4, 4, 3, 0, 0, 0, 0, 0, 0, 0, 2, 2, 2, 2, 2, 2, 2, 2, 2, 1, 1, 0, 0, 0, 0, 0, 0, 0, 0, 0, 0, 0, 0, 0, 0, 0, 0, 0, 0, 0, 0, 0, 0, 0, 0, 0, 0, 0, 0, 0, 0, 0, 0, 0, 0, 0, 0, 0, 0, 0, 0, 0, 0, 0, 0, 0, 0, 0, 0, 0, 0, 0, 0, 0, 0, 0, 0, 0, 0, 0, 0, 0, 0, 0, 0, 0, 0, 3, 3, 4, 4, 4, 0, 0, 0, 0, 0, 0, 0, 0, 0, 0, 0, 0, 0, 0, 0, 0, 0, 0, 0, 0, 0, 0, 0, 0, 0, 0, 0, 0, 0, 0, 0, 0, 0, 0, 0, 0, 0, 0, 0, 0, 0, 0, 0, 0, 0, 0, 0, 0, 0, 0, 0, 0, 0, 0, 0, 0, 0, 0, 0, 0, 0, 0, 0, 0, 0, 0, 0, 0, 0, 0, 0, 0, 0, 0, 0, 0, 0, 0, 0, 0, 0, 0, 2, 1, 1, 0, 1, 1, 2, 2, 0, 0, 0, 0, 0, 0, 0, 0, 0, 0, 0, 0, 0, 0, 0, 0, 0, 0, 0, 0, 0, 0, 0, 0, 0, 0, 0, 0, 0, 1, 2, 2, 2, 2, 0, 0, 0, 0, 0, 0, 0, 0, 0, 0, 0, 0, 0, 0, 0, 0, 0, 0, 0, 0, 0, 0, 0, 0, 0, 0, 0, 0, 0, 0, 0, 0, 0, 0, 0, 0, 0, 0, 0, 0, 0, 0, 0, 1, 2, 2, 0, 0, 0, 0, 0, 0, 0, 0, 0, 0, 0, 0, 0, 0, 0, 0, 0, 0, 0, 0, 0, 0, 0, 0, 0, 0, 0, 0, 0, 0, 0, 0, 0, 0, 0, 0, 0, 0, 0, 0, 0, 0, 0, 0, 0, 0, 0, 0, 0, 0, 0, 0, 0, 0, 0, 0, 0, 0, 0, 0, 0, 0, 0, 0, 0, 0, 0, 0, 0, 0, 0, 0, 0, 0, 0, 0, 0, 0, 0, 0, 0, 0, 0, 0, 0, 0, 0, 0, 0, 0, 0, 0, 0, 0, 0, 0, 0, 0, 0, 0, 0, 0, 0, 0, 0, 0, 0, 0, 0, 0, 0, 0, 0, 0, 0, 0, 0, 0, 0, 0, 0, 0, 0, 0, 0, 0, 0, 0, 0, 0, 0, 0, 0, 0, 0, 0, 0, 0, 0, 0, 0, 0, 0, 0, 0, 0, 0, 0, 0, 0, 0, 0, 0, 0, 0, 0, 0, 0, 0, 0, 0, 0, 0, 0, 0, 0, 0, 0, 0, 0, 0, 0, 0, 0, 0, 0, 0, 0, 0, 0, 0, 0, 0, 0, 0, 0, 0, 0, 0, 0, 0, 0, 0, 0, 0, 0, 0, 0, 0, 0, 0, 0, 0, 0, 0, 0, 0, 0, 0, 0, 0, 0, 0, 0, 0, 0, 0, 0, 0, 0, 0, 0, 0, 0, 0, 0, 0, 0, 0, 0, 0, 0, 0, 0, 0, 1, 2, 2, 2, 2, 2, 2, 0, 0, 0, 0, 0, 0, 0, 0, 0, 0, 0, 0, 0, 0, 0, 0, 0, 0, 0, 0, 0, 0, 0, 0, 0, 0, 0, 0, 0, 0, 0, 0, 0, 0, 0, 0, 0, 0, 0, 0, 0, 0, 0, 0, 0, 0, 0, 0, 0, 0, 0, 0, 0, 0, 0, 0, 3, 3, 4, 4, 4, 4, 4, 4, 4, 4, 4, 0, 0, 0, 0, 0, 0, 0, 0, 0, 0, 0, 0, 0, 0, 1, 2, 2, 2, 0, 0, 0, 0, 0, 0, 0, 0, 0, 0, 0, 0, 0, 0, 0, 0, 0, 0, 0, 0, 0, 0, 0, 0, 0, 0, 0, 0, 0, 0, 0, 1, 1, 2, 2, 2, 2, 2, 0, 0, 0, 0, 0, 0, 0, 0, 0, 0, 0, 0, 0, 0, 0, 0, 0, 0, 0, 0, 0, 0, 1, 2, 2, 2, 0, 0, 0, 1, 2, 1, 2, 2, 2, 2, 2, 0, 0, 0, 0, 0, 0, 0, 0, 0, 0, 0, 0, 1, 2, 2, 2, 2, 2, 2, 2, 0, 0, 0, 0, 0, 0, 0, 0, 0, 1, 2, 2, 0, 0, 0, 0, 0, 0, 0, 0, 0, 0, 0, 0, 0, 0, 1, 2, 2, 2, 2, 0, 0, 0, 0, 0, 0, 0, 0, 0, 0, 0, 0, 0, 0, 0, 0, 0, 0, 0, 0, 0, 0, 0, 0, 0, 0, 0, 0, 0, 0, 0, 0, 0, 0, 0, 0, 0, 0, 0, 0, 0, 0, 0, 0, 0, 0, 0, 0, 0, 0, 0, 0, 0, 0, 0, 0, 0, 0, 0, 0, 0, 0, 0, 0, 0, 0, 1, 2, 2, 2, 2, 0, 0, 0, 0, 0, 0, 0, 0, 0, 1, 2, 2, 2, 2, 2, 0, 0, 0, 0, 0, 0, 0, 0, 0, 0, 0, 0, 0, 0, 0, 0, 0, 0, 0, 0, 0, 0, 0, 0, 0, 0, 0, 0, 0, 0, 0, 0, 0, 1, 2, 2, 2, 2, 0, 0, 0, 0, 0, 0, 0, 0, 0, 0, 0, 0, 0, 0, 0, 0, 0, 0, 0, 0, 0, 0, 0, 0, 0, 0, 0, 0, 0, 0, 0, 0, 0, 0, 0, 0, 0, 0, 0, 0, 0, 0, 0, 0, 0, 0, 0, 0, 0, 0, 0, 0, 0, 0, 0, 0, 0, 0, 0, 0, 0, 0, 0, 0, 0, 0, 0, 0, 0, 0, 0, 0, 0, 0, 0, 0, 0, 0, 0, 0, 0, 0, 0, 0, 0, 0, 0, 0, 0, 0, 0, 0, 0, 0, 0, 0, 0, 0, 0, 0, 0, 0, 0, 0, 0, 0, 0, 0, 0, 3, 3, 4, 4, 4, 4, 0, 0, 0, 0, 0, 0, 0, 0, 0, 0, 0, 0, 0, 0, 0, 0, 0, 0, 0, 0, 0, 0, 0, 0, 0, 0, 0, 0, 0, 0, 0, 0, 0, 0, 0, 0, 0, 0, 0, 0, 0, 0, 0, 0, 0, 0, 0, 0, 0, 0, 0, 0, 0, 0, 0, 0, 0, 0, 0, 0, 0, 0, 0, 0, 0, 0, 0, 0, 0, 0, 0, 0, 0, 0, 0, 0, 0, 0, 0, 0, 0, 0, 0, 0, 0, 0, 0, 0, 0, 0, 0, 0, 0, 1, 2, 2, 2, 2, 2, 2, 0, 0, 0, 0, 0, 0, 0, 0, 0, 0, 0, 0, 0, 0, 0, 0, 0, 0, 0, 0, 0, 0, 0, 0, 0, 0, 0, 0, 0, 0, 0, 0, 0, 0, 0, 0, 0, 0, 0, 0, 0, 0, 0, 0, 0, 0, 0, 0, 0, 0, 0, 0, 0, 0, 0, 0, 0, 0, 0, 0, 0, 0, 0, 0, 0, 0, 0, 0, 0, 0, 0, 0, 0, 0, 0, 0, 0, 0, 0, 0, 0, 0, 0, 0, 0, 0, 0, 0, 0, 0, 0, 0, 0, 0, 0, 0, 0, 0, 0, 0, 0, 0, 1, 2, 2, 0, 0, 0, 0, 0, 0, 0, 0, 0, 0, 0, 0, 0, 0, 0, 0, 0, 0, 0, 0, 0, 0, 0, 0, 0, 0, 0, 0, 0, 0, 0, 0, 0, 0, 0, 0, 0, 0, 0, 0, 0, 0, 0, 0, 0, 0, 0, 0, 0, 0, 0, 0, 0, 0, 0, 0, 0, 0, 0, 0, 0, 0, 0, 0, 0, 0, 0, 0, 0, 0, 0, 0, 0, 0, 0, 0, 0, 0, 0, 0, 0, 0, 0, 0, 0, 0, 0, 0, 0, 0, 0, 0, 0, 0, 0, 0, 0, 0, 0, 0, 0, 0, 0, 0, 0, 0, 0, 0, 0, 0, 0, 0, 0, 0, 0, 0, 0, 0, 0, 0, 0, 0, 0, 0, 0, 0, 0, 0, 0, 0, 0, 0, 0, 0, 0, 0, 0, 0, 0, 0, 0, 0, 0, 0, 0, 1, 2, 2, 0, 0, 0, 0, 0, 0, 0, 0, 0, 0, 1, 2, 2, 2, 2, 2, 2, 2, 1, 2, 2, 2, 2, 0, 0, 0, 0, 0, 0, 0, 0, 0, 0, 0, 0, 0, 0, 0, 0, 0, 0, 0, 0, 0, 0, 0, 0, 0, 0, 0, 0, 0, 0, 0, 0, 0, 0, 0, 0, 0, 0, 0, 0, 0, 0, 0, 1, 2, 2, 2, 2, 0, 0, 0, 0, 0, 1, 2, 0, 0, 0, 0, 0, 0, 0, 0, 0, 0, 0, 0, 0, 0, 0, 0, 0, 0, 0, 0, 0, 0, 0, 1, 2, 0, 0, 0, 0, 0, 0, 0, 0, 0, 0, 0, 0, 0, 0, 0, 0, 0, 0, 0, 0, 0, 0, 0, 0, 0, 0, 0, 0, 0, 0, 0, 0, 0, 0, 0, 0, 0, 0, 0, 0, 0, 0, 0, 0, 0, 0, 0, 0, 0, 0, 0, 0, 0, 0, 0, 0, 0, 0, 0, 0, 0, 0, 0, 0, 0, 0, 0, 0, 0, 0, 0, 0, 0, 0, 0, 0, 0, 0, 0, 0, 0, 0, 0, 0, 0, 0, 0, 0, 0, 0, 0, 0, 0, 0, 0, 0, 0, 0, 0, 0, 0, 0, 0, 0, 0, 0, 0, 0, 0, 0, 0, 0, 0, 0, 0, 0, 0, 0, 0, 0, 0, 0, 0, 0, 0, 0, 0, 0, 0, 1, 2, 2, 2, 0, 0, 0, 0, 0, 0, 0, 0, 0, 0, 0, 0, 0, 0, 0, 1, 2, 2, 1, 2, 2, 0, 0, 0, 0, 0, 0, 1, 2, 2, 2, 0, 0, 0, 0, 0, 0, 0, 0, 0, 0, 0, 0, 0, 0, 0, 0, 0, 0, 0, 0, 0, 0, 0, 1, 2, 2, 2, 0, 0, 0, 0, 0, 0, 0, 0, 0, 0, 1, 2, 2, 0, 0, 0, 0, 0, 0, 0, 0, 0, 0, 0, 0, 0, 0, 0, 0, 0, 0, 0, 0, 0, 0, 0, 0, 0, 0, 2, 2, 1, 2, 2, 2, 2, 2, 2, 2, 2, 2, 2, 0, 0, 0, 0, 0, 0, 0, 0, 2, 2, 1, 2, 2, 2, 1, 0, 0, 0, 0, 0, 0, 0, 0, 0, 0, 0, 0, 0, 0, 0, 0, 0, 0, 0, 0, 0, 0, 0, 0, 0, 0, 0, 0, 0, 0, 0, 0, 0, 0, 0, 0, 0, 0, 0, 0, 0, 0, 0, 0, 0, 0, 0, 0, 0, 0, 0, 0, 0, 0, 0, 0, 0, 0, 0, 0, 0, 0, 0, 0, 0, 0, 0, 0, 0, 0, 0, 0, 0, 0, 0, 0, 0, 1, 2, 2, 1, 2, 2, 0, 0, 0, 0, 0, 0, 0, 0, 0, 0, 0, 0, 0, 0, 0, 0, 0, 0, 0, 0, 0, 0, 0, 1, 2, 2, 0, 0, 0, 0, 0, 0, 0, 0, 0, 0, 0, 0, 0, 0, 0, 0, 0, 0, 0, 0, 0, 0, 0, 0, 0, 0, 0, 0, 0, 0, 0, 0, 0, 0, 0, 0, 0, 0, 0, 0, 0, 0, 0, 0, 0, 0, 0, 0, 0, 0, 0, 0, 0, 0, 0, 0, 0, 0, 0, 0, 0, 0, 0, 0, 0, 0, 0, 0, 0, 0, 0, 0, 0, 0, 0, 0, 0, 0, 0, 0, 0, 0, 0, 0, 0, 0, 0, 0, 0, 2, 0, 1, 0, 0, 0, 0, 0, 0, 0, 0, 0, 0, 0, 0, 0, 0, 0, 0, 0, 0, 0, 0, 0, 0, 0, 0, 0, 0, 0, 0, 0, 0, 0, 0, 0, 0, 0, 0, 0, 0, 0, 0, 0, 0, 0, 0, 0, 0, 0, 0, 0, 0, 0, 0, 1, 2, 2, 0, 0, 0, 0, 0, 0, 0, 0, 0, 0, 0, 0, 0, 0, 0, 0, 0, 0, 1, 2, 2, 2, 2, 0, 0, 0, 0, 0, 0, 0, 0, 0, 0, 0, 0, 1, 2, 2, 1, 2, 2, 2, 2, 1, 2, 2, 2, 0, 0, 0, 0, 0, 0, 0, 0, 0, 0, 0, 0, 0, 0, 0, 0, 0, 0, 1, 2, 0, 0, 0, 0, 0, 0, 0, 0, 0, 0, 0, 0, 0, 0, 0, 0, 0, 0, 0, 0, 0, 0, 0, 0, 0, 0, 0, 0, 0, 0, 0, 0, 0, 0, 0, 0, 0, 0, 0, 0, 0, 0, 0, 0, 0, 0, 0, 0, 0, 0, 0, 0, 0, 0, 0, 0, 0, 0, 0, 0, 0, 0, 0, 0, 0, 0, 0, 0, 0, 0, 0, 0, 0, 0, 0, 0, 0, 0, 0, 0, 0, 0, 0, 0, 0, 0, 0, 0, 0, 0, 0, 0, 0, 0, 0, 0, 0, 0, 0, 0, 0, 0, 0, 3, 4, 4, 0, 0, 0, 0, 0, 0, 0, 0, 0, 0, 0, 0, 0, 0, 0, 0, 0, 0, 0, 0, 0, 0, 0, 0, 0, 0, 0, 0, 0, 0, 0, 0, 0, 0, 0, 0, 0, 0, 0, 0, 0, 0, 0, 0, 0, 0, 0, 0, 0, 0, 0, 0, 0, 0, 0, 0, 0, 0, 0, 0, 0, 0, 0, 0, 0, 0, 0, 0, 0, 0, 0, 0, 0, 0, 0, 0, 0, 0, 0, 0, 0, 0, 0, 0, 0, 0, 0, 1, 2, 2, 2, 2, 2, 2, 2, 2, 2, 2, 2, 2, 2, 0, 0, 0, 0, 0, 0, 0, 0, 0, 0, 0, 0, 0, 0, 0, 0, 0, 0, 0, 0, 0, 0, 0, 0, 0, 0, 0, 0, 0, 0, 0, 0, 0, 0, 0, 0, 0, 0, 0, 0, 0, 0, 0, 0, 0, 0, 0, 0, 0, 0, 0, 0, 0, 0, 0, 0, 0, 0, 0, 0, 0, 0, 0, 1, 2, 0, 0, 0, 0, 0, 0, 0, 0, 0, 0, 0, 0, 0, 0, 0, 0, 0, 0, 0, 0, 0, 0, 0, 0, 0, 0, 0, 0, 0, 0, 0, 0, 0, 0, 0, 0, 0, 0, 0, 0, 0, 0, 0, 0]\n"
          ]
        }
      ],
      "source": [
        "print(batch_inputs_indices)\n",
        "print(batch_labels_indices)"
      ]
    },
    {
      "attachments": {},
      "cell_type": "markdown",
      "metadata": {
        "id": "0HIyW1utXrhg"
      },
      "source": [
        "- Training loop"
      ]
    },
    {
      "cell_type": "code",
      "execution_count": 37,
      "metadata": {
        "id": "deeEean2wdyY"
      },
      "outputs": [],
      "source": [
        "num_epochs = 20"
      ]
    },
    {
      "attachments": {},
      "cell_type": "markdown",
      "metadata": {
        "id": "IpXXf98xwepp"
      },
      "source": [
        "We will track every run, so we can use Weights and Biases platform for generating plots and distinguish the best parameters for the model."
      ]
    },
    {
      "cell_type": "code",
      "execution_count": 38,
      "metadata": {
        "colab": {
          "base_uri": "https://localhost:8080/"
        },
        "id": "OGXmgdzUv-yE",
        "outputId": "e7685f7c-2448-4b18-dae4-e60bae3a6bfc"
      },
      "outputs": [
        {
          "data": {
            "text/plain": [
              "True"
            ]
          },
          "execution_count": 38,
          "metadata": {},
          "output_type": "execute_result"
        }
      ],
      "source": [
        "wandb.login()"
      ]
    },
    {
      "cell_type": "code",
      "execution_count": 44,
      "metadata": {
        "colab": {
          "base_uri": "https://localhost:8080/",
          "height": 105
        },
        "id": "CyE2uD8ju2B3",
        "outputId": "cd4ffcf4-8124-42ca-82e4-40a876e1aa14"
      },
      "outputs": [
        {
          "data": {
            "text/html": [
              "Tracking run with wandb version 0.15.3"
            ],
            "text/plain": [
              "<IPython.core.display.HTML object>"
            ]
          },
          "metadata": {},
          "output_type": "display_data"
        },
        {
          "data": {
            "text/html": [
              "Run data is saved locally in <code>/content/wandb/run-20230524_140959-dxcf6tve</code>"
            ],
            "text/plain": [
              "<IPython.core.display.HTML object>"
            ]
          },
          "metadata": {},
          "output_type": "display_data"
        },
        {
          "data": {
            "text/html": [
              "Syncing run <strong><a href='https://wandb.ai/juliagartor/natural_language/runs/dxcf6tve' target=\"_blank\">vibrant-plant-7</a></strong> to <a href='https://wandb.ai/juliagartor/natural_language' target=\"_blank\">Weights & Biases</a> (<a href='https://wandb.me/run' target=\"_blank\">docs</a>)<br/>"
            ],
            "text/plain": [
              "<IPython.core.display.HTML object>"
            ]
          },
          "metadata": {},
          "output_type": "display_data"
        },
        {
          "data": {
            "text/html": [
              " View project at <a href='https://wandb.ai/juliagartor/natural_language' target=\"_blank\">https://wandb.ai/juliagartor/natural_language</a>"
            ],
            "text/plain": [
              "<IPython.core.display.HTML object>"
            ]
          },
          "metadata": {},
          "output_type": "display_data"
        },
        {
          "data": {
            "text/html": [
              " View run at <a href='https://wandb.ai/juliagartor/natural_language/runs/dxcf6tve' target=\"_blank\">https://wandb.ai/juliagartor/natural_language/runs/dxcf6tve</a>"
            ],
            "text/plain": [
              "<IPython.core.display.HTML object>"
            ]
          },
          "metadata": {},
          "output_type": "display_data"
        }
      ],
      "source": [
        "wandb.init(project=\"natural_language\", entity = \"juliagartor\")\n",
        "\n",
        "# Log the hyperparameters\n",
        "config = {\n",
        "    \"num_epochs\": num_epochs,\n",
        "    \"batch_size\": batch_size,\n",
        "    \"embedding_dim\": embedding_dim,\n",
        "    \"hidden_dim\": hidden_dim,\n",
        "}\n",
        "wandb.config.update(config)"
      ]
    },
    {
      "cell_type": "code",
      "execution_count": 45,
      "metadata": {
        "colab": {
          "base_uri": "https://localhost:8080/"
        },
        "id": "J8o3y7xe06aa",
        "outputId": "ef449631-f1ab-43ef-f0d3-7de37863d98b"
      },
      "outputs": [
        {
          "name": "stdout",
          "output_type": "stream",
          "text": [
            "Epoch 1/20, Loss: 1.001940102443187\n",
            "Epoch 2/20, Loss: 0.9971077428722875\n",
            "Epoch 3/20, Loss: 0.9971199985924204\n",
            "Epoch 4/20, Loss: 0.9970979138371154\n",
            "Epoch 5/20, Loss: 0.9971053947049838\n",
            "Epoch 6/20, Loss: 0.9803809672814502\n",
            "Epoch 7/20, Loss: 0.9463695228849289\n",
            "Epoch 8/20, Loss: 0.9422359818581646\n",
            "Epoch 9/20, Loss: 0.9394400198475497\n",
            "Epoch 10/20, Loss: 0.9380821720118353\n",
            "Epoch 11/20, Loss: 0.9356967684256254\n",
            "Epoch 12/20, Loss: 0.9344849545927443\n",
            "Epoch 13/20, Loss: 0.9334576778202015\n",
            "Epoch 14/20, Loss: 0.9332099552514285\n",
            "Epoch 15/20, Loss: 0.9323485762586255\n",
            "Epoch 16/20, Loss: 0.932070633760218\n",
            "Epoch 17/20, Loss: 0.9315155279883266\n",
            "Epoch 18/20, Loss: 0.9309788120127994\n",
            "Epoch 19/20, Loss: 0.9304590942283001\n",
            "Epoch 20/20, Loss: 0.9300242335089213\n"
          ]
        }
      ],
      "source": [
        "for epoch in range(num_epochs):\n",
        "\n",
        "    model.train()\n",
        "\n",
        "    running_loss = 0.0\n",
        "\n",
        "    for batch_inputs, batch_labels in train_dataloader:\n",
        "\n",
        "        batch_inputs_indices.clear()\n",
        "        batch_labels_indices.clear()\n",
        "\n",
        "        for token in batch_inputs:\n",
        "          batch_inputs_indices.append(dataset.word_to_index(token))\n",
        "\n",
        "        for label in batch_labels:\n",
        "            batch_labels_indices.append(dataset.label_to_index(label))\n",
        "        \n",
        "        #print(batch_inputs_indices)\n",
        "        #print(batch_labels_indices)\n",
        "\n",
        "        # Convert batch inputs and labels to tensors\n",
        "        batch_inputs_tensor = torch.tensor(batch_inputs_indices)\n",
        "        batch_labels_tensor = torch.tensor(batch_labels_indices)\n",
        "\n",
        "        # Zero the gradients\n",
        "        optimizer.zero_grad()\n",
        "\n",
        "        # Forward pass\n",
        "        outputs = model(batch_inputs_tensor)\n",
        "\n",
        "        # Compute the loss\n",
        "        loss = criterion(outputs, batch_labels_tensor)\n",
        "\n",
        "        # Backward pass\n",
        "        loss.backward()\n",
        "\n",
        "        # Update the model parameters\n",
        "        optimizer.step()\n",
        "\n",
        "        # Accumulate the loss\n",
        "        running_loss += loss.item()\n",
        "\n",
        "    # Calculate the average loss for the epoch\n",
        "    average_loss = running_loss / len(train_dataloader)\n",
        "\n",
        "    # Log the loss for the current epoch\n",
        "    wandb.log({\"Loss\": average_loss})\n",
        "\n",
        "    # Print the average loss for the epoch\n",
        "    print(f\"Epoch {epoch+1}/{num_epochs}, Loss: {average_loss}\")\n"
      ]
    },
    {
      "attachments": {},
      "cell_type": "markdown",
      "metadata": {
        "id": "m7Cu1J3Y38q9"
      },
      "source": [
        "- Evaluation"
      ]
    },
    {
      "cell_type": "code",
      "execution_count": 46,
      "metadata": {
        "colab": {
          "base_uri": "https://localhost:8080/",
          "height": 727
        },
        "id": "o3GJTds7_r50",
        "outputId": "187b324a-b9c7-40f4-faa5-c78b8ce1934f"
      },
      "outputs": [
        {
          "data": {
            "image/png": "[encoded data removed]",
            "text/plain": [
              "<Figure size 640x480 with 2 Axes>"
            ]
          },
          "metadata": {},
          "output_type": "display_data"
        },
        {
          "name": "stdout",
          "output_type": "stream",
          "text": [
            "Accuracy: 96.78%\n",
            "Classification Report:\n",
            "              precision    recall  f1-score   support\n",
            "\n",
            "         NEG       0.97      0.85      0.90      3500\n",
            "        NSCO       0.82      0.87      0.84     10571\n",
            "           O       0.98      0.99      0.98    157076\n",
            "         UNC       1.00      0.00      0.01       497\n",
            "        USCO       0.00      0.00      0.00      1399\n",
            "\n",
            "    accuracy                           0.97    173043\n",
            "   macro avg       0.75      0.54      0.55    173043\n",
            "weighted avg       0.96      0.97      0.96    173043\n",
            "\n"
          ]
        }
      ],
      "source": [
        "#wandb.init(project=\"natural_language\", entity = \"juliagartor\")\n",
        "\n",
        "model.eval()  # Set the model to evaluation mode\n",
        "\n",
        "all_val_labels = []\n",
        "all_predicted_labels = []\n",
        "\n",
        "for val_inputs, val_labels in val_dataloader:\n",
        "    batch_inputs_indices.clear()\n",
        "    batch_labels_indices.clear()\n",
        "\n",
        "    for token in val_inputs:\n",
        "        batch_inputs_indices.append(dataset.word_to_index(token))\n",
        "\n",
        "    for label in val_labels:\n",
        "        batch_labels_indices.append(dataset.label_to_index(label))\n",
        "\n",
        "    # Convert batch inputs to a tensor\n",
        "    batch_inputs_tensor = torch.tensor(batch_inputs_indices)\n",
        "\n",
        "    # Forward pass\n",
        "    outputs = model(batch_inputs_tensor)\n",
        "\n",
        "    # Get the predicted labels\n",
        "    _, predicted_indices = torch.max(outputs, 1)\n",
        "\n",
        "    # Convert predicted indices to label format\n",
        "    predicted_labels = [dataset.index_to_label(index) for index in predicted_indices]\n",
        "\n",
        "    # Accumulate the labels and predictions\n",
        "    all_val_labels.extend(val_labels)\n",
        "    all_predicted_labels.extend(predicted_labels)\n",
        "\n",
        "# Convert labels to numpy arrays\n",
        "val_labels_array = np.array(all_val_labels)\n",
        "predicted_labels_array = np.array(all_predicted_labels)\n",
        "\n",
        "# Calculate the confusion matrix\n",
        "cm = confusion_matrix(val_labels_array, predicted_labels_array)\n",
        "\n",
        "# Calculate accuracy\n",
        "accuracy = np.sum(np.diag(cm)) / np.sum(cm)\n",
        "\n",
        "wandb.log({\"Accuracy\": accuracy})\n",
        "\n",
        "disp = ConfusionMatrixDisplay(confusion_matrix=cm, display_labels=[\"NEG\",\"NCSO\",\"O\",\"UNC\",\"USCO\"])\n",
        "disp.plot()\n",
        "plt.title(\"Confusion Matrix\")\n",
        "plt.show()\n",
        "\n",
        "# Print accuracy\n",
        "print(\"Accuracy: {:.2f}%\".format(accuracy * 100))\n",
        "\n",
        "# Print classification report\n",
        "print(\"Classification Report:\")\n",
        "print(classification_report(val_labels_array, predicted_labels_array,zero_division=0))"
      ]
    },
    {
      "cell_type": "code",
      "execution_count": 47,
      "metadata": {
        "colab": {
          "base_uri": "https://localhost:8080/",
          "height": 227
        },
        "id": "3Dw3Zcsa0Ctg",
        "outputId": "58bbb2e1-8d61-42eb-cc80-da95712ce5c4"
      },
      "outputs": [
        {
          "data": {
            "text/html": [
              "Waiting for W&B process to finish... <strong style=\"color:green\">(success).</strong>"
            ],
            "text/plain": [
              "<IPython.core.display.HTML object>"
            ]
          },
          "metadata": {},
          "output_type": "display_data"
        },
        {
          "data": {
            "text/html": [
              "<style>\n",
              "    table.wandb td:nth-child(1) { padding: 0 10px; text-align: left ; width: auto;} td:nth-child(2) {text-align: left ; width: 100%}\n",
              "    .wandb-row { display: flex; flex-direction: row; flex-wrap: wrap; justify-content: flex-start; width: 100% }\n",
              "    .wandb-col { display: flex; flex-direction: column; flex-basis: 100%; flex: 1; padding: 10px; }\n",
              "    </style>\n",
              "<div class=\"wandb-row\"><div class=\"wandb-col\"><h3>Run history:</h3><br/><table class=\"wandb\"><tr><td>Accuracy</td><td>▁</td></tr><tr><td>Loss</td><td>█████▆▃▂▂▂▂▁▁▁▁▁▁▁▁▁</td></tr></table><br/></div><div class=\"wandb-col\"><h3>Run summary:</h3><br/><table class=\"wandb\"><tr><td>Accuracy</td><td>0.96783</td></tr><tr><td>Loss</td><td>0.93002</td></tr></table><br/></div></div>"
            ],
            "text/plain": [
              "<IPython.core.display.HTML object>"
            ]
          },
          "metadata": {},
          "output_type": "display_data"
        },
        {
          "data": {
            "text/html": [
              " View run <strong style=\"color:#cdcd00\">vibrant-plant-7</strong> at: <a href='https://wandb.ai/juliagartor/natural_language/runs/dxcf6tve' target=\"_blank\">https://wandb.ai/juliagartor/natural_language/runs/dxcf6tve</a><br/>Synced 5 W&B file(s), 0 media file(s), 0 artifact file(s) and 0 other file(s)"
            ],
            "text/plain": [
              "<IPython.core.display.HTML object>"
            ]
          },
          "metadata": {},
          "output_type": "display_data"
        },
        {
          "data": {
            "text/html": [
              "Find logs at: <code>./wandb/run-20230524_140959-dxcf6tve/logs</code>"
            ],
            "text/plain": [
              "<IPython.core.display.HTML object>"
            ]
          },
          "metadata": {},
          "output_type": "display_data"
        }
      ],
      "source": [
        "wandb.finish()"
      ]
    },
    {
      "attachments": {},
      "cell_type": "markdown",
      "metadata": {
        "id": "LFW6F3BdTleH"
      },
      "source": [
        "- Problems and solutions\n",
        "\n",
        "As it was mentioned in the previous section, we cannot relay on the accuracy. So, we will recompute the loss to put more emphasis in the classes that we want our model to be able to classify better."
      ]
    },
    {
      "cell_type": "code",
      "execution_count": null,
      "metadata": {},
      "outputs": [],
      "source": [
        "batch_size = 64\n",
        "embedding_dim = 100\n",
        "hidden_dim = 150\n",
        "num_classes = 5  # NEG, UNC, NSCO, USCO, and O."
      ]
    },
    {
      "cell_type": "code",
      "execution_count": null,
      "metadata": {},
      "outputs": [],
      "source": [
        "wandb.login()"
      ]
    },
    {
      "cell_type": "code",
      "execution_count": null,
      "metadata": {},
      "outputs": [],
      "source": [
        "wandb.init(project=\"natural_language\", entity = \"juliagartor\")\n",
        "\n",
        "# Log the hyperparameters\n",
        "config = {\n",
        "    \"num_epochs\": num_epochs,\n",
        "    \"batch_size\": batch_size,\n",
        "    \"embedding_dim\": embedding_dim,\n",
        "    \"hidden_dim\": hidden_dim,\n",
        "}\n",
        "wandb.config.update(config)"
      ]
    },
    {
      "cell_type": "code",
      "execution_count": null,
      "metadata": {},
      "outputs": [],
      "source": [
        "criterion_specific = nn.CrossEntropyLoss(ignore_index = 2)\n",
        "criterion_full = nn.CrossEntropyLoss()"
      ]
    },
    {
      "cell_type": "code",
      "execution_count": null,
      "metadata": {},
      "outputs": [],
      "source": [
        "for epoch in range(num_epochs):\n",
        "\n",
        "    model.train()\n",
        "\n",
        "    running_loss = 0.0\n",
        "\n",
        "    for batch_inputs, batch_labels in train_dataloader:\n",
        "\n",
        "        batch_inputs_indices.clear()\n",
        "        batch_labels_indices.clear()\n",
        "\n",
        "        for token in batch_inputs:\n",
        "          batch_inputs_indices.append(dataset.word_to_index(token))\n",
        "\n",
        "        for label in batch_labels:\n",
        "            batch_labels_indices.append(dataset.label_to_index(label))\n",
        "        \n",
        "        #print(batch_inputs_indices)\n",
        "        #print(batch_labels_indices)\n",
        "\n",
        "        # Convert batch inputs and labels to tensors\n",
        "        batch_inputs_tensor = torch.tensor(batch_inputs_indices)\n",
        "        batch_labels_tensor = torch.tensor(batch_labels_indices)\n",
        "\n",
        "        # Zero the gradients\n",
        "        optimizer.zero_grad()\n",
        "\n",
        "        # Forward pass\n",
        "        outputs = model(batch_inputs_tensor)\n",
        "\n",
        "        # Compute the loss\n",
        "        loss_full = criterion_full(outputs, batch_labels_tensor)\n",
        "        loss_specific = criterion_specific(outputs, batch_labels_tensor)\n",
        "        loss = loss_full*0.2 + loss_specific*0.8\n",
        "\n",
        "        # Backward pass\n",
        "        loss.backward()\n",
        "\n",
        "        # Update the model parameters\n",
        "        optimizer.step()\n",
        "\n",
        "        # Accumulate the loss\n",
        "        running_loss += loss.item()\n",
        "\n",
        "    # Calculate the average loss for the epoch\n",
        "    average_loss = running_loss / len(train_dataloader)\n",
        "\n",
        "    # Log the loss for the current epoch\n",
        "    wandb.log({\"Loss\": average_loss})\n",
        "\n",
        "    # Print the average loss for the epoch\n",
        "    print(f\"Epoch {epoch+1}/{num_epochs}, Loss: {average_loss}\")\n"
      ]
    },
    {
      "cell_type": "code",
      "execution_count": null,
      "metadata": {},
      "outputs": [],
      "source": [
        "#wandb.init(project=\"natural_language\", entity = \"juliagartor\")\n",
        "\n",
        "model.eval()  # Set the model to evaluation mode\n",
        "\n",
        "all_val_labels = []\n",
        "all_predicted_labels = []\n",
        "\n",
        "for val_inputs, val_labels in val_dataloader:\n",
        "    batch_inputs_indices.clear()\n",
        "    batch_labels_indices.clear()\n",
        "\n",
        "    for token in val_inputs:\n",
        "        batch_inputs_indices.append(dataset.word_to_index(token))\n",
        "\n",
        "    for label in val_labels:\n",
        "        batch_labels_indices.append(dataset.label_to_index(label))\n",
        "\n",
        "    # Convert batch inputs to a tensor\n",
        "    batch_inputs_tensor = torch.tensor(batch_inputs_indices)\n",
        "\n",
        "    # Forward pass\n",
        "    outputs = model(batch_inputs_tensor)\n",
        "\n",
        "    # Get the predicted labels\n",
        "    _, predicted_indices = torch.max(outputs, 1)\n",
        "\n",
        "    # Convert predicted indices to label format\n",
        "    predicted_labels = [dataset.index_to_label(index) for index in predicted_indices]\n",
        "\n",
        "    # Accumulate the labels and predictions\n",
        "    all_val_labels.extend(val_labels)\n",
        "    all_predicted_labels.extend(predicted_labels)\n",
        "\n",
        "# Convert labels to numpy arrays\n",
        "val_labels_array = np.array(all_val_labels)\n",
        "predicted_labels_array = np.array(all_predicted_labels)\n",
        "\n",
        "# Calculate the confusion matrix\n",
        "cm = confusion_matrix(val_labels_array, predicted_labels_array)\n",
        "\n",
        "# Calculate accuracy\n",
        "accuracy = np.sum(np.diag(cm)) / np.sum(cm)\n",
        "\n",
        "wandb.log({\"Accuracy\": accuracy})\n",
        "\n",
        "disp = ConfusionMatrixDisplay(confusion_matrix=cm, display_labels=[\"NEG\",\"NCSO\",\"O\",\"UNC\",\"USCO\"])\n",
        "disp.plot()\n",
        "plt.title(\"Confusion Matrix\")\n",
        "plt.show()\n",
        "\n",
        "# Print accuracy\n",
        "print(\"Accuracy: {:.2f}%\".format(accuracy * 100))\n",
        "\n",
        "# Print classification report\n",
        "print(\"Classification Report:\")\n",
        "print(classification_report(val_labels_array, predicted_labels_array,zero_division=0))"
      ]
    },
    {
      "cell_type": "code",
      "execution_count": null,
      "metadata": {},
      "outputs": [],
      "source": [
        "wandb.finish()"
      ]
    },
    {
      "attachments": {},
      "cell_type": "markdown",
      "metadata": {
        "id": "hXmTP1daU-Gc"
      },
      "source": [
        "### $\\color{palevioletred}{\\text{(3) Third attempt: Finetuning BERT for NER}}$\n"
      ]
    },
    {
      "attachments": {},
      "cell_type": "markdown",
      "metadata": {
        "id": "HgFboMzGVvoi"
      },
      "source": [
        "---\n",
        "\n",
        "## Conclusions\n",
        "\n",
        "---"
      ]
    }
  ],
  "metadata": {
    "colab": {
      "provenance": []
    },
    "kernelspec": {
      "display_name": "Python 3",
      "name": "python3"
    },
    "language_info": {
      "codemirror_mode": {
        "name": "ipython",
        "version": 3
      },
      "file_extension": ".py",
      "mimetype": "text/x-python",
      "name": "python",
      "nbconvert_exporter": "python",
      "pygments_lexer": "ipython3",
      "version": "3.9.13"
    }
  },
  "nbformat": 4,
  "nbformat_minor": 0
}
